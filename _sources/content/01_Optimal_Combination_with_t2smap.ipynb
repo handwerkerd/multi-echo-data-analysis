{
 "cells": [
  {
   "cell_type": "markdown",
   "id": "ba55034d",
   "metadata": {},
   "source": [
    "# Optimal combination with `t2smap`\n",
    "\n",
    "Use `t2smap` {cite:p}`DuPre2021` to combine data."
   ]
  },
  {
   "cell_type": "code",
   "execution_count": 1,
   "id": "4814922e",
   "metadata": {},
   "outputs": [
    {
     "name": "stdout",
     "output_type": "stream",
     "text": [
      "---- repo2data starting ----\n",
      "/opt/hostedtoolcache/Python/3.10.17/x64/lib/python3.10/site-packages/repo2data\n",
      "Config from file :\n",
      "../binder/data_requirement.json\n",
      "Destination:\n",
      "./../data/multi-echo-data-analysis\n",
      "\n",
      "Info : ./../data/multi-echo-data-analysis already downloaded\n"
     ]
    },
    {
     "name": "stderr",
     "output_type": "stream",
     "text": [
      "/opt/hostedtoolcache/Python/3.10.17/x64/lib/python3.10/site-packages/tqdm/auto.py:21: TqdmWarning: IProgress not found. Please update jupyter and ipywidgets. See https://ipywidgets.readthedocs.io/en/stable/user_install.html\n",
      "  from .autonotebook import tqdm as notebook_tqdm\n"
     ]
    }
   ],
   "source": [
    "import os\n",
    "from glob import glob\n",
    "\n",
    "import matplotlib.pyplot as plt\n",
    "import numpy as np\n",
    "from myst_nb import glue\n",
    "from nilearn import image, plotting\n",
    "from repo2data.repo2data import Repo2Data\n",
    "from tedana import workflows\n",
    "\n",
    "# Install the data if running locally, or point to cached data if running on neurolibre\n",
    "DATA_REQ_FILE = os.path.join(\"../binder/data_requirement.json\")\n",
    "\n",
    "# Download data\n",
    "repo2data = Repo2Data(DATA_REQ_FILE)\n",
    "data_path = repo2data.install()\n",
    "data_path = os.path.abspath(data_path[0])"
   ]
  },
  {
   "cell_type": "code",
   "execution_count": 2,
   "id": "23317f21",
   "metadata": {},
   "outputs": [],
   "source": [
    "func_dir = os.path.join(data_path, \"func/\")\n",
    "data_files = [\n",
    "    os.path.join(\n",
    "        func_dir,\n",
    "        \"sub-04570_task-rest_echo-1_space-scanner_desc-partialPreproc_bold.nii.gz\",\n",
    "    ),\n",
    "    os.path.join(\n",
    "        func_dir,\n",
    "        \"sub-04570_task-rest_echo-2_space-scanner_desc-partialPreproc_bold.nii.gz\",\n",
    "    ),\n",
    "    os.path.join(\n",
    "        func_dir,\n",
    "        \"sub-04570_task-rest_echo-3_space-scanner_desc-partialPreproc_bold.nii.gz\",\n",
    "    ),\n",
    "    os.path.join(\n",
    "        func_dir,\n",
    "        \"sub-04570_task-rest_echo-4_space-scanner_desc-partialPreproc_bold.nii.gz\",\n",
    "    ),\n",
    "]\n",
    "echo_times = [12.0, 28.0, 44.0, 60.0]\n",
    "mask_file = os.path.join(\n",
    "    func_dir, \"sub-04570_task-rest_space-scanner_desc-brain_mask.nii.gz\"\n",
    ")\n",
    "confounds_file = os.path.join(\n",
    "    func_dir, \"sub-04570_task-rest_desc-confounds_timeseries.tsv\"\n",
    ")\n",
    "\n",
    "out_dir = os.path.join(data_path, \"t2smap\")"
   ]
  },
  {
   "cell_type": "code",
   "execution_count": 3,
   "id": "63c4a007",
   "metadata": {},
   "outputs": [
    {
     "name": "stderr",
     "output_type": "stream",
     "text": [
      "INFO     t2smap:t2smap_workflow:300 Using output directory: /home/runner/work/multi-echo-data-analysis/multi-echo-data-analysis/data/multi-echo-data-analysis/t2smap\n"
     ]
    },
    {
     "name": "stderr",
     "output_type": "stream",
     "text": [
      "INFO     t2smap:t2smap_workflow:326 Loading input data: ['/home/runner/work/multi-echo-data-analysis/multi-echo-data-analysis/data/multi-echo-data-analysis/func/sub-04570_task-rest_echo-1_space-scanner_desc-partialPreproc_bold.nii.gz', '/home/runner/work/multi-echo-data-analysis/multi-echo-data-analysis/data/multi-echo-data-analysis/func/sub-04570_task-rest_echo-2_space-scanner_desc-partialPreproc_bold.nii.gz', '/home/runner/work/multi-echo-data-analysis/multi-echo-data-analysis/data/multi-echo-data-analysis/func/sub-04570_task-rest_echo-3_space-scanner_desc-partialPreproc_bold.nii.gz', '/home/runner/work/multi-echo-data-analysis/multi-echo-data-analysis/data/multi-echo-data-analysis/func/sub-04570_task-rest_echo-4_space-scanner_desc-partialPreproc_bold.nii.gz']\n"
     ]
    },
    {
     "name": "stderr",
     "output_type": "stream",
     "text": [
      "INFO     t2smap:t2smap_workflow:348 Using user-defined mask\n"
     ]
    },
    {
     "name": "stderr",
     "output_type": "stream",
     "text": [
      "INFO     utils:make_adaptive_mask:202 Echo-wise intensity thresholds for adaptive mask: [258.33994278 180.98638476 134.6796175   91.51006253]\n"
     ]
    },
    {
     "name": "stderr",
     "output_type": "stream",
     "text": [
      "WARNING  utils:make_adaptive_mask:231 734 voxels in user-defined mask do not have good signal. Removing voxels from mask.\n"
     ]
    },
    {
     "name": "stderr",
     "output_type": "stream",
     "text": [
      "INFO     t2smap:t2smap_workflow:357 Computing adaptive T2* map\n"
     ]
    },
    {
     "name": "stderr",
     "output_type": "stream",
     "text": [
      "\r",
      "2-echo monoexponential:   0%|          | 0/2224 [00:00<?, ?it/s]"
     ]
    },
    {
     "name": "stderr",
     "output_type": "stream",
     "text": [
      "\r",
      "2-echo monoexponential:   3%|▎         | 65/2224 [00:00<00:03, 645.17it/s]"
     ]
    },
    {
     "name": "stderr",
     "output_type": "stream",
     "text": [
      "\r",
      "2-echo monoexponential:   7%|▋         | 148/2224 [00:00<00:02, 749.28it/s]"
     ]
    },
    {
     "name": "stderr",
     "output_type": "stream",
     "text": [
      "\r",
      "2-echo monoexponential:  10%|█         | 231/2224 [00:00<00:02, 785.02it/s]"
     ]
    },
    {
     "name": "stderr",
     "output_type": "stream",
     "text": [
      "\r",
      "2-echo monoexponential:  14%|█▍        | 316/2224 [00:00<00:02, 809.63it/s]"
     ]
    },
    {
     "name": "stderr",
     "output_type": "stream",
     "text": [
      "\r",
      "2-echo monoexponential:  18%|█▊        | 398/2224 [00:00<00:02, 813.19it/s]"
     ]
    },
    {
     "name": "stderr",
     "output_type": "stream",
     "text": [
      "\r",
      "2-echo monoexponential:  22%|██▏       | 480/2224 [00:00<00:02, 809.12it/s]"
     ]
    },
    {
     "name": "stderr",
     "output_type": "stream",
     "text": [
      "\r",
      "2-echo monoexponential:  25%|██▌       | 564/2224 [00:00<00:02, 817.06it/s]"
     ]
    },
    {
     "name": "stderr",
     "output_type": "stream",
     "text": [
      "\r",
      "2-echo monoexponential:  29%|██▉       | 646/2224 [00:00<00:01, 812.87it/s]"
     ]
    },
    {
     "name": "stderr",
     "output_type": "stream",
     "text": [
      "\r",
      "2-echo monoexponential:  33%|███▎      | 728/2224 [00:00<00:01, 807.08it/s]"
     ]
    },
    {
     "name": "stderr",
     "output_type": "stream",
     "text": [
      "\r",
      "2-echo monoexponential:  36%|███▋      | 809/2224 [00:01<00:01, 807.90it/s]"
     ]
    },
    {
     "name": "stderr",
     "output_type": "stream",
     "text": [
      "\r",
      "2-echo monoexponential:  40%|████      | 891/2224 [00:01<00:01, 810.89it/s]"
     ]
    },
    {
     "name": "stderr",
     "output_type": "stream",
     "text": [
      "\r",
      "2-echo monoexponential:  44%|████▍     | 973/2224 [00:01<00:01, 805.09it/s]"
     ]
    },
    {
     "name": "stderr",
     "output_type": "stream",
     "text": [
      "\r",
      "2-echo monoexponential:  47%|████▋     | 1055/2224 [00:01<00:01, 808.83it/s]"
     ]
    },
    {
     "name": "stderr",
     "output_type": "stream",
     "text": [
      "\r",
      "2-echo monoexponential:  51%|█████     | 1139/2224 [00:01<00:01, 817.88it/s]"
     ]
    },
    {
     "name": "stderr",
     "output_type": "stream",
     "text": [
      "\r",
      "2-echo monoexponential:  55%|█████▍    | 1221/2224 [00:01<00:01, 817.24it/s]"
     ]
    },
    {
     "name": "stderr",
     "output_type": "stream",
     "text": [
      "\r",
      "2-echo monoexponential:  59%|█████▊    | 1305/2224 [00:01<00:01, 822.45it/s]"
     ]
    },
    {
     "name": "stderr",
     "output_type": "stream",
     "text": [
      "\r",
      "2-echo monoexponential:  62%|██████▏   | 1388/2224 [00:01<00:01, 821.27it/s]"
     ]
    },
    {
     "name": "stderr",
     "output_type": "stream",
     "text": [
      "\r",
      "2-echo monoexponential:  66%|██████▌   | 1471/2224 [00:01<00:00, 822.12it/s]"
     ]
    },
    {
     "name": "stderr",
     "output_type": "stream",
     "text": [
      "\r",
      "2-echo monoexponential:  70%|██████▉   | 1554/2224 [00:01<00:00, 820.12it/s]"
     ]
    },
    {
     "name": "stderr",
     "output_type": "stream",
     "text": [
      "\r",
      "2-echo monoexponential:  74%|███████▎  | 1637/2224 [00:02<00:00, 820.69it/s]"
     ]
    },
    {
     "name": "stderr",
     "output_type": "stream",
     "text": [
      "\r",
      "2-echo monoexponential:  77%|███████▋  | 1720/2224 [00:02<00:00, 820.94it/s]"
     ]
    },
    {
     "name": "stderr",
     "output_type": "stream",
     "text": [
      "\r",
      "2-echo monoexponential:  81%|████████  | 1806/2224 [00:02<00:00, 830.13it/s]"
     ]
    },
    {
     "name": "stderr",
     "output_type": "stream",
     "text": [
      "\r",
      "2-echo monoexponential:  85%|████████▌ | 1892/2224 [00:02<00:00, 835.95it/s]"
     ]
    },
    {
     "name": "stderr",
     "output_type": "stream",
     "text": [
      "\r",
      "2-echo monoexponential:  89%|████████▉ | 1978/2224 [00:02<00:00, 840.97it/s]"
     ]
    },
    {
     "name": "stderr",
     "output_type": "stream",
     "text": [
      "\r",
      "2-echo monoexponential:  93%|█████████▎| 2063/2224 [00:02<00:00, 641.95it/s]"
     ]
    },
    {
     "name": "stderr",
     "output_type": "stream",
     "text": [
      "\r",
      "2-echo monoexponential:  96%|█████████▋| 2144/2224 [00:02<00:00, 681.54it/s]"
     ]
    },
    {
     "name": "stderr",
     "output_type": "stream",
     "text": [
      "\r",
      "2-echo monoexponential: 100%|██████████| 2224/2224 [00:02<00:00, 786.21it/s]"
     ]
    },
    {
     "name": "stderr",
     "output_type": "stream",
     "text": [
      "\n"
     ]
    },
    {
     "name": "stderr",
     "output_type": "stream",
     "text": [
      "\r",
      "3-echo monoexponential:   0%|          | 0/1092 [00:00<?, ?it/s]"
     ]
    },
    {
     "name": "stderr",
     "output_type": "stream",
     "text": [
      "\r",
      "3-echo monoexponential:   5%|▍         | 51/1092 [00:00<00:02, 509.11it/s]"
     ]
    },
    {
     "name": "stderr",
     "output_type": "stream",
     "text": [
      "\r",
      "3-echo monoexponential:  10%|▉         | 105/1092 [00:00<00:01, 525.73it/s]"
     ]
    },
    {
     "name": "stderr",
     "output_type": "stream",
     "text": [
      "\r",
      "3-echo monoexponential:  15%|█▍        | 160/1092 [00:00<00:01, 536.27it/s]"
     ]
    },
    {
     "name": "stderr",
     "output_type": "stream",
     "text": [
      "\r",
      "3-echo monoexponential:  20%|█▉        | 215/1092 [00:00<00:01, 538.89it/s]"
     ]
    },
    {
     "name": "stderr",
     "output_type": "stream",
     "text": [
      "\r",
      "3-echo monoexponential:  25%|██▍       | 269/1092 [00:00<00:01, 530.89it/s]"
     ]
    },
    {
     "name": "stderr",
     "output_type": "stream",
     "text": [
      "\r",
      "3-echo monoexponential:  30%|██▉       | 323/1092 [00:00<00:01, 529.54it/s]"
     ]
    },
    {
     "name": "stderr",
     "output_type": "stream",
     "text": [
      "\r",
      "3-echo monoexponential:  34%|███▍      | 376/1092 [00:00<00:01, 519.19it/s]"
     ]
    },
    {
     "name": "stderr",
     "output_type": "stream",
     "text": [
      "\r",
      "3-echo monoexponential:  39%|███▉      | 428/1092 [00:00<00:01, 485.18it/s]"
     ]
    },
    {
     "name": "stderr",
     "output_type": "stream",
     "text": [
      "\r",
      "3-echo monoexponential:  44%|████▍     | 485/1092 [00:00<00:01, 508.26it/s]"
     ]
    },
    {
     "name": "stderr",
     "output_type": "stream",
     "text": [
      "\r",
      "3-echo monoexponential:  49%|████▉     | 538/1092 [00:01<00:01, 509.77it/s]"
     ]
    },
    {
     "name": "stderr",
     "output_type": "stream",
     "text": [
      "\r",
      "3-echo monoexponential:  54%|█████▍    | 590/1092 [00:01<00:00, 511.59it/s]"
     ]
    },
    {
     "name": "stderr",
     "output_type": "stream",
     "text": [
      "\r",
      "3-echo monoexponential:  59%|█████▉    | 645/1092 [00:01<00:00, 522.03it/s]"
     ]
    },
    {
     "name": "stderr",
     "output_type": "stream",
     "text": [
      "\r",
      "3-echo monoexponential:  64%|██████▍   | 699/1092 [00:01<00:00, 525.32it/s]"
     ]
    },
    {
     "name": "stderr",
     "output_type": "stream",
     "text": [
      "\r",
      "3-echo monoexponential:  69%|██████▉   | 752/1092 [00:01<00:00, 517.54it/s]"
     ]
    },
    {
     "name": "stderr",
     "output_type": "stream",
     "text": [
      "\r",
      "3-echo monoexponential:  74%|███████▎  | 804/1092 [00:01<00:00, 513.11it/s]"
     ]
    },
    {
     "name": "stderr",
     "output_type": "stream",
     "text": [
      "\r",
      "3-echo monoexponential:  78%|███████▊  | 856/1092 [00:01<00:00, 515.09it/s]"
     ]
    },
    {
     "name": "stderr",
     "output_type": "stream",
     "text": [
      "\r",
      "3-echo monoexponential:  83%|████████▎ | 911/1092 [00:01<00:00, 522.92it/s]"
     ]
    },
    {
     "name": "stderr",
     "output_type": "stream",
     "text": [
      "\r",
      "3-echo monoexponential:  89%|████████▊ | 967/1092 [00:01<00:00, 530.62it/s]"
     ]
    },
    {
     "name": "stderr",
     "output_type": "stream",
     "text": [
      "\r",
      "3-echo monoexponential:  93%|█████████▎| 1021/1092 [00:01<00:00, 531.66it/s]"
     ]
    },
    {
     "name": "stderr",
     "output_type": "stream",
     "text": [
      "\r",
      "3-echo monoexponential:  98%|█████████▊| 1075/1092 [00:02<00:00, 527.41it/s]"
     ]
    },
    {
     "name": "stderr",
     "output_type": "stream",
     "text": [
      "\r",
      "3-echo monoexponential: 100%|██████████| 1092/1092 [00:02<00:00, 521.31it/s]"
     ]
    },
    {
     "name": "stderr",
     "output_type": "stream",
     "text": [
      "\n"
     ]
    },
    {
     "name": "stderr",
     "output_type": "stream",
     "text": [
      "\r",
      "4-echo monoexponential:   0%|          | 0/20176 [00:00<?, ?it/s]"
     ]
    },
    {
     "name": "stderr",
     "output_type": "stream",
     "text": [
      "\r",
      "4-echo monoexponential:   0%|          | 55/20176 [00:00<00:37, 539.43it/s]"
     ]
    },
    {
     "name": "stderr",
     "output_type": "stream",
     "text": [
      "\r",
      "4-echo monoexponential:   1%|          | 112/20176 [00:00<00:36, 553.08it/s]"
     ]
    },
    {
     "name": "stderr",
     "output_type": "stream",
     "text": [
      "\r",
      "4-echo monoexponential:   1%|          | 175/20176 [00:00<00:34, 583.74it/s]"
     ]
    },
    {
     "name": "stderr",
     "output_type": "stream",
     "text": [
      "\r",
      "4-echo monoexponential:   1%|          | 235/20176 [00:00<00:33, 589.40it/s]"
     ]
    },
    {
     "name": "stderr",
     "output_type": "stream",
     "text": [
      "\r",
      "4-echo monoexponential:   1%|▏         | 294/20176 [00:00<00:33, 584.97it/s]"
     ]
    },
    {
     "name": "stderr",
     "output_type": "stream",
     "text": [
      "\r",
      "4-echo monoexponential:   2%|▏         | 358/20176 [00:00<00:32, 603.06it/s]"
     ]
    },
    {
     "name": "stderr",
     "output_type": "stream",
     "text": [
      "\r",
      "4-echo monoexponential:   2%|▏         | 419/20176 [00:00<00:33, 593.41it/s]"
     ]
    },
    {
     "name": "stderr",
     "output_type": "stream",
     "text": [
      "\r",
      "4-echo monoexponential:   2%|▏         | 482/20176 [00:00<00:32, 603.17it/s]"
     ]
    },
    {
     "name": "stderr",
     "output_type": "stream",
     "text": [
      "\r",
      "4-echo monoexponential:   3%|▎         | 544/20176 [00:00<00:32, 608.08it/s]"
     ]
    },
    {
     "name": "stderr",
     "output_type": "stream",
     "text": [
      "\r",
      "4-echo monoexponential:   3%|▎         | 605/20176 [00:01<00:32, 604.14it/s]"
     ]
    },
    {
     "name": "stderr",
     "output_type": "stream",
     "text": [
      "\r",
      "4-echo monoexponential:   3%|▎         | 666/20176 [00:01<00:32, 597.47it/s]"
     ]
    },
    {
     "name": "stderr",
     "output_type": "stream",
     "text": [
      "\r",
      "4-echo monoexponential:   4%|▎         | 728/20176 [00:01<00:32, 604.14it/s]"
     ]
    },
    {
     "name": "stderr",
     "output_type": "stream",
     "text": [
      "\r",
      "4-echo monoexponential:   4%|▍         | 790/20176 [00:01<00:31, 605.94it/s]"
     ]
    },
    {
     "name": "stderr",
     "output_type": "stream",
     "text": [
      "\r",
      "4-echo monoexponential:   4%|▍         | 852/20176 [00:01<00:31, 607.57it/s]"
     ]
    },
    {
     "name": "stderr",
     "output_type": "stream",
     "text": [
      "\r",
      "4-echo monoexponential:   5%|▍         | 916/20176 [00:01<00:31, 614.92it/s]"
     ]
    },
    {
     "name": "stderr",
     "output_type": "stream",
     "text": [
      "\r",
      "4-echo monoexponential:   5%|▍         | 978/20176 [00:01<00:31, 606.00it/s]"
     ]
    },
    {
     "name": "stderr",
     "output_type": "stream",
     "text": [
      "\r",
      "4-echo monoexponential:   5%|▌         | 1039/20176 [00:01<00:33, 572.91it/s]"
     ]
    },
    {
     "name": "stderr",
     "output_type": "stream",
     "text": [
      "\r",
      "4-echo monoexponential:   5%|▌         | 1097/20176 [00:01<00:34, 560.44it/s]"
     ]
    },
    {
     "name": "stderr",
     "output_type": "stream",
     "text": [
      "\r",
      "4-echo monoexponential:   6%|▌         | 1159/20176 [00:01<00:33, 575.37it/s]"
     ]
    },
    {
     "name": "stderr",
     "output_type": "stream",
     "text": [
      "\r",
      "4-echo monoexponential:   6%|▌         | 1221/20176 [00:02<00:32, 587.47it/s]"
     ]
    },
    {
     "name": "stderr",
     "output_type": "stream",
     "text": [
      "\r",
      "4-echo monoexponential:   6%|▋         | 1284/20176 [00:02<00:31, 599.82it/s]"
     ]
    },
    {
     "name": "stderr",
     "output_type": "stream",
     "text": [
      "\r",
      "4-echo monoexponential:   7%|▋         | 1349/20176 [00:02<00:30, 612.37it/s]"
     ]
    },
    {
     "name": "stderr",
     "output_type": "stream",
     "text": [
      "\r",
      "4-echo monoexponential:   7%|▋         | 1414/20176 [00:02<00:30, 620.27it/s]"
     ]
    },
    {
     "name": "stderr",
     "output_type": "stream",
     "text": [
      "\r",
      "4-echo monoexponential:   7%|▋         | 1477/20176 [00:02<00:31, 596.13it/s]"
     ]
    },
    {
     "name": "stderr",
     "output_type": "stream",
     "text": [
      "\r",
      "4-echo monoexponential:   8%|▊         | 1538/20176 [00:02<00:31, 599.80it/s]"
     ]
    },
    {
     "name": "stderr",
     "output_type": "stream",
     "text": [
      "\r",
      "4-echo monoexponential:   8%|▊         | 1601/20176 [00:02<00:30, 607.90it/s]"
     ]
    },
    {
     "name": "stderr",
     "output_type": "stream",
     "text": [
      "\r",
      "4-echo monoexponential:   8%|▊         | 1665/20176 [00:02<00:30, 616.96it/s]"
     ]
    },
    {
     "name": "stderr",
     "output_type": "stream",
     "text": [
      "\r",
      "4-echo monoexponential:   9%|▊         | 1728/20176 [00:02<00:29, 618.74it/s]"
     ]
    },
    {
     "name": "stderr",
     "output_type": "stream",
     "text": [
      "\r",
      "4-echo monoexponential:   9%|▉         | 1790/20176 [00:02<00:29, 615.12it/s]"
     ]
    },
    {
     "name": "stderr",
     "output_type": "stream",
     "text": [
      "\r",
      "4-echo monoexponential:   9%|▉         | 1854/20176 [00:03<00:29, 622.01it/s]"
     ]
    },
    {
     "name": "stderr",
     "output_type": "stream",
     "text": [
      "\r",
      "4-echo monoexponential:  10%|▉         | 1917/20176 [00:03<00:29, 623.30it/s]"
     ]
    },
    {
     "name": "stderr",
     "output_type": "stream",
     "text": [
      "\r",
      "4-echo monoexponential:  10%|▉         | 1980/20176 [00:03<00:29, 606.87it/s]"
     ]
    },
    {
     "name": "stderr",
     "output_type": "stream",
     "text": [
      "\r",
      "4-echo monoexponential:  10%|█         | 2041/20176 [00:03<00:30, 603.00it/s]"
     ]
    },
    {
     "name": "stderr",
     "output_type": "stream",
     "text": [
      "\r",
      "4-echo monoexponential:  10%|█         | 2105/20176 [00:03<00:29, 611.21it/s]"
     ]
    },
    {
     "name": "stderr",
     "output_type": "stream",
     "text": [
      "\r",
      "4-echo monoexponential:  11%|█         | 2168/20176 [00:03<00:29, 616.00it/s]"
     ]
    },
    {
     "name": "stderr",
     "output_type": "stream",
     "text": [
      "\r",
      "4-echo monoexponential:  11%|█         | 2235/20176 [00:03<00:28, 628.97it/s]"
     ]
    },
    {
     "name": "stderr",
     "output_type": "stream",
     "text": [
      "\r",
      "4-echo monoexponential:  11%|█▏        | 2298/20176 [00:03<00:28, 627.92it/s]"
     ]
    },
    {
     "name": "stderr",
     "output_type": "stream",
     "text": [
      "\r",
      "4-echo monoexponential:  12%|█▏        | 2364/20176 [00:03<00:28, 634.47it/s]"
     ]
    },
    {
     "name": "stderr",
     "output_type": "stream",
     "text": [
      "\r",
      "4-echo monoexponential:  12%|█▏        | 2430/20176 [00:04<00:27, 641.22it/s]"
     ]
    },
    {
     "name": "stderr",
     "output_type": "stream",
     "text": [
      "\r",
      "4-echo monoexponential:  12%|█▏        | 2496/20176 [00:04<00:27, 646.26it/s]"
     ]
    },
    {
     "name": "stderr",
     "output_type": "stream",
     "text": [
      "\r",
      "4-echo monoexponential:  13%|█▎        | 2561/20176 [00:04<00:28, 624.15it/s]"
     ]
    },
    {
     "name": "stderr",
     "output_type": "stream",
     "text": [
      "\r",
      "4-echo monoexponential:  13%|█▎        | 2624/20176 [00:04<00:30, 576.04it/s]"
     ]
    },
    {
     "name": "stderr",
     "output_type": "stream",
     "text": [
      "\r",
      "4-echo monoexponential:  13%|█▎        | 2686/20176 [00:04<00:29, 586.08it/s]"
     ]
    },
    {
     "name": "stderr",
     "output_type": "stream",
     "text": [
      "\r",
      "4-echo monoexponential:  14%|█▎        | 2752/20176 [00:04<00:28, 604.92it/s]"
     ]
    },
    {
     "name": "stderr",
     "output_type": "stream",
     "text": [
      "\r",
      "4-echo monoexponential:  14%|█▍        | 2814/20176 [00:04<00:28, 608.62it/s]"
     ]
    },
    {
     "name": "stderr",
     "output_type": "stream",
     "text": [
      "\r",
      "4-echo monoexponential:  14%|█▍        | 2882/20176 [00:04<00:27, 627.54it/s]"
     ]
    },
    {
     "name": "stderr",
     "output_type": "stream",
     "text": [
      "\r",
      "4-echo monoexponential:  15%|█▍        | 2949/20176 [00:04<00:27, 637.01it/s]"
     ]
    },
    {
     "name": "stderr",
     "output_type": "stream",
     "text": [
      "\r",
      "4-echo monoexponential:  15%|█▍        | 3016/20176 [00:04<00:26, 643.69it/s]"
     ]
    },
    {
     "name": "stderr",
     "output_type": "stream",
     "text": [
      "\r",
      "4-echo monoexponential:  15%|█▌        | 3082/20176 [00:05<00:26, 647.99it/s]"
     ]
    },
    {
     "name": "stderr",
     "output_type": "stream",
     "text": [
      "\r",
      "4-echo monoexponential:  16%|█▌        | 3149/20176 [00:05<00:26, 652.69it/s]"
     ]
    },
    {
     "name": "stderr",
     "output_type": "stream",
     "text": [
      "\r",
      "4-echo monoexponential:  16%|█▌        | 3215/20176 [00:05<00:27, 624.31it/s]"
     ]
    },
    {
     "name": "stderr",
     "output_type": "stream",
     "text": [
      "\r",
      "4-echo monoexponential:  16%|█▌        | 3278/20176 [00:05<00:27, 619.99it/s]"
     ]
    },
    {
     "name": "stderr",
     "output_type": "stream",
     "text": [
      "\r",
      "4-echo monoexponential:  17%|█▋        | 3343/20176 [00:05<00:26, 626.11it/s]"
     ]
    },
    {
     "name": "stderr",
     "output_type": "stream",
     "text": [
      "\r",
      "4-echo monoexponential:  17%|█▋        | 3407/20176 [00:05<00:26, 630.11it/s]"
     ]
    },
    {
     "name": "stderr",
     "output_type": "stream",
     "text": [
      "\r",
      "4-echo monoexponential:  17%|█▋        | 3472/20176 [00:05<00:26, 633.40it/s]"
     ]
    },
    {
     "name": "stderr",
     "output_type": "stream",
     "text": [
      "\r",
      "4-echo monoexponential:  18%|█▊        | 3540/20176 [00:05<00:25, 644.18it/s]"
     ]
    },
    {
     "name": "stderr",
     "output_type": "stream",
     "text": [
      "\r",
      "4-echo monoexponential:  18%|█▊        | 3606/20176 [00:05<00:25, 646.58it/s]"
     ]
    },
    {
     "name": "stderr",
     "output_type": "stream",
     "text": [
      "\r",
      "4-echo monoexponential:  18%|█▊        | 3671/20176 [00:05<00:25, 636.54it/s]"
     ]
    },
    {
     "name": "stderr",
     "output_type": "stream",
     "text": [
      "\r",
      "4-echo monoexponential:  19%|█▊        | 3736/20176 [00:06<00:25, 639.49it/s]"
     ]
    },
    {
     "name": "stderr",
     "output_type": "stream",
     "text": [
      "\r",
      "4-echo monoexponential:  19%|█▉        | 3801/20176 [00:06<00:25, 642.30it/s]"
     ]
    },
    {
     "name": "stderr",
     "output_type": "stream",
     "text": [
      "\r",
      "4-echo monoexponential:  19%|█▉        | 3866/20176 [00:06<00:25, 634.08it/s]"
     ]
    },
    {
     "name": "stderr",
     "output_type": "stream",
     "text": [
      "\r",
      "4-echo monoexponential:  19%|█▉        | 3930/20176 [00:06<00:25, 626.22it/s]"
     ]
    },
    {
     "name": "stderr",
     "output_type": "stream",
     "text": [
      "\r",
      "4-echo monoexponential:  20%|█▉        | 3993/20176 [00:06<00:26, 620.49it/s]"
     ]
    },
    {
     "name": "stderr",
     "output_type": "stream",
     "text": [
      "\r",
      "4-echo monoexponential:  20%|██        | 4057/20176 [00:06<00:25, 624.58it/s]"
     ]
    },
    {
     "name": "stderr",
     "output_type": "stream",
     "text": [
      "\r",
      "4-echo monoexponential:  20%|██        | 4120/20176 [00:06<00:26, 615.85it/s]"
     ]
    },
    {
     "name": "stderr",
     "output_type": "stream",
     "text": [
      "\r",
      "4-echo monoexponential:  21%|██        | 4182/20176 [00:06<00:26, 604.83it/s]"
     ]
    },
    {
     "name": "stderr",
     "output_type": "stream",
     "text": [
      "\r",
      "4-echo monoexponential:  21%|██        | 4247/20176 [00:06<00:25, 616.01it/s]"
     ]
    },
    {
     "name": "stderr",
     "output_type": "stream",
     "text": [
      "\r",
      "4-echo monoexponential:  21%|██▏       | 4314/20176 [00:07<00:25, 630.73it/s]"
     ]
    },
    {
     "name": "stderr",
     "output_type": "stream",
     "text": [
      "\r",
      "4-echo monoexponential:  22%|██▏       | 4378/20176 [00:07<00:25, 628.04it/s]"
     ]
    },
    {
     "name": "stderr",
     "output_type": "stream",
     "text": [
      "\r",
      "4-echo monoexponential:  22%|██▏       | 4444/20176 [00:07<00:24, 635.41it/s]"
     ]
    },
    {
     "name": "stderr",
     "output_type": "stream",
     "text": [
      "\r",
      "4-echo monoexponential:  22%|██▏       | 4510/20176 [00:07<00:24, 641.09it/s]"
     ]
    },
    {
     "name": "stderr",
     "output_type": "stream",
     "text": [
      "\r",
      "4-echo monoexponential:  23%|██▎       | 4575/20176 [00:07<00:24, 634.03it/s]"
     ]
    },
    {
     "name": "stderr",
     "output_type": "stream",
     "text": [
      "\r",
      "4-echo monoexponential:  23%|██▎       | 4639/20176 [00:07<00:24, 631.27it/s]"
     ]
    },
    {
     "name": "stderr",
     "output_type": "stream",
     "text": [
      "\r",
      "4-echo monoexponential:  23%|██▎       | 4703/20176 [00:07<00:25, 617.06it/s]"
     ]
    },
    {
     "name": "stderr",
     "output_type": "stream",
     "text": [
      "\r",
      "4-echo monoexponential:  24%|██▎       | 4768/20176 [00:07<00:24, 625.95it/s]"
     ]
    },
    {
     "name": "stderr",
     "output_type": "stream",
     "text": [
      "\r",
      "4-echo monoexponential:  24%|██▍       | 4831/20176 [00:07<00:24, 624.15it/s]"
     ]
    },
    {
     "name": "stderr",
     "output_type": "stream",
     "text": [
      "\r",
      "4-echo monoexponential:  24%|██▍       | 4894/20176 [00:07<00:24, 613.02it/s]"
     ]
    },
    {
     "name": "stderr",
     "output_type": "stream",
     "text": [
      "\r",
      "4-echo monoexponential:  25%|██▍       | 4956/20176 [00:08<00:24, 612.63it/s]"
     ]
    },
    {
     "name": "stderr",
     "output_type": "stream",
     "text": [
      "\r",
      "4-echo monoexponential:  25%|██▍       | 5021/20176 [00:08<00:24, 622.16it/s]"
     ]
    },
    {
     "name": "stderr",
     "output_type": "stream",
     "text": [
      "\r",
      "4-echo monoexponential:  25%|██▌       | 5087/20176 [00:08<00:23, 630.89it/s]"
     ]
    },
    {
     "name": "stderr",
     "output_type": "stream",
     "text": [
      "\r",
      "4-echo monoexponential:  26%|██▌       | 5154/20176 [00:08<00:23, 642.30it/s]"
     ]
    },
    {
     "name": "stderr",
     "output_type": "stream",
     "text": [
      "\r",
      "4-echo monoexponential:  26%|██▌       | 5219/20176 [00:08<00:23, 641.24it/s]"
     ]
    },
    {
     "name": "stderr",
     "output_type": "stream",
     "text": [
      "\r",
      "4-echo monoexponential:  26%|██▌       | 5285/20176 [00:08<00:23, 645.05it/s]"
     ]
    },
    {
     "name": "stderr",
     "output_type": "stream",
     "text": [
      "\r",
      "4-echo monoexponential:  27%|██▋       | 5350/20176 [00:08<00:22, 646.38it/s]"
     ]
    },
    {
     "name": "stderr",
     "output_type": "stream",
     "text": [
      "\r",
      "4-echo monoexponential:  27%|██▋       | 5415/20176 [00:08<00:23, 628.84it/s]"
     ]
    },
    {
     "name": "stderr",
     "output_type": "stream",
     "text": [
      "\r",
      "4-echo monoexponential:  27%|██▋       | 5478/20176 [00:08<00:23, 618.64it/s]"
     ]
    },
    {
     "name": "stderr",
     "output_type": "stream",
     "text": [
      "\r",
      "4-echo monoexponential:  27%|██▋       | 5541/20176 [00:08<00:23, 620.48it/s]"
     ]
    },
    {
     "name": "stderr",
     "output_type": "stream",
     "text": [
      "\r",
      "4-echo monoexponential:  28%|██▊       | 5605/20176 [00:09<00:23, 623.47it/s]"
     ]
    },
    {
     "name": "stderr",
     "output_type": "stream",
     "text": [
      "\r",
      "4-echo monoexponential:  28%|██▊       | 5668/20176 [00:09<00:23, 621.62it/s]"
     ]
    },
    {
     "name": "stderr",
     "output_type": "stream",
     "text": [
      "\r",
      "4-echo monoexponential:  28%|██▊       | 5736/20176 [00:09<00:22, 636.77it/s]"
     ]
    },
    {
     "name": "stderr",
     "output_type": "stream",
     "text": [
      "\r",
      "4-echo monoexponential:  29%|██▉       | 5804/20176 [00:09<00:22, 646.80it/s]"
     ]
    },
    {
     "name": "stderr",
     "output_type": "stream",
     "text": [
      "\r",
      "4-echo monoexponential:  29%|██▉       | 5869/20176 [00:09<00:22, 645.68it/s]"
     ]
    },
    {
     "name": "stderr",
     "output_type": "stream",
     "text": [
      "\r",
      "4-echo monoexponential:  29%|██▉       | 5934/20176 [00:09<00:22, 642.75it/s]"
     ]
    },
    {
     "name": "stderr",
     "output_type": "stream",
     "text": [
      "\r",
      "4-echo monoexponential:  30%|██▉       | 5999/20176 [00:09<00:22, 635.45it/s]"
     ]
    },
    {
     "name": "stderr",
     "output_type": "stream",
     "text": [
      "\r",
      "4-echo monoexponential:  30%|███       | 6063/20176 [00:09<00:22, 636.58it/s]"
     ]
    },
    {
     "name": "stderr",
     "output_type": "stream",
     "text": [
      "\r",
      "4-echo monoexponential:  30%|███       | 6129/20176 [00:09<00:21, 640.52it/s]"
     ]
    },
    {
     "name": "stderr",
     "output_type": "stream",
     "text": [
      "\r",
      "4-echo monoexponential:  31%|███       | 6194/20176 [00:09<00:22, 622.27it/s]"
     ]
    },
    {
     "name": "stderr",
     "output_type": "stream",
     "text": [
      "\r",
      "4-echo monoexponential:  31%|███       | 6257/20176 [00:10<00:22, 609.75it/s]"
     ]
    },
    {
     "name": "stderr",
     "output_type": "stream",
     "text": [
      "\r",
      "4-echo monoexponential:  31%|███▏      | 6319/20176 [00:10<00:22, 609.79it/s]"
     ]
    },
    {
     "name": "stderr",
     "output_type": "stream",
     "text": [
      "\r",
      "4-echo monoexponential:  32%|███▏      | 6381/20176 [00:10<00:22, 610.47it/s]"
     ]
    },
    {
     "name": "stderr",
     "output_type": "stream",
     "text": [
      "\r",
      "4-echo monoexponential:  32%|███▏      | 6446/20176 [00:10<00:22, 620.15it/s]"
     ]
    },
    {
     "name": "stderr",
     "output_type": "stream",
     "text": [
      "\r",
      "4-echo monoexponential:  32%|███▏      | 6513/20176 [00:10<00:21, 634.43it/s]"
     ]
    },
    {
     "name": "stderr",
     "output_type": "stream",
     "text": [
      "\r",
      "4-echo monoexponential:  33%|███▎      | 6579/20176 [00:10<00:21, 641.78it/s]"
     ]
    },
    {
     "name": "stderr",
     "output_type": "stream",
     "text": [
      "\r",
      "4-echo monoexponential:  33%|███▎      | 6644/20176 [00:10<00:21, 638.54it/s]"
     ]
    },
    {
     "name": "stderr",
     "output_type": "stream",
     "text": [
      "\r",
      "4-echo monoexponential:  33%|███▎      | 6708/20176 [00:10<00:21, 627.49it/s]"
     ]
    },
    {
     "name": "stderr",
     "output_type": "stream",
     "text": [
      "\r",
      "4-echo monoexponential:  34%|███▎      | 6771/20176 [00:10<00:21, 627.72it/s]"
     ]
    },
    {
     "name": "stderr",
     "output_type": "stream",
     "text": [
      "\r",
      "4-echo monoexponential:  34%|███▍      | 6837/20176 [00:11<00:21, 634.95it/s]"
     ]
    },
    {
     "name": "stderr",
     "output_type": "stream",
     "text": [
      "\r",
      "4-echo monoexponential:  34%|███▍      | 6901/20176 [00:11<00:20, 633.70it/s]"
     ]
    },
    {
     "name": "stderr",
     "output_type": "stream",
     "text": [
      "\r",
      "4-echo monoexponential:  35%|███▍      | 6965/20176 [00:11<00:21, 617.65it/s]"
     ]
    },
    {
     "name": "stderr",
     "output_type": "stream",
     "text": [
      "\r",
      "4-echo monoexponential:  35%|███▍      | 7027/20176 [00:11<00:21, 606.04it/s]"
     ]
    },
    {
     "name": "stderr",
     "output_type": "stream",
     "text": [
      "\r",
      "4-echo monoexponential:  35%|███▌      | 7092/20176 [00:11<00:21, 617.45it/s]"
     ]
    },
    {
     "name": "stderr",
     "output_type": "stream",
     "text": [
      "\r",
      "4-echo monoexponential:  35%|███▌      | 7156/20176 [00:11<00:20, 622.19it/s]"
     ]
    },
    {
     "name": "stderr",
     "output_type": "stream",
     "text": [
      "\r",
      "4-echo monoexponential:  36%|███▌      | 7219/20176 [00:11<00:20, 617.52it/s]"
     ]
    },
    {
     "name": "stderr",
     "output_type": "stream",
     "text": [
      "\r",
      "4-echo monoexponential:  36%|███▌      | 7287/20176 [00:11<00:20, 635.09it/s]"
     ]
    },
    {
     "name": "stderr",
     "output_type": "stream",
     "text": [
      "\r",
      "4-echo monoexponential:  36%|███▋      | 7355/20176 [00:11<00:19, 646.51it/s]"
     ]
    },
    {
     "name": "stderr",
     "output_type": "stream",
     "text": [
      "\r",
      "4-echo monoexponential:  37%|███▋      | 7421/20176 [00:11<00:19, 648.21it/s]"
     ]
    },
    {
     "name": "stderr",
     "output_type": "stream",
     "text": [
      "\r",
      "4-echo monoexponential:  37%|███▋      | 7486/20176 [00:12<00:19, 640.96it/s]"
     ]
    },
    {
     "name": "stderr",
     "output_type": "stream",
     "text": [
      "\r",
      "4-echo monoexponential:  37%|███▋      | 7552/20176 [00:12<00:19, 643.63it/s]"
     ]
    },
    {
     "name": "stderr",
     "output_type": "stream",
     "text": [
      "\r",
      "4-echo monoexponential:  38%|███▊      | 7617/20176 [00:12<00:19, 644.77it/s]"
     ]
    },
    {
     "name": "stderr",
     "output_type": "stream",
     "text": [
      "\r",
      "4-echo monoexponential:  38%|███▊      | 7684/20176 [00:12<00:19, 648.35it/s]"
     ]
    },
    {
     "name": "stderr",
     "output_type": "stream",
     "text": [
      "\r",
      "4-echo monoexponential:  38%|███▊      | 7749/20176 [00:12<00:19, 630.74it/s]"
     ]
    },
    {
     "name": "stderr",
     "output_type": "stream",
     "text": [
      "\r",
      "4-echo monoexponential:  39%|███▊      | 7813/20176 [00:12<00:19, 621.51it/s]"
     ]
    },
    {
     "name": "stderr",
     "output_type": "stream",
     "text": [
      "\r",
      "4-echo monoexponential:  39%|███▉      | 7876/20176 [00:12<00:19, 616.85it/s]"
     ]
    },
    {
     "name": "stderr",
     "output_type": "stream",
     "text": [
      "\r",
      "4-echo monoexponential:  39%|███▉      | 7940/20176 [00:12<00:19, 622.55it/s]"
     ]
    },
    {
     "name": "stderr",
     "output_type": "stream",
     "text": [
      "\r",
      "4-echo monoexponential:  40%|███▉      | 8004/20176 [00:12<00:19, 626.12it/s]"
     ]
    },
    {
     "name": "stderr",
     "output_type": "stream",
     "text": [
      "\r",
      "4-echo monoexponential:  40%|███▉      | 8067/20176 [00:12<00:19, 627.21it/s]"
     ]
    },
    {
     "name": "stderr",
     "output_type": "stream",
     "text": [
      "\r",
      "4-echo monoexponential:  40%|████      | 8134/20176 [00:13<00:18, 639.81it/s]"
     ]
    },
    {
     "name": "stderr",
     "output_type": "stream",
     "text": [
      "\r",
      "4-echo monoexponential:  41%|████      | 8201/20176 [00:13<00:18, 646.58it/s]"
     ]
    },
    {
     "name": "stderr",
     "output_type": "stream",
     "text": [
      "\r",
      "4-echo monoexponential:  41%|████      | 8267/20176 [00:13<00:18, 648.78it/s]"
     ]
    },
    {
     "name": "stderr",
     "output_type": "stream",
     "text": [
      "\r",
      "4-echo monoexponential:  41%|████▏     | 8333/20176 [00:13<00:18, 648.53it/s]"
     ]
    },
    {
     "name": "stderr",
     "output_type": "stream",
     "text": [
      "\r",
      "4-echo monoexponential:  42%|████▏     | 8398/20176 [00:13<00:18, 645.18it/s]"
     ]
    },
    {
     "name": "stderr",
     "output_type": "stream",
     "text": [
      "\r",
      "4-echo monoexponential:  42%|████▏     | 8463/20176 [00:13<00:18, 646.30it/s]"
     ]
    },
    {
     "name": "stderr",
     "output_type": "stream",
     "text": [
      "\r",
      "4-echo monoexponential:  42%|████▏     | 8528/20176 [00:13<00:18, 644.18it/s]"
     ]
    },
    {
     "name": "stderr",
     "output_type": "stream",
     "text": [
      "\r",
      "4-echo monoexponential:  43%|████▎     | 8593/20176 [00:13<00:18, 623.17it/s]"
     ]
    },
    {
     "name": "stderr",
     "output_type": "stream",
     "text": [
      "\r",
      "4-echo monoexponential:  43%|████▎     | 8656/20176 [00:13<00:18, 620.35it/s]"
     ]
    },
    {
     "name": "stderr",
     "output_type": "stream",
     "text": [
      "\r",
      "4-echo monoexponential:  43%|████▎     | 8719/20176 [00:14<00:18, 612.10it/s]"
     ]
    },
    {
     "name": "stderr",
     "output_type": "stream",
     "text": [
      "\r",
      "4-echo monoexponential:  44%|████▎     | 8785/20176 [00:14<00:18, 624.09it/s]"
     ]
    },
    {
     "name": "stderr",
     "output_type": "stream",
     "text": [
      "\r",
      "4-echo monoexponential:  44%|████▍     | 8850/20176 [00:14<00:17, 630.41it/s]"
     ]
    },
    {
     "name": "stderr",
     "output_type": "stream",
     "text": [
      "\r",
      "4-echo monoexponential:  44%|████▍     | 8914/20176 [00:14<00:17, 629.86it/s]"
     ]
    },
    {
     "name": "stderr",
     "output_type": "stream",
     "text": [
      "\r",
      "4-echo monoexponential:  44%|████▍     | 8978/20176 [00:14<00:17, 632.20it/s]"
     ]
    },
    {
     "name": "stderr",
     "output_type": "stream",
     "text": [
      "\r",
      "4-echo monoexponential:  45%|████▍     | 9042/20176 [00:14<00:17, 634.33it/s]"
     ]
    },
    {
     "name": "stderr",
     "output_type": "stream",
     "text": [
      "\r",
      "4-echo monoexponential:  45%|████▌     | 9107/20176 [00:14<00:17, 638.58it/s]"
     ]
    },
    {
     "name": "stderr",
     "output_type": "stream",
     "text": [
      "\r",
      "4-echo monoexponential:  45%|████▌     | 9173/20176 [00:14<00:17, 643.35it/s]"
     ]
    },
    {
     "name": "stderr",
     "output_type": "stream",
     "text": [
      "\r",
      "4-echo monoexponential:  46%|████▌     | 9240/20176 [00:14<00:16, 650.74it/s]"
     ]
    },
    {
     "name": "stderr",
     "output_type": "stream",
     "text": [
      "\r",
      "4-echo monoexponential:  46%|████▌     | 9306/20176 [00:14<00:16, 650.31it/s]"
     ]
    },
    {
     "name": "stderr",
     "output_type": "stream",
     "text": [
      "\r",
      "4-echo monoexponential:  46%|████▋     | 9372/20176 [00:15<00:16, 636.60it/s]"
     ]
    },
    {
     "name": "stderr",
     "output_type": "stream",
     "text": [
      "\r",
      "4-echo monoexponential:  47%|████▋     | 9436/20176 [00:15<00:16, 632.58it/s]"
     ]
    },
    {
     "name": "stderr",
     "output_type": "stream",
     "text": [
      "\r",
      "4-echo monoexponential:  47%|████▋     | 9500/20176 [00:15<00:17, 624.38it/s]"
     ]
    },
    {
     "name": "stderr",
     "output_type": "stream",
     "text": [
      "\r",
      "4-echo monoexponential:  47%|████▋     | 9563/20176 [00:15<00:16, 625.84it/s]"
     ]
    },
    {
     "name": "stderr",
     "output_type": "stream",
     "text": [
      "\r",
      "4-echo monoexponential:  48%|████▊     | 9626/20176 [00:15<00:16, 625.85it/s]"
     ]
    },
    {
     "name": "stderr",
     "output_type": "stream",
     "text": [
      "\r",
      "4-echo monoexponential:  48%|████▊     | 9689/20176 [00:15<00:16, 625.58it/s]"
     ]
    },
    {
     "name": "stderr",
     "output_type": "stream",
     "text": [
      "\r",
      "4-echo monoexponential:  48%|████▊     | 9755/20176 [00:15<00:16, 635.45it/s]"
     ]
    },
    {
     "name": "stderr",
     "output_type": "stream",
     "text": [
      "\r",
      "4-echo monoexponential:  49%|████▊     | 9819/20176 [00:15<00:16, 635.17it/s]"
     ]
    },
    {
     "name": "stderr",
     "output_type": "stream",
     "text": [
      "\r",
      "4-echo monoexponential:  49%|████▉     | 9885/20176 [00:15<00:16, 641.65it/s]"
     ]
    },
    {
     "name": "stderr",
     "output_type": "stream",
     "text": [
      "\r",
      "4-echo monoexponential:  49%|████▉     | 9952/20176 [00:15<00:15, 647.34it/s]"
     ]
    },
    {
     "name": "stderr",
     "output_type": "stream",
     "text": [
      "\r",
      "4-echo monoexponential:  50%|████▉     | 10022/20176 [00:16<00:15, 660.49it/s]"
     ]
    },
    {
     "name": "stderr",
     "output_type": "stream",
     "text": [
      "\r",
      "4-echo monoexponential:  50%|█████     | 10089/20176 [00:16<00:15, 649.88it/s]"
     ]
    },
    {
     "name": "stderr",
     "output_type": "stream",
     "text": [
      "\r",
      "4-echo monoexponential:  50%|█████     | 10155/20176 [00:16<00:15, 644.69it/s]"
     ]
    },
    {
     "name": "stderr",
     "output_type": "stream",
     "text": [
      "\r",
      "4-echo monoexponential:  51%|█████     | 10220/20176 [00:16<00:15, 623.31it/s]"
     ]
    },
    {
     "name": "stderr",
     "output_type": "stream",
     "text": [
      "\r",
      "4-echo monoexponential:  51%|█████     | 10283/20176 [00:16<00:15, 622.96it/s]"
     ]
    },
    {
     "name": "stderr",
     "output_type": "stream",
     "text": [
      "\r",
      "4-echo monoexponential:  51%|█████▏    | 10347/20176 [00:16<00:15, 626.68it/s]"
     ]
    },
    {
     "name": "stderr",
     "output_type": "stream",
     "text": [
      "\r",
      "4-echo monoexponential:  52%|█████▏    | 10410/20176 [00:16<00:15, 624.91it/s]"
     ]
    },
    {
     "name": "stderr",
     "output_type": "stream",
     "text": [
      "\r",
      "4-echo monoexponential:  52%|█████▏    | 10475/20176 [00:16<00:15, 631.41it/s]"
     ]
    },
    {
     "name": "stderr",
     "output_type": "stream",
     "text": [
      "\r",
      "4-echo monoexponential:  52%|█████▏    | 10542/20176 [00:16<00:14, 642.53it/s]"
     ]
    },
    {
     "name": "stderr",
     "output_type": "stream",
     "text": [
      "\r",
      "4-echo monoexponential:  53%|█████▎    | 10608/20176 [00:16<00:14, 647.11it/s]"
     ]
    },
    {
     "name": "stderr",
     "output_type": "stream",
     "text": [
      "\r",
      "4-echo monoexponential:  53%|█████▎    | 10673/20176 [00:17<00:14, 637.02it/s]"
     ]
    },
    {
     "name": "stderr",
     "output_type": "stream",
     "text": [
      "\r",
      "4-echo monoexponential:  53%|█████▎    | 10739/20176 [00:17<00:14, 643.16it/s]"
     ]
    },
    {
     "name": "stderr",
     "output_type": "stream",
     "text": [
      "\r",
      "4-echo monoexponential:  54%|█████▎    | 10806/20176 [00:17<00:14, 649.52it/s]"
     ]
    },
    {
     "name": "stderr",
     "output_type": "stream",
     "text": [
      "\r",
      "4-echo monoexponential:  54%|█████▍    | 10871/20176 [00:17<00:14, 646.72it/s]"
     ]
    },
    {
     "name": "stderr",
     "output_type": "stream",
     "text": [
      "\r",
      "4-echo monoexponential:  54%|█████▍    | 10936/20176 [00:17<00:14, 644.56it/s]"
     ]
    },
    {
     "name": "stderr",
     "output_type": "stream",
     "text": [
      "\r",
      "4-echo monoexponential:  55%|█████▍    | 11001/20176 [00:17<00:14, 619.49it/s]"
     ]
    },
    {
     "name": "stderr",
     "output_type": "stream",
     "text": [
      "\r",
      "4-echo monoexponential:  55%|█████▍    | 11064/20176 [00:17<00:14, 617.73it/s]"
     ]
    },
    {
     "name": "stderr",
     "output_type": "stream",
     "text": [
      "\r",
      "4-echo monoexponential:  55%|█████▌    | 11126/20176 [00:17<00:14, 611.92it/s]"
     ]
    },
    {
     "name": "stderr",
     "output_type": "stream",
     "text": [
      "\r",
      "4-echo monoexponential:  55%|█████▌    | 11192/20176 [00:17<00:14, 623.57it/s]"
     ]
    },
    {
     "name": "stderr",
     "output_type": "stream",
     "text": [
      "\r",
      "4-echo monoexponential:  56%|█████▌    | 11263/20176 [00:17<00:13, 647.51it/s]"
     ]
    },
    {
     "name": "stderr",
     "output_type": "stream",
     "text": [
      "\r",
      "4-echo monoexponential:  56%|█████▌    | 11329/20176 [00:18<00:13, 648.42it/s]"
     ]
    },
    {
     "name": "stderr",
     "output_type": "stream",
     "text": [
      "\r",
      "4-echo monoexponential:  56%|█████▋    | 11395/20176 [00:18<00:13, 649.30it/s]"
     ]
    },
    {
     "name": "stderr",
     "output_type": "stream",
     "text": [
      "\r",
      "4-echo monoexponential:  57%|█████▋    | 11461/20176 [00:18<00:13, 649.57it/s]"
     ]
    },
    {
     "name": "stderr",
     "output_type": "stream",
     "text": [
      "\r",
      "4-echo monoexponential:  57%|█████▋    | 11528/20176 [00:18<00:13, 652.44it/s]"
     ]
    },
    {
     "name": "stderr",
     "output_type": "stream",
     "text": [
      "\r",
      "4-echo monoexponential:  57%|█████▋    | 11596/20176 [00:18<00:13, 658.84it/s]"
     ]
    },
    {
     "name": "stderr",
     "output_type": "stream",
     "text": [
      "\r",
      "4-echo monoexponential:  58%|█████▊    | 11662/20176 [00:18<00:12, 656.89it/s]"
     ]
    },
    {
     "name": "stderr",
     "output_type": "stream",
     "text": [
      "\r",
      "4-echo monoexponential:  58%|█████▊    | 11728/20176 [00:18<00:13, 642.41it/s]"
     ]
    },
    {
     "name": "stderr",
     "output_type": "stream",
     "text": [
      "\r",
      "4-echo monoexponential:  58%|█████▊    | 11793/20176 [00:18<00:14, 598.46it/s]"
     ]
    },
    {
     "name": "stderr",
     "output_type": "stream",
     "text": [
      "\r",
      "4-echo monoexponential:  59%|█████▉    | 11855/20176 [00:18<00:13, 603.42it/s]"
     ]
    },
    {
     "name": "stderr",
     "output_type": "stream",
     "text": [
      "\r",
      "4-echo monoexponential:  59%|█████▉    | 11919/20176 [00:19<00:13, 611.62it/s]"
     ]
    },
    {
     "name": "stderr",
     "output_type": "stream",
     "text": [
      "\r",
      "4-echo monoexponential:  59%|█████▉    | 11984/20176 [00:19<00:13, 620.89it/s]"
     ]
    },
    {
     "name": "stderr",
     "output_type": "stream",
     "text": [
      "\r",
      "4-echo monoexponential:  60%|█████▉    | 12047/20176 [00:19<00:13, 622.71it/s]"
     ]
    },
    {
     "name": "stderr",
     "output_type": "stream",
     "text": [
      "\r",
      "4-echo monoexponential:  60%|██████    | 12110/20176 [00:19<00:12, 621.90it/s]"
     ]
    },
    {
     "name": "stderr",
     "output_type": "stream",
     "text": [
      "\r",
      "4-echo monoexponential:  60%|██████    | 12176/20176 [00:19<00:12, 631.96it/s]"
     ]
    },
    {
     "name": "stderr",
     "output_type": "stream",
     "text": [
      "\r",
      "4-echo monoexponential:  61%|██████    | 12244/20176 [00:19<00:12, 643.78it/s]"
     ]
    },
    {
     "name": "stderr",
     "output_type": "stream",
     "text": [
      "\r",
      "4-echo monoexponential:  61%|██████    | 12312/20176 [00:19<00:12, 652.10it/s]"
     ]
    },
    {
     "name": "stderr",
     "output_type": "stream",
     "text": [
      "\r",
      "4-echo monoexponential:  61%|██████▏   | 12378/20176 [00:19<00:11, 654.38it/s]"
     ]
    },
    {
     "name": "stderr",
     "output_type": "stream",
     "text": [
      "\r",
      "4-echo monoexponential:  62%|██████▏   | 12445/20176 [00:19<00:11, 657.60it/s]"
     ]
    },
    {
     "name": "stderr",
     "output_type": "stream",
     "text": [
      "\r",
      "4-echo monoexponential:  62%|██████▏   | 12511/20176 [00:19<00:11, 655.73it/s]"
     ]
    },
    {
     "name": "stderr",
     "output_type": "stream",
     "text": [
      "\r",
      "4-echo monoexponential:  62%|██████▏   | 12577/20176 [00:20<00:12, 608.33it/s]"
     ]
    },
    {
     "name": "stderr",
     "output_type": "stream",
     "text": [
      "\r",
      "4-echo monoexponential:  63%|██████▎   | 12641/20176 [00:20<00:12, 616.65it/s]"
     ]
    },
    {
     "name": "stderr",
     "output_type": "stream",
     "text": [
      "\r",
      "4-echo monoexponential:  63%|██████▎   | 12707/20176 [00:20<00:11, 628.15it/s]"
     ]
    },
    {
     "name": "stderr",
     "output_type": "stream",
     "text": [
      "\r",
      "4-echo monoexponential:  63%|██████▎   | 12774/20176 [00:20<00:11, 637.90it/s]"
     ]
    },
    {
     "name": "stderr",
     "output_type": "stream",
     "text": [
      "\r",
      "4-echo monoexponential:  64%|██████▎   | 12841/20176 [00:20<00:11, 645.28it/s]"
     ]
    },
    {
     "name": "stderr",
     "output_type": "stream",
     "text": [
      "\r",
      "4-echo monoexponential:  64%|██████▍   | 12906/20176 [00:20<00:11, 645.90it/s]"
     ]
    },
    {
     "name": "stderr",
     "output_type": "stream",
     "text": [
      "\r",
      "4-echo monoexponential:  64%|██████▍   | 12972/20176 [00:20<00:11, 649.69it/s]"
     ]
    },
    {
     "name": "stderr",
     "output_type": "stream",
     "text": [
      "\r",
      "4-echo monoexponential:  65%|██████▍   | 13039/20176 [00:20<00:10, 654.15it/s]"
     ]
    },
    {
     "name": "stderr",
     "output_type": "stream",
     "text": [
      "\r",
      "4-echo monoexponential:  65%|██████▍   | 13105/20176 [00:20<00:10, 652.78it/s]"
     ]
    },
    {
     "name": "stderr",
     "output_type": "stream",
     "text": [
      "\r",
      "4-echo monoexponential:  65%|██████▌   | 13171/20176 [00:20<00:10, 649.08it/s]"
     ]
    },
    {
     "name": "stderr",
     "output_type": "stream",
     "text": [
      "\r",
      "4-echo monoexponential:  66%|██████▌   | 13236/20176 [00:21<00:10, 648.46it/s]"
     ]
    },
    {
     "name": "stderr",
     "output_type": "stream",
     "text": [
      "\r",
      "4-echo monoexponential:  66%|██████▌   | 13301/20176 [00:21<00:10, 636.58it/s]"
     ]
    },
    {
     "name": "stderr",
     "output_type": "stream",
     "text": [
      "\r",
      "4-echo monoexponential:  66%|██████▌   | 13365/20176 [00:21<00:11, 610.98it/s]"
     ]
    },
    {
     "name": "stderr",
     "output_type": "stream",
     "text": [
      "\r",
      "4-echo monoexponential:  67%|██████▋   | 13430/20176 [00:21<00:10, 622.02it/s]"
     ]
    },
    {
     "name": "stderr",
     "output_type": "stream",
     "text": [
      "\r",
      "4-echo monoexponential:  67%|██████▋   | 13493/20176 [00:21<00:10, 621.47it/s]"
     ]
    },
    {
     "name": "stderr",
     "output_type": "stream",
     "text": [
      "\r",
      "4-echo monoexponential:  67%|██████▋   | 13558/20176 [00:21<00:10, 628.35it/s]"
     ]
    },
    {
     "name": "stderr",
     "output_type": "stream",
     "text": [
      "\r",
      "4-echo monoexponential:  68%|██████▊   | 13624/20176 [00:21<00:10, 636.11it/s]"
     ]
    },
    {
     "name": "stderr",
     "output_type": "stream",
     "text": [
      "\r",
      "4-echo monoexponential:  68%|██████▊   | 13692/20176 [00:21<00:10, 647.35it/s]"
     ]
    },
    {
     "name": "stderr",
     "output_type": "stream",
     "text": [
      "\r",
      "4-echo monoexponential:  68%|██████▊   | 13759/20176 [00:21<00:09, 652.94it/s]"
     ]
    },
    {
     "name": "stderr",
     "output_type": "stream",
     "text": [
      "\r",
      "4-echo monoexponential:  69%|██████▊   | 13826/20176 [00:22<00:09, 655.18it/s]"
     ]
    },
    {
     "name": "stderr",
     "output_type": "stream",
     "text": [
      "\r",
      "4-echo monoexponential:  69%|██████▉   | 13892/20176 [00:22<00:09, 651.21it/s]"
     ]
    },
    {
     "name": "stderr",
     "output_type": "stream",
     "text": [
      "\r",
      "4-echo monoexponential:  69%|██████▉   | 13958/20176 [00:22<00:09, 649.22it/s]"
     ]
    },
    {
     "name": "stderr",
     "output_type": "stream",
     "text": [
      "\r",
      "4-echo monoexponential:  70%|██████▉   | 14024/20176 [00:22<00:09, 651.57it/s]"
     ]
    },
    {
     "name": "stderr",
     "output_type": "stream",
     "text": [
      "\r",
      "4-echo monoexponential:  70%|██████▉   | 14090/20176 [00:22<00:09, 643.33it/s]"
     ]
    },
    {
     "name": "stderr",
     "output_type": "stream",
     "text": [
      "\r",
      "4-echo monoexponential:  70%|███████   | 14155/20176 [00:22<00:09, 614.50it/s]"
     ]
    },
    {
     "name": "stderr",
     "output_type": "stream",
     "text": [
      "\r",
      "4-echo monoexponential:  70%|███████   | 14217/20176 [00:22<00:09, 614.56it/s]"
     ]
    },
    {
     "name": "stderr",
     "output_type": "stream",
     "text": [
      "\r",
      "4-echo monoexponential:  71%|███████   | 14283/20176 [00:22<00:09, 625.44it/s]"
     ]
    },
    {
     "name": "stderr",
     "output_type": "stream",
     "text": [
      "\r",
      "4-echo monoexponential:  71%|███████   | 14347/20176 [00:22<00:09, 627.55it/s]"
     ]
    },
    {
     "name": "stderr",
     "output_type": "stream",
     "text": [
      "\r",
      "4-echo monoexponential:  71%|███████▏  | 14415/20176 [00:22<00:08, 642.08it/s]"
     ]
    },
    {
     "name": "stderr",
     "output_type": "stream",
     "text": [
      "\r",
      "4-echo monoexponential:  72%|███████▏  | 14486/20176 [00:23<00:08, 659.76it/s]"
     ]
    },
    {
     "name": "stderr",
     "output_type": "stream",
     "text": [
      "\r",
      "4-echo monoexponential:  72%|███████▏  | 14553/20176 [00:23<00:08, 662.07it/s]"
     ]
    },
    {
     "name": "stderr",
     "output_type": "stream",
     "text": [
      "\r",
      "4-echo monoexponential:  72%|███████▏  | 14620/20176 [00:23<00:08, 661.03it/s]"
     ]
    },
    {
     "name": "stderr",
     "output_type": "stream",
     "text": [
      "\r",
      "4-echo monoexponential:  73%|███████▎  | 14687/20176 [00:23<00:08, 655.84it/s]"
     ]
    },
    {
     "name": "stderr",
     "output_type": "stream",
     "text": [
      "\r",
      "4-echo monoexponential:  73%|███████▎  | 14753/20176 [00:23<00:08, 645.22it/s]"
     ]
    },
    {
     "name": "stderr",
     "output_type": "stream",
     "text": [
      "\r",
      "4-echo monoexponential:  73%|███████▎  | 14818/20176 [00:23<00:08, 640.68it/s]"
     ]
    },
    {
     "name": "stderr",
     "output_type": "stream",
     "text": [
      "\r",
      "4-echo monoexponential:  74%|███████▍  | 14883/20176 [00:23<00:08, 618.68it/s]"
     ]
    },
    {
     "name": "stderr",
     "output_type": "stream",
     "text": [
      "\r",
      "4-echo monoexponential:  74%|███████▍  | 14949/20176 [00:23<00:08, 629.63it/s]"
     ]
    },
    {
     "name": "stderr",
     "output_type": "stream",
     "text": [
      "\r",
      "4-echo monoexponential:  74%|███████▍  | 15013/20176 [00:23<00:08, 631.86it/s]"
     ]
    },
    {
     "name": "stderr",
     "output_type": "stream",
     "text": [
      "\r",
      "4-echo monoexponential:  75%|███████▍  | 15077/20176 [00:23<00:08, 631.03it/s]"
     ]
    },
    {
     "name": "stderr",
     "output_type": "stream",
     "text": [
      "\r",
      "4-echo monoexponential:  75%|███████▌  | 15144/20176 [00:24<00:07, 642.35it/s]"
     ]
    },
    {
     "name": "stderr",
     "output_type": "stream",
     "text": [
      "\r",
      "4-echo monoexponential:  75%|███████▌  | 15209/20176 [00:24<00:07, 640.32it/s]"
     ]
    },
    {
     "name": "stderr",
     "output_type": "stream",
     "text": [
      "\r",
      "4-echo monoexponential:  76%|███████▌  | 15275/20176 [00:24<00:07, 643.48it/s]"
     ]
    },
    {
     "name": "stderr",
     "output_type": "stream",
     "text": [
      "\r",
      "4-echo monoexponential:  76%|███████▌  | 15342/20176 [00:24<00:07, 650.05it/s]"
     ]
    },
    {
     "name": "stderr",
     "output_type": "stream",
     "text": [
      "\r",
      "4-echo monoexponential:  76%|███████▋  | 15408/20176 [00:24<00:07, 649.47it/s]"
     ]
    },
    {
     "name": "stderr",
     "output_type": "stream",
     "text": [
      "\r",
      "4-echo monoexponential:  77%|███████▋  | 15473/20176 [00:24<00:07, 648.80it/s]"
     ]
    },
    {
     "name": "stderr",
     "output_type": "stream",
     "text": [
      "\r",
      "4-echo monoexponential:  77%|███████▋  | 15538/20176 [00:24<00:07, 644.42it/s]"
     ]
    },
    {
     "name": "stderr",
     "output_type": "stream",
     "text": [
      "\r",
      "4-echo monoexponential:  77%|███████▋  | 15603/20176 [00:24<00:07, 618.75it/s]"
     ]
    },
    {
     "name": "stderr",
     "output_type": "stream",
     "text": [
      "\r",
      "4-echo monoexponential:  78%|███████▊  | 15667/20176 [00:24<00:07, 624.64it/s]"
     ]
    },
    {
     "name": "stderr",
     "output_type": "stream",
     "text": [
      "\r",
      "4-echo monoexponential:  78%|███████▊  | 15734/20176 [00:25<00:06, 635.90it/s]"
     ]
    },
    {
     "name": "stderr",
     "output_type": "stream",
     "text": [
      "\r",
      "4-echo monoexponential:  78%|███████▊  | 15798/20176 [00:25<00:07, 615.23it/s]"
     ]
    },
    {
     "name": "stderr",
     "output_type": "stream",
     "text": [
      "\r",
      "4-echo monoexponential:  79%|███████▊  | 15861/20176 [00:25<00:06, 619.21it/s]"
     ]
    },
    {
     "name": "stderr",
     "output_type": "stream",
     "text": [
      "\r",
      "4-echo monoexponential:  79%|███████▉  | 15928/20176 [00:25<00:06, 632.56it/s]"
     ]
    },
    {
     "name": "stderr",
     "output_type": "stream",
     "text": [
      "\r",
      "4-echo monoexponential:  79%|███████▉  | 15995/20176 [00:25<00:06, 641.54it/s]"
     ]
    },
    {
     "name": "stderr",
     "output_type": "stream",
     "text": [
      "\r",
      "4-echo monoexponential:  80%|███████▉  | 16063/20176 [00:25<00:06, 651.44it/s]"
     ]
    },
    {
     "name": "stderr",
     "output_type": "stream",
     "text": [
      "\r",
      "4-echo monoexponential:  80%|███████▉  | 16129/20176 [00:25<00:06, 649.52it/s]"
     ]
    },
    {
     "name": "stderr",
     "output_type": "stream",
     "text": [
      "\r",
      "4-echo monoexponential:  80%|████████  | 16195/20176 [00:25<00:06, 641.29it/s]"
     ]
    },
    {
     "name": "stderr",
     "output_type": "stream",
     "text": [
      "\r",
      "4-echo monoexponential:  81%|████████  | 16260/20176 [00:25<00:06, 642.67it/s]"
     ]
    },
    {
     "name": "stderr",
     "output_type": "stream",
     "text": [
      "\r",
      "4-echo monoexponential:  81%|████████  | 16325/20176 [00:25<00:06, 614.94it/s]"
     ]
    },
    {
     "name": "stderr",
     "output_type": "stream",
     "text": [
      "\r",
      "4-echo monoexponential:  81%|████████  | 16388/20176 [00:26<00:06, 618.83it/s]"
     ]
    },
    {
     "name": "stderr",
     "output_type": "stream",
     "text": [
      "\r",
      "4-echo monoexponential:  82%|████████▏ | 16451/20176 [00:26<00:06, 615.01it/s]"
     ]
    },
    {
     "name": "stderr",
     "output_type": "stream",
     "text": [
      "\r",
      "4-echo monoexponential:  82%|████████▏ | 16513/20176 [00:26<00:05, 613.23it/s]"
     ]
    },
    {
     "name": "stderr",
     "output_type": "stream",
     "text": [
      "\r",
      "4-echo monoexponential:  82%|████████▏ | 16578/20176 [00:26<00:05, 621.65it/s]"
     ]
    },
    {
     "name": "stderr",
     "output_type": "stream",
     "text": [
      "\r",
      "4-echo monoexponential:  82%|████████▏ | 16643/20176 [00:26<00:05, 629.91it/s]"
     ]
    },
    {
     "name": "stderr",
     "output_type": "stream",
     "text": [
      "\r",
      "4-echo monoexponential:  83%|████████▎ | 16712/20176 [00:26<00:05, 645.47it/s]"
     ]
    },
    {
     "name": "stderr",
     "output_type": "stream",
     "text": [
      "\r",
      "4-echo monoexponential:  83%|████████▎ | 16780/20176 [00:26<00:05, 652.60it/s]"
     ]
    },
    {
     "name": "stderr",
     "output_type": "stream",
     "text": [
      "\r",
      "4-echo monoexponential:  83%|████████▎ | 16846/20176 [00:26<00:05, 651.14it/s]"
     ]
    },
    {
     "name": "stderr",
     "output_type": "stream",
     "text": [
      "\r",
      "4-echo monoexponential:  84%|████████▍ | 16912/20176 [00:26<00:05, 643.95it/s]"
     ]
    },
    {
     "name": "stderr",
     "output_type": "stream",
     "text": [
      "\r",
      "4-echo monoexponential:  84%|████████▍ | 16977/20176 [00:26<00:05, 638.00it/s]"
     ]
    },
    {
     "name": "stderr",
     "output_type": "stream",
     "text": [
      "\r",
      "4-echo monoexponential:  84%|████████▍ | 17041/20176 [00:27<00:05, 608.39it/s]"
     ]
    },
    {
     "name": "stderr",
     "output_type": "stream",
     "text": [
      "\r",
      "4-echo monoexponential:  85%|████████▍ | 17106/20176 [00:27<00:04, 618.92it/s]"
     ]
    },
    {
     "name": "stderr",
     "output_type": "stream",
     "text": [
      "\r",
      "4-echo monoexponential:  85%|████████▌ | 17169/20176 [00:27<00:04, 613.99it/s]"
     ]
    },
    {
     "name": "stderr",
     "output_type": "stream",
     "text": [
      "\r",
      "4-echo monoexponential:  85%|████████▌ | 17232/20176 [00:27<00:04, 615.22it/s]"
     ]
    },
    {
     "name": "stderr",
     "output_type": "stream",
     "text": [
      "\r",
      "4-echo monoexponential:  86%|████████▌ | 17295/20176 [00:27<00:04, 618.67it/s]"
     ]
    },
    {
     "name": "stderr",
     "output_type": "stream",
     "text": [
      "\r",
      "4-echo monoexponential:  86%|████████▌ | 17361/20176 [00:27<00:04, 628.17it/s]"
     ]
    },
    {
     "name": "stderr",
     "output_type": "stream",
     "text": [
      "\r",
      "4-echo monoexponential:  86%|████████▋ | 17428/20176 [00:27<00:04, 640.02it/s]"
     ]
    },
    {
     "name": "stderr",
     "output_type": "stream",
     "text": [
      "\r",
      "4-echo monoexponential:  87%|████████▋ | 17493/20176 [00:27<00:04, 638.17it/s]"
     ]
    },
    {
     "name": "stderr",
     "output_type": "stream",
     "text": [
      "\r",
      "4-echo monoexponential:  87%|████████▋ | 17557/20176 [00:27<00:04, 634.27it/s]"
     ]
    },
    {
     "name": "stderr",
     "output_type": "stream",
     "text": [
      "\r",
      "4-echo monoexponential:  87%|████████▋ | 17621/20176 [00:28<00:04, 625.73it/s]"
     ]
    },
    {
     "name": "stderr",
     "output_type": "stream",
     "text": [
      "\r",
      "4-echo monoexponential:  88%|████████▊ | 17684/20176 [00:28<00:04, 602.79it/s]"
     ]
    },
    {
     "name": "stderr",
     "output_type": "stream",
     "text": [
      "\r",
      "4-echo monoexponential:  88%|████████▊ | 17745/20176 [00:28<00:04, 602.99it/s]"
     ]
    },
    {
     "name": "stderr",
     "output_type": "stream",
     "text": [
      "\r",
      "4-echo monoexponential:  88%|████████▊ | 17808/20176 [00:28<00:03, 608.53it/s]"
     ]
    },
    {
     "name": "stderr",
     "output_type": "stream",
     "text": [
      "\r",
      "4-echo monoexponential:  89%|████████▊ | 17871/20176 [00:28<00:03, 613.97it/s]"
     ]
    },
    {
     "name": "stderr",
     "output_type": "stream",
     "text": [
      "\r",
      "4-echo monoexponential:  89%|████████▉ | 17937/20176 [00:28<00:03, 625.01it/s]"
     ]
    },
    {
     "name": "stderr",
     "output_type": "stream",
     "text": [
      "\r",
      "4-echo monoexponential:  89%|████████▉ | 18005/20176 [00:28<00:03, 640.09it/s]"
     ]
    },
    {
     "name": "stderr",
     "output_type": "stream",
     "text": [
      "\r",
      "4-echo monoexponential:  90%|████████▉ | 18072/20176 [00:28<00:03, 646.67it/s]"
     ]
    },
    {
     "name": "stderr",
     "output_type": "stream",
     "text": [
      "\r",
      "4-echo monoexponential:  90%|████████▉ | 18137/20176 [00:28<00:03, 642.24it/s]"
     ]
    },
    {
     "name": "stderr",
     "output_type": "stream",
     "text": [
      "\r",
      "4-echo monoexponential:  90%|█████████ | 18202/20176 [00:28<00:03, 629.36it/s]"
     ]
    },
    {
     "name": "stderr",
     "output_type": "stream",
     "text": [
      "\r",
      "4-echo monoexponential:  91%|█████████ | 18266/20176 [00:29<00:03, 604.77it/s]"
     ]
    },
    {
     "name": "stderr",
     "output_type": "stream",
     "text": [
      "\r",
      "4-echo monoexponential:  91%|█████████ | 18328/20176 [00:29<00:03, 607.25it/s]"
     ]
    },
    {
     "name": "stderr",
     "output_type": "stream",
     "text": [
      "\r",
      "4-echo monoexponential:  91%|█████████ | 18389/20176 [00:29<00:02, 599.13it/s]"
     ]
    },
    {
     "name": "stderr",
     "output_type": "stream",
     "text": [
      "\r",
      "4-echo monoexponential:  91%|█████████▏| 18453/20176 [00:29<00:02, 609.53it/s]"
     ]
    },
    {
     "name": "stderr",
     "output_type": "stream",
     "text": [
      "\r",
      "4-echo monoexponential:  92%|█████████▏| 18516/20176 [00:29<00:02, 615.40it/s]"
     ]
    },
    {
     "name": "stderr",
     "output_type": "stream",
     "text": [
      "\r",
      "4-echo monoexponential:  92%|█████████▏| 18581/20176 [00:29<00:02, 623.98it/s]"
     ]
    },
    {
     "name": "stderr",
     "output_type": "stream",
     "text": [
      "\r",
      "4-echo monoexponential:  92%|█████████▏| 18647/20176 [00:29<00:02, 633.50it/s]"
     ]
    },
    {
     "name": "stderr",
     "output_type": "stream",
     "text": [
      "\r",
      "4-echo monoexponential:  93%|█████████▎| 18711/20176 [00:29<00:02, 619.35it/s]"
     ]
    },
    {
     "name": "stderr",
     "output_type": "stream",
     "text": [
      "\r",
      "4-echo monoexponential:  93%|█████████▎| 18774/20176 [00:29<00:02, 607.64it/s]"
     ]
    },
    {
     "name": "stderr",
     "output_type": "stream",
     "text": [
      "\r",
      "4-echo monoexponential:  93%|█████████▎| 18837/20176 [00:29<00:02, 613.96it/s]"
     ]
    },
    {
     "name": "stderr",
     "output_type": "stream",
     "text": [
      "\r",
      "4-echo monoexponential:  94%|█████████▎| 18899/20176 [00:30<00:02, 604.46it/s]"
     ]
    },
    {
     "name": "stderr",
     "output_type": "stream",
     "text": [
      "\r",
      "4-echo monoexponential:  94%|█████████▍| 18963/20176 [00:30<00:01, 613.54it/s]"
     ]
    },
    {
     "name": "stderr",
     "output_type": "stream",
     "text": [
      "\r",
      "4-echo monoexponential:  94%|█████████▍| 19030/20176 [00:30<00:01, 628.22it/s]"
     ]
    },
    {
     "name": "stderr",
     "output_type": "stream",
     "text": [
      "\r",
      "4-echo monoexponential:  95%|█████████▍| 19097/20176 [00:30<00:01, 637.40it/s]"
     ]
    },
    {
     "name": "stderr",
     "output_type": "stream",
     "text": [
      "\r",
      "4-echo monoexponential:  95%|█████████▍| 19161/20176 [00:30<00:01, 627.47it/s]"
     ]
    },
    {
     "name": "stderr",
     "output_type": "stream",
     "text": [
      "\r",
      "4-echo monoexponential:  95%|█████████▌| 19224/20176 [00:30<00:01, 606.51it/s]"
     ]
    },
    {
     "name": "stderr",
     "output_type": "stream",
     "text": [
      "\r",
      "4-echo monoexponential:  96%|█████████▌| 19285/20176 [00:30<00:01, 602.87it/s]"
     ]
    },
    {
     "name": "stderr",
     "output_type": "stream",
     "text": [
      "\r",
      "4-echo monoexponential:  96%|█████████▌| 19346/20176 [00:30<00:01, 596.66it/s]"
     ]
    },
    {
     "name": "stderr",
     "output_type": "stream",
     "text": [
      "\r",
      "4-echo monoexponential:  96%|█████████▌| 19406/20176 [00:30<00:01, 596.00it/s]"
     ]
    },
    {
     "name": "stderr",
     "output_type": "stream",
     "text": [
      "\r",
      "4-echo monoexponential:  96%|█████████▋| 19469/20176 [00:31<00:01, 603.78it/s]"
     ]
    },
    {
     "name": "stderr",
     "output_type": "stream",
     "text": [
      "\r",
      "4-echo monoexponential:  97%|█████████▋| 19533/20176 [00:31<00:01, 611.58it/s]"
     ]
    },
    {
     "name": "stderr",
     "output_type": "stream",
     "text": [
      "\r",
      "4-echo monoexponential:  97%|█████████▋| 19595/20176 [00:31<00:00, 607.31it/s]"
     ]
    },
    {
     "name": "stderr",
     "output_type": "stream",
     "text": [
      "\r",
      "4-echo monoexponential:  97%|█████████▋| 19657/20176 [00:31<00:00, 610.80it/s]"
     ]
    },
    {
     "name": "stderr",
     "output_type": "stream",
     "text": [
      "\r",
      "4-echo monoexponential:  98%|█████████▊| 19722/20176 [00:31<00:00, 620.10it/s]"
     ]
    },
    {
     "name": "stderr",
     "output_type": "stream",
     "text": [
      "\r",
      "4-echo monoexponential:  98%|█████████▊| 19791/20176 [00:31<00:00, 638.94it/s]"
     ]
    },
    {
     "name": "stderr",
     "output_type": "stream",
     "text": [
      "\r",
      "4-echo monoexponential:  98%|█████████▊| 19855/20176 [00:31<00:00, 627.99it/s]"
     ]
    },
    {
     "name": "stderr",
     "output_type": "stream",
     "text": [
      "\r",
      "4-echo monoexponential:  99%|█████████▊| 19918/20176 [00:31<00:00, 612.81it/s]"
     ]
    },
    {
     "name": "stderr",
     "output_type": "stream",
     "text": [
      "\r",
      "4-echo monoexponential:  99%|█████████▉| 19980/20176 [00:31<00:00, 612.04it/s]"
     ]
    },
    {
     "name": "stderr",
     "output_type": "stream",
     "text": [
      "\r",
      "4-echo monoexponential:  99%|█████████▉| 20042/20176 [00:31<00:00, 607.97it/s]"
     ]
    },
    {
     "name": "stderr",
     "output_type": "stream",
     "text": [
      "\r",
      "4-echo monoexponential: 100%|█████████▉| 20103/20176 [00:32<00:00, 602.03it/s]"
     ]
    },
    {
     "name": "stderr",
     "output_type": "stream",
     "text": [
      "\r",
      "4-echo monoexponential: 100%|█████████▉| 20164/20176 [00:32<00:00, 601.55it/s]"
     ]
    },
    {
     "name": "stderr",
     "output_type": "stream",
     "text": [
      "\r",
      "4-echo monoexponential: 100%|██████████| 20176/20176 [00:32<00:00, 627.16it/s]"
     ]
    },
    {
     "name": "stderr",
     "output_type": "stream",
     "text": [
      "\n",
      "INFO     t2smap:t2smap_workflow:370 Calculating model fit quality metrics\n"
     ]
    },
    {
     "name": "stderr",
     "output_type": "stream",
     "text": [
      "/opt/hostedtoolcache/Python/3.10.17/x64/lib/python3.10/site-packages/tedana/decay.py:541: RuntimeWarning: Mean of empty slice\n",
      "  rmse_map = np.nanmean(rmse, axis=1)\n"
     ]
    },
    {
     "name": "stderr",
     "output_type": "stream",
     "text": [
      "INFO     t2smap:t2smap_workflow:382 Computing optimal combination\n"
     ]
    },
    {
     "name": "stderr",
     "output_type": "stream",
     "text": [
      "INFO     combine:make_optcom:192 Optimally combining data with voxel-wise T2* estimates\n"
     ]
    },
    {
     "name": "stderr",
     "output_type": "stream",
     "text": [
      "INFO     t2smap:t2smap_workflow:440 Workflow completed\n"
     ]
    },
    {
     "name": "stderr",
     "output_type": "stream",
     "text": [
      "INFO     utils:log_newsletter_info:705 Don't forget to subscribe to the tedana newsletter for updates! This is a very low volume email list.\n"
     ]
    },
    {
     "name": "stderr",
     "output_type": "stream",
     "text": [
      "INFO     utils:log_newsletter_info:709 https://groups.google.com/g/tedana-newsletter\n"
     ]
    }
   ],
   "source": [
    "workflows.t2smap_workflow(\n",
    "    data_files,\n",
    "    echo_times,\n",
    "    out_dir=out_dir,\n",
    "    mask=mask_file,\n",
    "    prefix=\"sub-04570_task-rest_space-scanner\",\n",
    "    fittype=\"curvefit\",\n",
    ")"
   ]
  },
  {
   "cell_type": "code",
   "execution_count": 4,
   "id": "f824c989",
   "metadata": {},
   "outputs": [
    {
     "name": "stdout",
     "output_type": "stream",
     "text": [
      "sub-04570_task-rest_space-scanner_S0map.nii.gz\n",
      "sub-04570_task-rest_space-scanner_T2starmap.nii.gz\n",
      "sub-04570_task-rest_space-scanner_dataset_description.json\n",
      "sub-04570_task-rest_space-scanner_desc-confounds_timeseries.tsv\n",
      "sub-04570_task-rest_space-scanner_desc-limited_S0map.nii.gz\n",
      "sub-04570_task-rest_space-scanner_desc-limited_T2starmap.nii.gz\n",
      "sub-04570_task-rest_space-scanner_desc-optcom_bold.nii.gz\n",
      "sub-04570_task-rest_space-scanner_desc-rmse_statmap.nii.gz\n",
      "sub-04570_task-rest_space-scanner_desc-tedana_registry.json\n"
     ]
    }
   ],
   "source": [
    "out_files = sorted(glob(os.path.join(out_dir, \"*\")))\n",
    "out_files = [os.path.basename(f) for f in out_files]\n",
    "print(\"\\n\".join(out_files))"
   ]
  },
  {
   "cell_type": "code",
   "execution_count": 5,
   "id": "d21729de",
   "metadata": {},
   "outputs": [],
   "source": [
    "fig, ax = plt.subplots(figsize=(16, 8))\n",
    "plotting.plot_stat_map(\n",
    "    os.path.join(out_dir, \"sub-04570_task-rest_space-scanner_T2starmap.nii.gz\"),\n",
    "    vmax=0.6,\n",
    "    draw_cross=False,\n",
    "    bg_img=None,\n",
    "    figure=fig,\n",
    "    axes=ax,\n",
    ")\n",
    "glue(\"figure_t2starmap\", fig, display=False)"
   ]
  },
  {
   "cell_type": "markdown",
   "id": "09ef0bc7",
   "metadata": {},
   "source": [
    "```{glue:figure} figure_t2starmap\n",
    ":name: \"figure_t2starmap\"\n",
    ":align: center\n",
    "\n",
    "T2* map estimated from multi-echo data using tedana's {py:func}`~tedana.workflows.t2smap_workflow`.\n",
    "```"
   ]
  },
  {
   "cell_type": "code",
   "execution_count": 6,
   "id": "be613287",
   "metadata": {},
   "outputs": [],
   "source": [
    "fig, ax = plt.subplots(figsize=(16, 8))\n",
    "plotting.plot_stat_map(\n",
    "    os.path.join(out_dir, \"sub-04570_task-rest_space-scanner_S0map.nii.gz\"),\n",
    "    vmax=8000,\n",
    "    draw_cross=False,\n",
    "    bg_img=None,\n",
    "    figure=fig,\n",
    "    axes=ax,\n",
    ")\n",
    "glue(\"figure_s0map\", fig, display=False)"
   ]
  },
  {
   "cell_type": "markdown",
   "id": "b15001dc",
   "metadata": {},
   "source": [
    "```{glue:figure} figure_s0map\n",
    ":name: \"figure_s0map\"\n",
    ":align: center\n",
    "\n",
    "S0 map estimated from multi-echo data using tedana's {py:func}`~tedana.workflows.t2smap_workflow`.\n",
    "```"
   ]
  },
  {
   "cell_type": "code",
   "execution_count": 7,
   "id": "b59891be",
   "metadata": {},
   "outputs": [],
   "source": [
    "fig, axes = plt.subplots(figsize=(16, 15), nrows=5)\n",
    "plotting.plot_epi(\n",
    "    image.mean_img(data_files[0]),\n",
    "    draw_cross=False,\n",
    "    bg_img=None,\n",
    "    cut_coords=[-10, 0, 10, 20, 30, 40, 50, 60, 70],\n",
    "    display_mode=\"z\",\n",
    "    figure=fig,\n",
    "    axes=axes[0],\n",
    ")\n",
    "plotting.plot_epi(\n",
    "    image.mean_img(data_files[1]),\n",
    "    draw_cross=False,\n",
    "    bg_img=None,\n",
    "    cut_coords=[-10, 0, 10, 20, 30, 40, 50, 60, 70],\n",
    "    display_mode=\"z\",\n",
    "    figure=fig,\n",
    "    axes=axes[1],\n",
    ")\n",
    "plotting.plot_epi(\n",
    "    image.mean_img(data_files[2]),\n",
    "    draw_cross=False,\n",
    "    bg_img=None,\n",
    "    cut_coords=[-10, 0, 10, 20, 30, 40, 50, 60, 70],\n",
    "    display_mode=\"z\",\n",
    "    figure=fig,\n",
    "    axes=axes[2],\n",
    ")\n",
    "plotting.plot_epi(\n",
    "    image.mean_img(data_files[3]),\n",
    "    draw_cross=False,\n",
    "    bg_img=None,\n",
    "    cut_coords=[-10, 0, 10, 20, 30, 40, 50, 60, 70],\n",
    "    display_mode=\"z\",\n",
    "    figure=fig,\n",
    "    axes=axes[3],\n",
    ")\n",
    "plotting.plot_epi(\n",
    "    image.mean_img(\n",
    "        os.path.join(\n",
    "            out_dir, \"sub-04570_task-rest_space-scanner_desc-optcom_bold.nii.gz\"\n",
    "        )\n",
    "    ),\n",
    "    draw_cross=False,\n",
    "    bg_img=None,\n",
    "    cut_coords=[-10, 0, 10, 20, 30, 40, 50, 60, 70],\n",
    "    display_mode=\"z\",\n",
    "    figure=fig,\n",
    "    axes=axes[4],\n",
    ")\n",
    "glue(\"figure_t2smap_epi_plots\", fig, display=False)"
   ]
  },
  {
   "cell_type": "markdown",
   "id": "dca3e950",
   "metadata": {},
   "source": [
    "```{glue:figure} figure_t2smap_epi_plots\n",
    ":name: \"figure_t2smap_epi_plots\"\n",
    ":align: center\n",
    "\n",
    "Mean map of each of the echoes in the original data, along with the mean map of the optimally combined data.\n",
    "```"
   ]
  },
  {
   "cell_type": "code",
   "execution_count": 8,
   "id": "4db2901e",
   "metadata": {},
   "outputs": [
    {
     "name": "stderr",
     "output_type": "stream",
     "text": [
      "<string>:1: RuntimeWarning: invalid value encountered in divide\n"
     ]
    },
    {
     "name": "stderr",
     "output_type": "stream",
     "text": [
      "/opt/hostedtoolcache/Python/3.10.17/x64/lib/python3.10/site-packages/nilearn/plotting/img_plotting.py:1317: UserWarning: Non-finite values detected. These values will be replaced with zeros.\n",
      "  safe_get_data(stat_map_img, ensure_finite=True),\n"
     ]
    }
   ],
   "source": [
    "te30_tsnr = image.math_img(\n",
    "    \"(np.nanmean(img, axis=3) / np.nanstd(img, axis=3)) * mask\",\n",
    "    img=data_files[1],\n",
    "    mask=mask_file,\n",
    ")\n",
    "oc_tsnr = image.math_img(\n",
    "    \"(np.nanmean(img, axis=3) / np.nanstd(img, axis=3)) * mask\",\n",
    "    img=os.path.join(\n",
    "        out_dir, \"sub-04570_task-rest_space-scanner_desc-optcom_bold.nii.gz\"\n",
    "    ),\n",
    "    mask=mask_file,\n",
    ")\n",
    "vmax = np.nanmax(np.abs(oc_tsnr.get_fdata()))\n",
    "\n",
    "fig, axes = plt.subplots(figsize=(10, 8), nrows=2)\n",
    "plotting.plot_stat_map(\n",
    "    te30_tsnr,\n",
    "    draw_cross=False,\n",
    "    bg_img=None,\n",
    "    threshold=0.1,\n",
    "    cut_coords=[0, 10, 10],\n",
    "    vmax=vmax,\n",
    "    symmetric_cbar=False,\n",
    "    figure=fig,\n",
    "    axes=axes[0],\n",
    ")\n",
    "axes[0].set_title(\"TE30 TSNR\", fontsize=16)\n",
    "plotting.plot_stat_map(\n",
    "    oc_tsnr,\n",
    "    draw_cross=False,\n",
    "    bg_img=None,\n",
    "    threshold=0.1,\n",
    "    cut_coords=[0, 10, 10],\n",
    "    vmax=vmax,\n",
    "    symmetric_cbar=False,\n",
    "    figure=fig,\n",
    "    axes=axes[1],\n",
    ")\n",
    "axes[1].set_title(\"Optimal Combination TSNR\", fontsize=16)\n",
    "glue(\"figure_t2smap_t2snr\", fig, display=False)"
   ]
  },
  {
   "cell_type": "markdown",
   "id": "730ed72e",
   "metadata": {},
   "source": [
    "```{glue:figure} figure_t2smap_t2snr\n",
    ":name: \"figure_t2smap_t2snr\"\n",
    ":align: center\n",
    "\n",
    "TSNR map of each of the echoes in the original data, along with the TSNR map of the optimally combined data.\n",
    "```"
   ]
  },
  {
   "cell_type": "code",
   "execution_count": 9,
   "id": "b69cd140",
   "metadata": {},
   "outputs": [],
   "source": [
    "fig, ax = plt.subplots(figsize=(16, 8))\n",
    "plotting.plot_carpet(\n",
    "    data_files[1],\n",
    "    figure=fig,\n",
    "    axes=ax,\n",
    ")\n",
    "glue(\"figure_echo2_carpet\", fig, display=False)"
   ]
  },
  {
   "cell_type": "markdown",
   "id": "01889603",
   "metadata": {},
   "source": [
    "```{glue:figure} figure_echo2_carpet\n",
    ":name: \"figure_echo2_carpet\"\n",
    ":align: center\n",
    "\n",
    "Carpet plot of the second echo's data.\n",
    "```"
   ]
  },
  {
   "cell_type": "code",
   "execution_count": 10,
   "id": "b0a440d9",
   "metadata": {},
   "outputs": [],
   "source": [
    "fig, ax = plt.subplots(figsize=(16, 8))\n",
    "plotting.plot_carpet(\n",
    "    os.path.join(out_dir, \"sub-04570_task-rest_space-scanner_desc-optcom_bold.nii.gz\"),\n",
    "    axes=ax,\n",
    ")\n",
    "glue(\"figure_optcom_carpet\", fig, display=False)"
   ]
  },
  {
   "cell_type": "markdown",
   "id": "f8aa5413",
   "metadata": {},
   "source": [
    "```{glue:figure} figure_optcom_carpet\n",
    ":name: \"figure_optcom_carpet\"\n",
    ":align: center\n",
    "\n",
    "Carpet plot of the optimally combined data.\n",
    "```"
   ]
  }
 ],
 "metadata": {
  "jupytext": {
   "text_representation": {
    "extension": ".md",
    "format_name": "myst",
    "format_version": 0.13,
    "jupytext_version": "1.10.3"
   }
  },
  "kernelspec": {
   "display_name": "Python 3",
   "language": "python",
   "name": "python3"
  },
  "language_info": {
   "codemirror_mode": {
    "name": "ipython",
    "version": 3
   },
   "file_extension": ".py",
   "mimetype": "text/x-python",
   "name": "python",
   "nbconvert_exporter": "python",
   "pygments_lexer": "ipython3",
   "version": "3.10.17"
  },
  "source_map": [
   12,
   18,
   38,
   69,
   80,
   86,
   97,
   106,
   117,
   126,
   178,
   187,
   228,
   237,
   245,
   254,
   261
  ]
 },
 "nbformat": 4,
 "nbformat_minor": 5
}