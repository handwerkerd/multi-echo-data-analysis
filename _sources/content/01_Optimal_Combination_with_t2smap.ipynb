{
 "cells": [
  {
   "cell_type": "markdown",
   "id": "aff85b27",
   "metadata": {},
   "source": [
    "# Optimal combination with `t2smap`\n",
    "\n",
    "Use `t2smap` {cite:p}`DuPre2021` to combine data."
   ]
  },
  {
   "cell_type": "code",
   "execution_count": 1,
   "id": "d2d0a59e",
   "metadata": {},
   "outputs": [
    {
     "name": "stdout",
     "output_type": "stream",
     "text": [
      "---- repo2data starting ----\n",
      "/opt/hostedtoolcache/Python/3.10.18/x64/lib/python3.10/site-packages/repo2data\n",
      "Config from file :\n",
      "../binder/data_requirement.json\n",
      "Destination:\n",
      "./../data/multi-echo-data-analysis\n",
      "\n",
      "Info : ./../data/multi-echo-data-analysis already downloaded\n"
     ]
    },
    {
     "name": "stderr",
     "output_type": "stream",
     "text": [
      "/opt/hostedtoolcache/Python/3.10.18/x64/lib/python3.10/site-packages/tqdm/auto.py:21: TqdmWarning: IProgress not found. Please update jupyter and ipywidgets. See https://ipywidgets.readthedocs.io/en/stable/user_install.html\n",
      "  from .autonotebook import tqdm as notebook_tqdm\n"
     ]
    }
   ],
   "source": [
    "import os\n",
    "from glob import glob\n",
    "\n",
    "import matplotlib.pyplot as plt\n",
    "import numpy as np\n",
    "from myst_nb import glue\n",
    "from nilearn import image, plotting\n",
    "from repo2data.repo2data import Repo2Data\n",
    "from tedana import workflows\n",
    "\n",
    "# Install the data if running locally, or point to cached data if running on neurolibre\n",
    "DATA_REQ_FILE = os.path.join(\"../binder/data_requirement.json\")\n",
    "\n",
    "# Download data\n",
    "repo2data = Repo2Data(DATA_REQ_FILE)\n",
    "data_path = repo2data.install()\n",
    "data_path = os.path.abspath(data_path[0])"
   ]
  },
  {
   "cell_type": "code",
   "execution_count": 2,
   "id": "eef48f31",
   "metadata": {},
   "outputs": [],
   "source": [
    "func_dir = os.path.join(data_path, \"func/\")\n",
    "data_files = [\n",
    "    os.path.join(\n",
    "        func_dir,\n",
    "        \"sub-04570_task-rest_echo-1_space-scanner_desc-partialPreproc_bold.nii.gz\",\n",
    "    ),\n",
    "    os.path.join(\n",
    "        func_dir,\n",
    "        \"sub-04570_task-rest_echo-2_space-scanner_desc-partialPreproc_bold.nii.gz\",\n",
    "    ),\n",
    "    os.path.join(\n",
    "        func_dir,\n",
    "        \"sub-04570_task-rest_echo-3_space-scanner_desc-partialPreproc_bold.nii.gz\",\n",
    "    ),\n",
    "    os.path.join(\n",
    "        func_dir,\n",
    "        \"sub-04570_task-rest_echo-4_space-scanner_desc-partialPreproc_bold.nii.gz\",\n",
    "    ),\n",
    "]\n",
    "echo_times = [12.0, 28.0, 44.0, 60.0]\n",
    "mask_file = os.path.join(\n",
    "    func_dir, \"sub-04570_task-rest_space-scanner_desc-brain_mask.nii.gz\"\n",
    ")\n",
    "confounds_file = os.path.join(\n",
    "    func_dir, \"sub-04570_task-rest_desc-confounds_timeseries.tsv\"\n",
    ")\n",
    "\n",
    "out_dir = os.path.join(data_path, \"t2smap\")"
   ]
  },
  {
   "cell_type": "code",
   "execution_count": 3,
   "id": "952e59ef",
   "metadata": {},
   "outputs": [
    {
     "name": "stderr",
     "output_type": "stream",
     "text": [
      "INFO     t2smap:t2smap_workflow:300 Using output directory: /home/runner/work/multi-echo-data-analysis/multi-echo-data-analysis/data/multi-echo-data-analysis/t2smap\n"
     ]
    },
    {
     "name": "stderr",
     "output_type": "stream",
     "text": [
      "INFO     t2smap:t2smap_workflow:326 Loading input data: ['/home/runner/work/multi-echo-data-analysis/multi-echo-data-analysis/data/multi-echo-data-analysis/func/sub-04570_task-rest_echo-1_space-scanner_desc-partialPreproc_bold.nii.gz', '/home/runner/work/multi-echo-data-analysis/multi-echo-data-analysis/data/multi-echo-data-analysis/func/sub-04570_task-rest_echo-2_space-scanner_desc-partialPreproc_bold.nii.gz', '/home/runner/work/multi-echo-data-analysis/multi-echo-data-analysis/data/multi-echo-data-analysis/func/sub-04570_task-rest_echo-3_space-scanner_desc-partialPreproc_bold.nii.gz', '/home/runner/work/multi-echo-data-analysis/multi-echo-data-analysis/data/multi-echo-data-analysis/func/sub-04570_task-rest_echo-4_space-scanner_desc-partialPreproc_bold.nii.gz']\n"
     ]
    },
    {
     "name": "stderr",
     "output_type": "stream",
     "text": [
      "INFO     t2smap:t2smap_workflow:348 Using user-defined mask\n"
     ]
    },
    {
     "name": "stderr",
     "output_type": "stream",
     "text": [
      "INFO     utils:make_adaptive_mask:202 Echo-wise intensity thresholds for adaptive mask: [258.33994278 180.98638476 134.6796175   91.51006253]\n"
     ]
    },
    {
     "name": "stderr",
     "output_type": "stream",
     "text": [
      "WARNING  utils:make_adaptive_mask:231 734 voxels in user-defined mask do not have good signal. Removing voxels from mask.\n"
     ]
    },
    {
     "name": "stderr",
     "output_type": "stream",
     "text": [
      "INFO     t2smap:t2smap_workflow:357 Computing adaptive T2* map\n"
     ]
    },
    {
     "name": "stderr",
     "output_type": "stream",
     "text": [
      "\r",
      "2-echo monoexponential:   0%|          | 0/2224 [00:00<?, ?it/s]"
     ]
    },
    {
     "name": "stderr",
     "output_type": "stream",
     "text": [
      "\r",
      "2-echo monoexponential:   3%|▎         | 65/2224 [00:00<00:03, 649.62it/s]"
     ]
    },
    {
     "name": "stderr",
     "output_type": "stream",
     "text": [
      "\r",
      "2-echo monoexponential:   7%|▋         | 150/2224 [00:00<00:02, 763.37it/s]"
     ]
    },
    {
     "name": "stderr",
     "output_type": "stream",
     "text": [
      "\r",
      "2-echo monoexponential:  10%|█         | 231/2224 [00:00<00:02, 780.94it/s]"
     ]
    },
    {
     "name": "stderr",
     "output_type": "stream",
     "text": [
      "\r",
      "2-echo monoexponential:  14%|█▍        | 310/2224 [00:00<00:02, 766.80it/s]"
     ]
    },
    {
     "name": "stderr",
     "output_type": "stream",
     "text": [
      "\r",
      "2-echo monoexponential:  18%|█▊        | 394/2224 [00:00<00:02, 791.19it/s]"
     ]
    },
    {
     "name": "stderr",
     "output_type": "stream",
     "text": [
      "\r",
      "2-echo monoexponential:  22%|██▏       | 482/2224 [00:00<00:02, 817.91it/s]"
     ]
    },
    {
     "name": "stderr",
     "output_type": "stream",
     "text": [
      "\r",
      "2-echo monoexponential:  25%|██▌       | 567/2224 [00:00<00:02, 827.69it/s]"
     ]
    },
    {
     "name": "stderr",
     "output_type": "stream",
     "text": [
      "\r",
      "2-echo monoexponential:  29%|██▉       | 650/2224 [00:00<00:02, 785.00it/s]"
     ]
    },
    {
     "name": "stderr",
     "output_type": "stream",
     "text": [
      "\r",
      "2-echo monoexponential:  33%|███▎      | 729/2224 [00:00<00:02, 736.98it/s]"
     ]
    },
    {
     "name": "stderr",
     "output_type": "stream",
     "text": [
      "\r",
      "2-echo monoexponential:  37%|███▋      | 814/2224 [00:01<00:01, 767.25it/s]"
     ]
    },
    {
     "name": "stderr",
     "output_type": "stream",
     "text": [
      "\r",
      "2-echo monoexponential:  40%|████      | 894/2224 [00:01<00:01, 775.72it/s]"
     ]
    },
    {
     "name": "stderr",
     "output_type": "stream",
     "text": [
      "\r",
      "2-echo monoexponential:  44%|████▍     | 977/2224 [00:01<00:01, 789.48it/s]"
     ]
    },
    {
     "name": "stderr",
     "output_type": "stream",
     "text": [
      "\r",
      "2-echo monoexponential:  48%|████▊     | 1058/2224 [00:01<00:01, 794.39it/s]"
     ]
    },
    {
     "name": "stderr",
     "output_type": "stream",
     "text": [
      "\r",
      "2-echo monoexponential:  51%|█████▏    | 1141/2224 [00:01<00:01, 803.00it/s]"
     ]
    },
    {
     "name": "stderr",
     "output_type": "stream",
     "text": [
      "\r",
      "2-echo monoexponential:  55%|█████▍    | 1222/2224 [00:01<00:01, 802.06it/s]"
     ]
    },
    {
     "name": "stderr",
     "output_type": "stream",
     "text": [
      "\r",
      "2-echo monoexponential:  59%|█████▊    | 1305/2224 [00:01<00:01, 808.32it/s]"
     ]
    },
    {
     "name": "stderr",
     "output_type": "stream",
     "text": [
      "\r",
      "2-echo monoexponential:  62%|██████▏   | 1388/2224 [00:01<00:01, 812.32it/s]"
     ]
    },
    {
     "name": "stderr",
     "output_type": "stream",
     "text": [
      "\r",
      "2-echo monoexponential:  66%|██████▌   | 1471/2224 [00:01<00:00, 815.46it/s]"
     ]
    },
    {
     "name": "stderr",
     "output_type": "stream",
     "text": [
      "\r",
      "2-echo monoexponential:  70%|██████▉   | 1555/2224 [00:01<00:00, 820.22it/s]"
     ]
    },
    {
     "name": "stderr",
     "output_type": "stream",
     "text": [
      "\r",
      "2-echo monoexponential:  74%|███████▍  | 1642/2224 [00:02<00:00, 831.68it/s]"
     ]
    },
    {
     "name": "stderr",
     "output_type": "stream",
     "text": [
      "\r",
      "2-echo monoexponential:  78%|███████▊  | 1726/2224 [00:02<00:00, 823.66it/s]"
     ]
    },
    {
     "name": "stderr",
     "output_type": "stream",
     "text": [
      "\r",
      "2-echo monoexponential:  81%|████████▏ | 1809/2224 [00:02<00:00, 662.60it/s]"
     ]
    },
    {
     "name": "stderr",
     "output_type": "stream",
     "text": [
      "\r",
      "2-echo monoexponential:  85%|████████▌ | 1895/2224 [00:02<00:00, 711.27it/s]"
     ]
    },
    {
     "name": "stderr",
     "output_type": "stream",
     "text": [
      "\r",
      "2-echo monoexponential:  89%|████████▉ | 1981/2224 [00:02<00:00, 750.01it/s]"
     ]
    },
    {
     "name": "stderr",
     "output_type": "stream",
     "text": [
      "\r",
      "2-echo monoexponential:  93%|█████████▎| 2064/2224 [00:02<00:00, 770.99it/s]"
     ]
    },
    {
     "name": "stderr",
     "output_type": "stream",
     "text": [
      "\r",
      "2-echo monoexponential:  96%|█████████▋| 2145/2224 [00:02<00:00, 779.44it/s]"
     ]
    },
    {
     "name": "stderr",
     "output_type": "stream",
     "text": [
      "\r",
      "2-echo monoexponential: 100%|██████████| 2224/2224 [00:02<00:00, 781.51it/s]"
     ]
    },
    {
     "name": "stderr",
     "output_type": "stream",
     "text": [
      "\n"
     ]
    },
    {
     "name": "stderr",
     "output_type": "stream",
     "text": [
      "\r",
      "3-echo monoexponential:   0%|          | 0/1092 [00:00<?, ?it/s]"
     ]
    },
    {
     "name": "stderr",
     "output_type": "stream",
     "text": [
      "\r",
      "3-echo monoexponential:   5%|▍         | 51/1092 [00:00<00:02, 508.15it/s]"
     ]
    },
    {
     "name": "stderr",
     "output_type": "stream",
     "text": [
      "\r",
      "3-echo monoexponential:  10%|▉         | 106/1092 [00:00<00:01, 529.20it/s]"
     ]
    },
    {
     "name": "stderr",
     "output_type": "stream",
     "text": [
      "\r",
      "3-echo monoexponential:  15%|█▍        | 161/1092 [00:00<00:01, 535.28it/s]"
     ]
    },
    {
     "name": "stderr",
     "output_type": "stream",
     "text": [
      "\r",
      "3-echo monoexponential:  20%|█▉        | 216/1092 [00:00<00:01, 539.99it/s]"
     ]
    },
    {
     "name": "stderr",
     "output_type": "stream",
     "text": [
      "\r",
      "3-echo monoexponential:  25%|██▍       | 270/1092 [00:00<00:01, 539.90it/s]"
     ]
    },
    {
     "name": "stderr",
     "output_type": "stream",
     "text": [
      "\r",
      "3-echo monoexponential:  30%|██▉       | 324/1092 [00:00<00:01, 537.43it/s]"
     ]
    },
    {
     "name": "stderr",
     "output_type": "stream",
     "text": [
      "\r",
      "3-echo monoexponential:  35%|███▍      | 378/1092 [00:00<00:01, 527.82it/s]"
     ]
    },
    {
     "name": "stderr",
     "output_type": "stream",
     "text": [
      "\r",
      "3-echo monoexponential:  39%|███▉      | 431/1092 [00:00<00:01, 528.30it/s]"
     ]
    },
    {
     "name": "stderr",
     "output_type": "stream",
     "text": [
      "\r",
      "3-echo monoexponential:  45%|████▍     | 488/1092 [00:00<00:01, 539.47it/s]"
     ]
    },
    {
     "name": "stderr",
     "output_type": "stream",
     "text": [
      "\r",
      "3-echo monoexponential:  50%|████▉     | 542/1092 [00:01<00:01, 533.04it/s]"
     ]
    },
    {
     "name": "stderr",
     "output_type": "stream",
     "text": [
      "\r",
      "3-echo monoexponential:  55%|█████▍    | 596/1092 [00:01<00:00, 527.47it/s]"
     ]
    },
    {
     "name": "stderr",
     "output_type": "stream",
     "text": [
      "\r",
      "3-echo monoexponential:  60%|█████▉    | 652/1092 [00:01<00:00, 536.67it/s]"
     ]
    },
    {
     "name": "stderr",
     "output_type": "stream",
     "text": [
      "\r",
      "3-echo monoexponential:  65%|██████▍   | 706/1092 [00:01<00:00, 532.49it/s]"
     ]
    },
    {
     "name": "stderr",
     "output_type": "stream",
     "text": [
      "\r",
      "3-echo monoexponential:  70%|██████▉   | 760/1092 [00:01<00:00, 527.90it/s]"
     ]
    },
    {
     "name": "stderr",
     "output_type": "stream",
     "text": [
      "\r",
      "3-echo monoexponential:  74%|███████▍  | 813/1092 [00:01<00:00, 523.16it/s]"
     ]
    },
    {
     "name": "stderr",
     "output_type": "stream",
     "text": [
      "\r",
      "3-echo monoexponential:  79%|███████▉  | 866/1092 [00:01<00:00, 524.97it/s]"
     ]
    },
    {
     "name": "stderr",
     "output_type": "stream",
     "text": [
      "\r",
      "3-echo monoexponential:  84%|████████▍ | 922/1092 [00:01<00:00, 534.87it/s]"
     ]
    },
    {
     "name": "stderr",
     "output_type": "stream",
     "text": [
      "\r",
      "3-echo monoexponential:  89%|████████▉ | 977/1092 [00:01<00:00, 537.75it/s]"
     ]
    },
    {
     "name": "stderr",
     "output_type": "stream",
     "text": [
      "\r",
      "3-echo monoexponential:  95%|█████████▍| 1032/1092 [00:01<00:00, 540.36it/s]"
     ]
    },
    {
     "name": "stderr",
     "output_type": "stream",
     "text": [
      "\r",
      "3-echo monoexponential: 100%|█████████▉| 1087/1092 [00:02<00:00, 535.77it/s]"
     ]
    },
    {
     "name": "stderr",
     "output_type": "stream",
     "text": [
      "\r",
      "3-echo monoexponential: 100%|██████████| 1092/1092 [00:02<00:00, 532.82it/s]"
     ]
    },
    {
     "name": "stderr",
     "output_type": "stream",
     "text": [
      "\n"
     ]
    },
    {
     "name": "stderr",
     "output_type": "stream",
     "text": [
      "\r",
      "4-echo monoexponential:   0%|          | 0/20176 [00:00<?, ?it/s]"
     ]
    },
    {
     "name": "stderr",
     "output_type": "stream",
     "text": [
      "\r",
      "4-echo monoexponential:   0%|          | 55/20176 [00:00<00:37, 539.47it/s]"
     ]
    },
    {
     "name": "stderr",
     "output_type": "stream",
     "text": [
      "\r",
      "4-echo monoexponential:   1%|          | 111/20176 [00:00<00:36, 551.23it/s]"
     ]
    },
    {
     "name": "stderr",
     "output_type": "stream",
     "text": [
      "\r",
      "4-echo monoexponential:   1%|          | 174/20176 [00:00<00:34, 584.63it/s]"
     ]
    },
    {
     "name": "stderr",
     "output_type": "stream",
     "text": [
      "\r",
      "4-echo monoexponential:   1%|          | 235/20176 [00:00<00:33, 592.81it/s]"
     ]
    },
    {
     "name": "stderr",
     "output_type": "stream",
     "text": [
      "\r",
      "4-echo monoexponential:   1%|▏         | 295/20176 [00:00<00:33, 588.41it/s]"
     ]
    },
    {
     "name": "stderr",
     "output_type": "stream",
     "text": [
      "\r",
      "4-echo monoexponential:   2%|▏         | 360/20176 [00:00<00:32, 606.93it/s]"
     ]
    },
    {
     "name": "stderr",
     "output_type": "stream",
     "text": [
      "\r",
      "4-echo monoexponential:   2%|▏         | 421/20176 [00:00<00:32, 606.60it/s]"
     ]
    },
    {
     "name": "stderr",
     "output_type": "stream",
     "text": [
      "\r",
      "4-echo monoexponential:   2%|▏         | 484/20176 [00:00<00:32, 612.93it/s]"
     ]
    },
    {
     "name": "stderr",
     "output_type": "stream",
     "text": [
      "\r",
      "4-echo monoexponential:   3%|▎         | 546/20176 [00:00<00:32, 613.39it/s]"
     ]
    },
    {
     "name": "stderr",
     "output_type": "stream",
     "text": [
      "\r",
      "4-echo monoexponential:   3%|▎         | 608/20176 [00:01<00:32, 610.37it/s]"
     ]
    },
    {
     "name": "stderr",
     "output_type": "stream",
     "text": [
      "\r",
      "4-echo monoexponential:   3%|▎         | 670/20176 [00:01<00:32, 601.78it/s]"
     ]
    },
    {
     "name": "stderr",
     "output_type": "stream",
     "text": [
      "\r",
      "4-echo monoexponential:   4%|▎         | 732/20176 [00:01<00:32, 605.80it/s]"
     ]
    },
    {
     "name": "stderr",
     "output_type": "stream",
     "text": [
      "\r",
      "4-echo monoexponential:   4%|▍         | 793/20176 [00:01<00:32, 603.35it/s]"
     ]
    },
    {
     "name": "stderr",
     "output_type": "stream",
     "text": [
      "\r",
      "4-echo monoexponential:   4%|▍         | 855/20176 [00:01<00:31, 607.46it/s]"
     ]
    },
    {
     "name": "stderr",
     "output_type": "stream",
     "text": [
      "\r",
      "4-echo monoexponential:   5%|▍         | 920/20176 [00:01<00:31, 616.26it/s]"
     ]
    },
    {
     "name": "stderr",
     "output_type": "stream",
     "text": [
      "\r",
      "4-echo monoexponential:   5%|▍         | 982/20176 [00:01<00:33, 571.93it/s]"
     ]
    },
    {
     "name": "stderr",
     "output_type": "stream",
     "text": [
      "\r",
      "4-echo monoexponential:   5%|▌         | 1040/20176 [00:01<00:34, 557.19it/s]"
     ]
    },
    {
     "name": "stderr",
     "output_type": "stream",
     "text": [
      "\r",
      "4-echo monoexponential:   5%|▌         | 1101/20176 [00:01<00:33, 570.26it/s]"
     ]
    },
    {
     "name": "stderr",
     "output_type": "stream",
     "text": [
      "\r",
      "4-echo monoexponential:   6%|▌         | 1163/20176 [00:01<00:32, 583.83it/s]"
     ]
    },
    {
     "name": "stderr",
     "output_type": "stream",
     "text": [
      "\r",
      "4-echo monoexponential:   6%|▌         | 1224/20176 [00:02<00:32, 589.97it/s]"
     ]
    },
    {
     "name": "stderr",
     "output_type": "stream",
     "text": [
      "\r",
      "4-echo monoexponential:   6%|▋         | 1289/20176 [00:02<00:31, 604.99it/s]"
     ]
    },
    {
     "name": "stderr",
     "output_type": "stream",
     "text": [
      "\r",
      "4-echo monoexponential:   7%|▋         | 1354/20176 [00:02<00:30, 617.04it/s]"
     ]
    },
    {
     "name": "stderr",
     "output_type": "stream",
     "text": [
      "\r",
      "4-echo monoexponential:   7%|▋         | 1418/20176 [00:02<00:30, 622.12it/s]"
     ]
    },
    {
     "name": "stderr",
     "output_type": "stream",
     "text": [
      "\r",
      "4-echo monoexponential:   7%|▋         | 1481/20176 [00:02<00:31, 600.21it/s]"
     ]
    },
    {
     "name": "stderr",
     "output_type": "stream",
     "text": [
      "\r",
      "4-echo monoexponential:   8%|▊         | 1544/20176 [00:02<00:30, 607.49it/s]"
     ]
    },
    {
     "name": "stderr",
     "output_type": "stream",
     "text": [
      "\r",
      "4-echo monoexponential:   8%|▊         | 1607/20176 [00:02<00:30, 612.66it/s]"
     ]
    },
    {
     "name": "stderr",
     "output_type": "stream",
     "text": [
      "\r",
      "4-echo monoexponential:   8%|▊         | 1672/20176 [00:02<00:29, 623.49it/s]"
     ]
    },
    {
     "name": "stderr",
     "output_type": "stream",
     "text": [
      "\r",
      "4-echo monoexponential:   9%|▊         | 1737/20176 [00:02<00:29, 629.35it/s]"
     ]
    },
    {
     "name": "stderr",
     "output_type": "stream",
     "text": [
      "\r",
      "4-echo monoexponential:   9%|▉         | 1801/20176 [00:02<00:29, 626.94it/s]"
     ]
    },
    {
     "name": "stderr",
     "output_type": "stream",
     "text": [
      "\r",
      "4-echo monoexponential:   9%|▉         | 1867/20176 [00:03<00:28, 634.77it/s]"
     ]
    },
    {
     "name": "stderr",
     "output_type": "stream",
     "text": [
      "\r",
      "4-echo monoexponential:  10%|▉         | 1931/20176 [00:03<00:28, 632.68it/s]"
     ]
    },
    {
     "name": "stderr",
     "output_type": "stream",
     "text": [
      "\r",
      "4-echo monoexponential:  10%|▉         | 1995/20176 [00:03<00:29, 607.21it/s]"
     ]
    },
    {
     "name": "stderr",
     "output_type": "stream",
     "text": [
      "\r",
      "4-echo monoexponential:  10%|█         | 2059/20176 [00:03<00:29, 615.09it/s]"
     ]
    },
    {
     "name": "stderr",
     "output_type": "stream",
     "text": [
      "\r",
      "4-echo monoexponential:  11%|█         | 2122/20176 [00:03<00:29, 618.07it/s]"
     ]
    },
    {
     "name": "stderr",
     "output_type": "stream",
     "text": [
      "\r",
      "4-echo monoexponential:  11%|█         | 2187/20176 [00:03<00:28, 625.43it/s]"
     ]
    },
    {
     "name": "stderr",
     "output_type": "stream",
     "text": [
      "\r",
      "4-echo monoexponential:  11%|█         | 2253/20176 [00:03<00:28, 633.84it/s]"
     ]
    },
    {
     "name": "stderr",
     "output_type": "stream",
     "text": [
      "\r",
      "4-echo monoexponential:  12%|█▏        | 2321/20176 [00:03<00:27, 645.15it/s]"
     ]
    },
    {
     "name": "stderr",
     "output_type": "stream",
     "text": [
      "\r",
      "4-echo monoexponential:  12%|█▏        | 2386/20176 [00:03<00:27, 645.25it/s]"
     ]
    },
    {
     "name": "stderr",
     "output_type": "stream",
     "text": [
      "\r",
      "4-echo monoexponential:  12%|█▏        | 2453/20176 [00:04<00:27, 650.01it/s]"
     ]
    },
    {
     "name": "stderr",
     "output_type": "stream",
     "text": [
      "\r",
      "4-echo monoexponential:  12%|█▏        | 2519/20176 [00:04<00:27, 649.00it/s]"
     ]
    },
    {
     "name": "stderr",
     "output_type": "stream",
     "text": [
      "\r",
      "4-echo monoexponential:  13%|█▎        | 2584/20176 [00:04<00:28, 623.68it/s]"
     ]
    },
    {
     "name": "stderr",
     "output_type": "stream",
     "text": [
      "\r",
      "4-echo monoexponential:  13%|█▎        | 2647/20176 [00:04<00:28, 621.75it/s]"
     ]
    },
    {
     "name": "stderr",
     "output_type": "stream",
     "text": [
      "\r",
      "4-echo monoexponential:  13%|█▎        | 2710/20176 [00:04<00:28, 620.46it/s]"
     ]
    },
    {
     "name": "stderr",
     "output_type": "stream",
     "text": [
      "\r",
      "4-echo monoexponential:  14%|█▍        | 2775/20176 [00:04<00:27, 625.60it/s]"
     ]
    },
    {
     "name": "stderr",
     "output_type": "stream",
     "text": [
      "\r",
      "4-echo monoexponential:  14%|█▍        | 2841/20176 [00:04<00:27, 632.85it/s]"
     ]
    },
    {
     "name": "stderr",
     "output_type": "stream",
     "text": [
      "\r",
      "4-echo monoexponential:  14%|█▍        | 2908/20176 [00:04<00:26, 641.40it/s]"
     ]
    },
    {
     "name": "stderr",
     "output_type": "stream",
     "text": [
      "\r",
      "4-echo monoexponential:  15%|█▍        | 2974/20176 [00:04<00:26, 644.05it/s]"
     ]
    },
    {
     "name": "stderr",
     "output_type": "stream",
     "text": [
      "\r",
      "4-echo monoexponential:  15%|█▌        | 3041/20176 [00:04<00:26, 650.66it/s]"
     ]
    },
    {
     "name": "stderr",
     "output_type": "stream",
     "text": [
      "\r",
      "4-echo monoexponential:  15%|█▌        | 3108/20176 [00:05<00:26, 655.24it/s]"
     ]
    },
    {
     "name": "stderr",
     "output_type": "stream",
     "text": [
      "\r",
      "4-echo monoexponential:  16%|█▌        | 3174/20176 [00:05<00:26, 653.54it/s]"
     ]
    },
    {
     "name": "stderr",
     "output_type": "stream",
     "text": [
      "\r",
      "4-echo monoexponential:  16%|█▌        | 3240/20176 [00:05<00:27, 624.93it/s]"
     ]
    },
    {
     "name": "stderr",
     "output_type": "stream",
     "text": [
      "\r",
      "4-echo monoexponential:  16%|█▋        | 3306/20176 [00:05<00:26, 633.04it/s]"
     ]
    },
    {
     "name": "stderr",
     "output_type": "stream",
     "text": [
      "\r",
      "4-echo monoexponential:  17%|█▋        | 3372/20176 [00:05<00:26, 638.27it/s]"
     ]
    },
    {
     "name": "stderr",
     "output_type": "stream",
     "text": [
      "\r",
      "4-echo monoexponential:  17%|█▋        | 3436/20176 [00:05<00:26, 633.67it/s]"
     ]
    },
    {
     "name": "stderr",
     "output_type": "stream",
     "text": [
      "\r",
      "4-echo monoexponential:  17%|█▋        | 3503/20176 [00:05<00:25, 641.94it/s]"
     ]
    },
    {
     "name": "stderr",
     "output_type": "stream",
     "text": [
      "\r",
      "4-echo monoexponential:  18%|█▊        | 3570/20176 [00:05<00:25, 647.60it/s]"
     ]
    },
    {
     "name": "stderr",
     "output_type": "stream",
     "text": [
      "\r",
      "4-echo monoexponential:  18%|█▊        | 3635/20176 [00:05<00:25, 643.23it/s]"
     ]
    },
    {
     "name": "stderr",
     "output_type": "stream",
     "text": [
      "\r",
      "4-echo monoexponential:  18%|█▊        | 3700/20176 [00:05<00:25, 642.75it/s]"
     ]
    },
    {
     "name": "stderr",
     "output_type": "stream",
     "text": [
      "\r",
      "4-echo monoexponential:  19%|█▊        | 3766/20176 [00:06<00:25, 645.14it/s]"
     ]
    },
    {
     "name": "stderr",
     "output_type": "stream",
     "text": [
      "\r",
      "4-echo monoexponential:  19%|█▉        | 3831/20176 [00:06<00:25, 644.36it/s]"
     ]
    },
    {
     "name": "stderr",
     "output_type": "stream",
     "text": [
      "\r",
      "4-echo monoexponential:  19%|█▉        | 3896/20176 [00:06<00:25, 639.40it/s]"
     ]
    },
    {
     "name": "stderr",
     "output_type": "stream",
     "text": [
      "\r",
      "4-echo monoexponential:  20%|█▉        | 3960/20176 [00:06<00:25, 625.43it/s]"
     ]
    },
    {
     "name": "stderr",
     "output_type": "stream",
     "text": [
      "\r",
      "4-echo monoexponential:  20%|█▉        | 4024/20176 [00:06<00:25, 628.70it/s]"
     ]
    },
    {
     "name": "stderr",
     "output_type": "stream",
     "text": [
      "\r",
      "4-echo monoexponential:  20%|██        | 4088/20176 [00:06<00:25, 627.80it/s]"
     ]
    },
    {
     "name": "stderr",
     "output_type": "stream",
     "text": [
      "\r",
      "4-echo monoexponential:  21%|██        | 4151/20176 [00:06<00:25, 622.21it/s]"
     ]
    },
    {
     "name": "stderr",
     "output_type": "stream",
     "text": [
      "\r",
      "4-echo monoexponential:  21%|██        | 4216/20176 [00:06<00:25, 628.38it/s]"
     ]
    },
    {
     "name": "stderr",
     "output_type": "stream",
     "text": [
      "\r",
      "4-echo monoexponential:  21%|██        | 4281/20176 [00:06<00:25, 634.32it/s]"
     ]
    },
    {
     "name": "stderr",
     "output_type": "stream",
     "text": [
      "\r",
      "4-echo monoexponential:  22%|██▏       | 4349/20176 [00:06<00:24, 645.23it/s]"
     ]
    },
    {
     "name": "stderr",
     "output_type": "stream",
     "text": [
      "\r",
      "4-echo monoexponential:  22%|██▏       | 4414/20176 [00:07<00:24, 644.09it/s]"
     ]
    },
    {
     "name": "stderr",
     "output_type": "stream",
     "text": [
      "\r",
      "4-echo monoexponential:  22%|██▏       | 4480/20176 [00:07<00:24, 646.77it/s]"
     ]
    },
    {
     "name": "stderr",
     "output_type": "stream",
     "text": [
      "\r",
      "4-echo monoexponential:  23%|██▎       | 4545/20176 [00:07<00:25, 622.38it/s]"
     ]
    },
    {
     "name": "stderr",
     "output_type": "stream",
     "text": [
      "\r",
      "4-echo monoexponential:  23%|██▎       | 4609/20176 [00:07<00:24, 627.06it/s]"
     ]
    },
    {
     "name": "stderr",
     "output_type": "stream",
     "text": [
      "\r",
      "4-echo monoexponential:  23%|██▎       | 4672/20176 [00:07<00:25, 616.06it/s]"
     ]
    },
    {
     "name": "stderr",
     "output_type": "stream",
     "text": [
      "\r",
      "4-echo monoexponential:  23%|██▎       | 4737/20176 [00:07<00:24, 623.63it/s]"
     ]
    },
    {
     "name": "stderr",
     "output_type": "stream",
     "text": [
      "\r",
      "4-echo monoexponential:  24%|██▍       | 4800/20176 [00:07<00:24, 624.61it/s]"
     ]
    },
    {
     "name": "stderr",
     "output_type": "stream",
     "text": [
      "\r",
      "4-echo monoexponential:  24%|██▍       | 4864/20176 [00:07<00:24, 628.63it/s]"
     ]
    },
    {
     "name": "stderr",
     "output_type": "stream",
     "text": [
      "\r",
      "4-echo monoexponential:  24%|██▍       | 4928/20176 [00:07<00:24, 629.89it/s]"
     ]
    },
    {
     "name": "stderr",
     "output_type": "stream",
     "text": [
      "\r",
      "4-echo monoexponential:  25%|██▍       | 4993/20176 [00:08<00:23, 635.78it/s]"
     ]
    },
    {
     "name": "stderr",
     "output_type": "stream",
     "text": [
      "\r",
      "4-echo monoexponential:  25%|██▌       | 5061/20176 [00:08<00:23, 647.73it/s]"
     ]
    },
    {
     "name": "stderr",
     "output_type": "stream",
     "text": [
      "\r",
      "4-echo monoexponential:  25%|██▌       | 5128/20176 [00:08<00:23, 652.30it/s]"
     ]
    },
    {
     "name": "stderr",
     "output_type": "stream",
     "text": [
      "\r",
      "4-echo monoexponential:  26%|██▌       | 5194/20176 [00:08<00:22, 654.39it/s]"
     ]
    },
    {
     "name": "stderr",
     "output_type": "stream",
     "text": [
      "\r",
      "4-echo monoexponential:  26%|██▌       | 5261/20176 [00:08<00:22, 657.11it/s]"
     ]
    },
    {
     "name": "stderr",
     "output_type": "stream",
     "text": [
      "\r",
      "4-echo monoexponential:  26%|██▋       | 5327/20176 [00:08<00:22, 656.11it/s]"
     ]
    },
    {
     "name": "stderr",
     "output_type": "stream",
     "text": [
      "\r",
      "4-echo monoexponential:  27%|██▋       | 5393/20176 [00:08<00:22, 648.00it/s]"
     ]
    },
    {
     "name": "stderr",
     "output_type": "stream",
     "text": [
      "\r",
      "4-echo monoexponential:  27%|██▋       | 5458/20176 [00:08<00:23, 626.70it/s]"
     ]
    },
    {
     "name": "stderr",
     "output_type": "stream",
     "text": [
      "\r",
      "4-echo monoexponential:  27%|██▋       | 5521/20176 [00:08<00:23, 626.70it/s]"
     ]
    },
    {
     "name": "stderr",
     "output_type": "stream",
     "text": [
      "\r",
      "4-echo monoexponential:  28%|██▊       | 5587/20176 [00:08<00:22, 635.37it/s]"
     ]
    },
    {
     "name": "stderr",
     "output_type": "stream",
     "text": [
      "\r",
      "4-echo monoexponential:  28%|██▊       | 5651/20176 [00:09<00:23, 628.14it/s]"
     ]
    },
    {
     "name": "stderr",
     "output_type": "stream",
     "text": [
      "\r",
      "4-echo monoexponential:  28%|██▊       | 5719/20176 [00:09<00:22, 640.30it/s]"
     ]
    },
    {
     "name": "stderr",
     "output_type": "stream",
     "text": [
      "\r",
      "4-echo monoexponential:  29%|██▊       | 5788/20176 [00:09<00:22, 653.90it/s]"
     ]
    },
    {
     "name": "stderr",
     "output_type": "stream",
     "text": [
      "\r",
      "4-echo monoexponential:  29%|██▉       | 5854/20176 [00:09<00:21, 653.86it/s]"
     ]
    },
    {
     "name": "stderr",
     "output_type": "stream",
     "text": [
      "\r",
      "4-echo monoexponential:  29%|██▉       | 5920/20176 [00:09<00:21, 649.68it/s]"
     ]
    },
    {
     "name": "stderr",
     "output_type": "stream",
     "text": [
      "\r",
      "4-echo monoexponential:  30%|██▉       | 5986/20176 [00:09<00:21, 645.23it/s]"
     ]
    },
    {
     "name": "stderr",
     "output_type": "stream",
     "text": [
      "\r",
      "4-echo monoexponential:  30%|██▉       | 6051/20176 [00:09<00:22, 641.35it/s]"
     ]
    },
    {
     "name": "stderr",
     "output_type": "stream",
     "text": [
      "\r",
      "4-echo monoexponential:  30%|███       | 6117/20176 [00:09<00:21, 644.95it/s]"
     ]
    },
    {
     "name": "stderr",
     "output_type": "stream",
     "text": [
      "\r",
      "4-echo monoexponential:  31%|███       | 6182/20176 [00:09<00:22, 635.88it/s]"
     ]
    },
    {
     "name": "stderr",
     "output_type": "stream",
     "text": [
      "\r",
      "4-echo monoexponential:  31%|███       | 6246/20176 [00:09<00:22, 614.03it/s]"
     ]
    },
    {
     "name": "stderr",
     "output_type": "stream",
     "text": [
      "\r",
      "4-echo monoexponential:  31%|███▏      | 6308/20176 [00:10<00:22, 613.52it/s]"
     ]
    },
    {
     "name": "stderr",
     "output_type": "stream",
     "text": [
      "\r",
      "4-echo monoexponential:  32%|███▏      | 6371/20176 [00:10<00:22, 615.01it/s]"
     ]
    },
    {
     "name": "stderr",
     "output_type": "stream",
     "text": [
      "\r",
      "4-echo monoexponential:  32%|███▏      | 6435/20176 [00:10<00:22, 620.23it/s]"
     ]
    },
    {
     "name": "stderr",
     "output_type": "stream",
     "text": [
      "\r",
      "4-echo monoexponential:  32%|███▏      | 6503/20176 [00:10<00:21, 635.86it/s]"
     ]
    },
    {
     "name": "stderr",
     "output_type": "stream",
     "text": [
      "\r",
      "4-echo monoexponential:  33%|███▎      | 6568/20176 [00:10<00:21, 639.78it/s]"
     ]
    },
    {
     "name": "stderr",
     "output_type": "stream",
     "text": [
      "\r",
      "4-echo monoexponential:  33%|███▎      | 6635/20176 [00:10<00:20, 648.57it/s]"
     ]
    },
    {
     "name": "stderr",
     "output_type": "stream",
     "text": [
      "\r",
      "4-echo monoexponential:  33%|███▎      | 6700/20176 [00:10<00:20, 648.33it/s]"
     ]
    },
    {
     "name": "stderr",
     "output_type": "stream",
     "text": [
      "\r",
      "4-echo monoexponential:  34%|███▎      | 6766/20176 [00:10<00:20, 648.74it/s]"
     ]
    },
    {
     "name": "stderr",
     "output_type": "stream",
     "text": [
      "\r",
      "4-echo monoexponential:  34%|███▍      | 6832/20176 [00:10<00:20, 651.42it/s]"
     ]
    },
    {
     "name": "stderr",
     "output_type": "stream",
     "text": [
      "\r",
      "4-echo monoexponential:  34%|███▍      | 6898/20176 [00:10<00:20, 647.73it/s]"
     ]
    },
    {
     "name": "stderr",
     "output_type": "stream",
     "text": [
      "\r",
      "4-echo monoexponential:  35%|███▍      | 6963/20176 [00:11<00:21, 627.99it/s]"
     ]
    },
    {
     "name": "stderr",
     "output_type": "stream",
     "text": [
      "\r",
      "4-echo monoexponential:  35%|███▍      | 7026/20176 [00:11<00:21, 613.62it/s]"
     ]
    },
    {
     "name": "stderr",
     "output_type": "stream",
     "text": [
      "\r",
      "4-echo monoexponential:  35%|███▌      | 7091/20176 [00:11<00:21, 621.98it/s]"
     ]
    },
    {
     "name": "stderr",
     "output_type": "stream",
     "text": [
      "\r",
      "4-echo monoexponential:  35%|███▌      | 7155/20176 [00:11<00:20, 625.00it/s]"
     ]
    },
    {
     "name": "stderr",
     "output_type": "stream",
     "text": [
      "\r",
      "4-echo monoexponential:  36%|███▌      | 7218/20176 [00:11<00:20, 621.11it/s]"
     ]
    },
    {
     "name": "stderr",
     "output_type": "stream",
     "text": [
      "\r",
      "4-echo monoexponential:  36%|███▌      | 7286/20176 [00:11<00:20, 637.94it/s]"
     ]
    },
    {
     "name": "stderr",
     "output_type": "stream",
     "text": [
      "\r",
      "4-echo monoexponential:  36%|███▋      | 7353/20176 [00:11<00:19, 646.58it/s]"
     ]
    },
    {
     "name": "stderr",
     "output_type": "stream",
     "text": [
      "\r",
      "4-echo monoexponential:  37%|███▋      | 7419/20176 [00:11<00:19, 649.04it/s]"
     ]
    },
    {
     "name": "stderr",
     "output_type": "stream",
     "text": [
      "\r",
      "4-echo monoexponential:  37%|███▋      | 7484/20176 [00:11<00:19, 640.23it/s]"
     ]
    },
    {
     "name": "stderr",
     "output_type": "stream",
     "text": [
      "\r",
      "4-echo monoexponential:  37%|███▋      | 7550/20176 [00:12<00:19, 643.87it/s]"
     ]
    },
    {
     "name": "stderr",
     "output_type": "stream",
     "text": [
      "\r",
      "4-echo monoexponential:  38%|███▊      | 7615/20176 [00:12<00:19, 644.77it/s]"
     ]
    },
    {
     "name": "stderr",
     "output_type": "stream",
     "text": [
      "\r",
      "4-echo monoexponential:  38%|███▊      | 7680/20176 [00:12<00:19, 646.05it/s]"
     ]
    },
    {
     "name": "stderr",
     "output_type": "stream",
     "text": [
      "\r",
      "4-echo monoexponential:  38%|███▊      | 7745/20176 [00:12<00:19, 629.80it/s]"
     ]
    },
    {
     "name": "stderr",
     "output_type": "stream",
     "text": [
      "\r",
      "4-echo monoexponential:  39%|███▊      | 7809/20176 [00:12<00:19, 619.26it/s]"
     ]
    },
    {
     "name": "stderr",
     "output_type": "stream",
     "text": [
      "\r",
      "4-echo monoexponential:  39%|███▉      | 7872/20176 [00:12<00:19, 616.02it/s]"
     ]
    },
    {
     "name": "stderr",
     "output_type": "stream",
     "text": [
      "\r",
      "4-echo monoexponential:  39%|███▉      | 7936/20176 [00:12<00:19, 622.64it/s]"
     ]
    },
    {
     "name": "stderr",
     "output_type": "stream",
     "text": [
      "\r",
      "4-echo monoexponential:  40%|███▉      | 7999/20176 [00:12<00:19, 623.83it/s]"
     ]
    },
    {
     "name": "stderr",
     "output_type": "stream",
     "text": [
      "\r",
      "4-echo monoexponential:  40%|███▉      | 8063/20176 [00:12<00:19, 626.99it/s]"
     ]
    },
    {
     "name": "stderr",
     "output_type": "stream",
     "text": [
      "\r",
      "4-echo monoexponential:  40%|████      | 8130/20176 [00:12<00:18, 637.94it/s]"
     ]
    },
    {
     "name": "stderr",
     "output_type": "stream",
     "text": [
      "\r",
      "4-echo monoexponential:  41%|████      | 8198/20176 [00:13<00:18, 647.86it/s]"
     ]
    },
    {
     "name": "stderr",
     "output_type": "stream",
     "text": [
      "\r",
      "4-echo monoexponential:  41%|████      | 8264/20176 [00:13<00:18, 649.07it/s]"
     ]
    },
    {
     "name": "stderr",
     "output_type": "stream",
     "text": [
      "\r",
      "4-echo monoexponential:  41%|████▏     | 8329/20176 [00:13<00:18, 643.88it/s]"
     ]
    },
    {
     "name": "stderr",
     "output_type": "stream",
     "text": [
      "\r",
      "4-echo monoexponential:  42%|████▏     | 8394/20176 [00:13<00:18, 643.40it/s]"
     ]
    },
    {
     "name": "stderr",
     "output_type": "stream",
     "text": [
      "\r",
      "4-echo monoexponential:  42%|████▏     | 8460/20176 [00:13<00:18, 646.52it/s]"
     ]
    },
    {
     "name": "stderr",
     "output_type": "stream",
     "text": [
      "\r",
      "4-echo monoexponential:  42%|████▏     | 8525/20176 [00:13<00:18, 644.81it/s]"
     ]
    },
    {
     "name": "stderr",
     "output_type": "stream",
     "text": [
      "\r",
      "4-echo monoexponential:  43%|████▎     | 8590/20176 [00:13<00:18, 626.41it/s]"
     ]
    },
    {
     "name": "stderr",
     "output_type": "stream",
     "text": [
      "\r",
      "4-echo monoexponential:  43%|████▎     | 8653/20176 [00:13<00:18, 619.82it/s]"
     ]
    },
    {
     "name": "stderr",
     "output_type": "stream",
     "text": [
      "\r",
      "4-echo monoexponential:  43%|████▎     | 8716/20176 [00:13<00:18, 616.49it/s]"
     ]
    },
    {
     "name": "stderr",
     "output_type": "stream",
     "text": [
      "\r",
      "4-echo monoexponential:  44%|████▎     | 8781/20176 [00:13<00:18, 623.94it/s]"
     ]
    },
    {
     "name": "stderr",
     "output_type": "stream",
     "text": [
      "\r",
      "4-echo monoexponential:  44%|████▍     | 8846/20176 [00:14<00:17, 631.33it/s]"
     ]
    },
    {
     "name": "stderr",
     "output_type": "stream",
     "text": [
      "\r",
      "4-echo monoexponential:  44%|████▍     | 8910/20176 [00:14<00:17, 631.28it/s]"
     ]
    },
    {
     "name": "stderr",
     "output_type": "stream",
     "text": [
      "\r",
      "4-echo monoexponential:  44%|████▍     | 8974/20176 [00:14<00:17, 631.79it/s]"
     ]
    },
    {
     "name": "stderr",
     "output_type": "stream",
     "text": [
      "\r",
      "4-echo monoexponential:  45%|████▍     | 9039/20176 [00:14<00:17, 636.05it/s]"
     ]
    },
    {
     "name": "stderr",
     "output_type": "stream",
     "text": [
      "\r",
      "4-echo monoexponential:  45%|████▌     | 9104/20176 [00:14<00:17, 638.26it/s]"
     ]
    },
    {
     "name": "stderr",
     "output_type": "stream",
     "text": [
      "\r",
      "4-echo monoexponential:  45%|████▌     | 9172/20176 [00:14<00:16, 649.55it/s]"
     ]
    },
    {
     "name": "stderr",
     "output_type": "stream",
     "text": [
      "\r",
      "4-echo monoexponential:  46%|████▌     | 9240/20176 [00:14<00:16, 656.50it/s]"
     ]
    },
    {
     "name": "stderr",
     "output_type": "stream",
     "text": [
      "\r",
      "4-echo monoexponential:  46%|████▌     | 9306/20176 [00:14<00:16, 654.33it/s]"
     ]
    },
    {
     "name": "stderr",
     "output_type": "stream",
     "text": [
      "\r",
      "4-echo monoexponential:  46%|████▋     | 9372/20176 [00:14<00:16, 639.78it/s]"
     ]
    },
    {
     "name": "stderr",
     "output_type": "stream",
     "text": [
      "\r",
      "4-echo monoexponential:  47%|████▋     | 9437/20176 [00:14<00:16, 634.62it/s]"
     ]
    },
    {
     "name": "stderr",
     "output_type": "stream",
     "text": [
      "\r",
      "4-echo monoexponential:  47%|████▋     | 9501/20176 [00:15<00:17, 626.23it/s]"
     ]
    },
    {
     "name": "stderr",
     "output_type": "stream",
     "text": [
      "\r",
      "4-echo monoexponential:  47%|████▋     | 9565/20176 [00:15<00:16, 627.86it/s]"
     ]
    },
    {
     "name": "stderr",
     "output_type": "stream",
     "text": [
      "\r",
      "4-echo monoexponential:  48%|████▊     | 9629/20176 [00:15<00:16, 628.99it/s]"
     ]
    },
    {
     "name": "stderr",
     "output_type": "stream",
     "text": [
      "\r",
      "4-echo monoexponential:  48%|████▊     | 9692/20176 [00:15<00:16, 628.35it/s]"
     ]
    },
    {
     "name": "stderr",
     "output_type": "stream",
     "text": [
      "\r",
      "4-echo monoexponential:  48%|████▊     | 9758/20176 [00:15<00:16, 635.52it/s]"
     ]
    },
    {
     "name": "stderr",
     "output_type": "stream",
     "text": [
      "\r",
      "4-echo monoexponential:  49%|████▊     | 9822/20176 [00:15<00:16, 634.01it/s]"
     ]
    },
    {
     "name": "stderr",
     "output_type": "stream",
     "text": [
      "\r",
      "4-echo monoexponential:  49%|████▉     | 9888/20176 [00:15<00:16, 641.52it/s]"
     ]
    },
    {
     "name": "stderr",
     "output_type": "stream",
     "text": [
      "\r",
      "4-echo monoexponential:  49%|████▉     | 9956/20176 [00:15<00:15, 651.06it/s]"
     ]
    },
    {
     "name": "stderr",
     "output_type": "stream",
     "text": [
      "\r",
      "4-echo monoexponential:  50%|████▉     | 10026/20176 [00:15<00:15, 662.93it/s]"
     ]
    },
    {
     "name": "stderr",
     "output_type": "stream",
     "text": [
      "\r",
      "4-echo monoexponential:  50%|█████     | 10093/20176 [00:16<00:15, 650.42it/s]"
     ]
    },
    {
     "name": "stderr",
     "output_type": "stream",
     "text": [
      "\r",
      "4-echo monoexponential:  50%|█████     | 10159/20176 [00:16<00:15, 647.11it/s]"
     ]
    },
    {
     "name": "stderr",
     "output_type": "stream",
     "text": [
      "\r",
      "4-echo monoexponential:  51%|█████     | 10224/20176 [00:16<00:15, 626.44it/s]"
     ]
    },
    {
     "name": "stderr",
     "output_type": "stream",
     "text": [
      "\r",
      "4-echo monoexponential:  51%|█████     | 10287/20176 [00:16<00:15, 625.54it/s]"
     ]
    },
    {
     "name": "stderr",
     "output_type": "stream",
     "text": [
      "\r",
      "4-echo monoexponential:  51%|█████▏    | 10351/20176 [00:16<00:15, 626.58it/s]"
     ]
    },
    {
     "name": "stderr",
     "output_type": "stream",
     "text": [
      "\r",
      "4-echo monoexponential:  52%|█████▏    | 10415/20176 [00:16<00:15, 629.55it/s]"
     ]
    },
    {
     "name": "stderr",
     "output_type": "stream",
     "text": [
      "\r",
      "4-echo monoexponential:  52%|█████▏    | 10481/20176 [00:16<00:15, 638.29it/s]"
     ]
    },
    {
     "name": "stderr",
     "output_type": "stream",
     "text": [
      "\r",
      "4-echo monoexponential:  52%|█████▏    | 10548/20176 [00:16<00:14, 645.81it/s]"
     ]
    },
    {
     "name": "stderr",
     "output_type": "stream",
     "text": [
      "\r",
      "4-echo monoexponential:  53%|█████▎    | 10613/20176 [00:16<00:14, 645.54it/s]"
     ]
    },
    {
     "name": "stderr",
     "output_type": "stream",
     "text": [
      "\r",
      "4-echo monoexponential:  53%|█████▎    | 10678/20176 [00:16<00:14, 639.14it/s]"
     ]
    },
    {
     "name": "stderr",
     "output_type": "stream",
     "text": [
      "\r",
      "4-echo monoexponential:  53%|█████▎    | 10745/20176 [00:17<00:14, 647.78it/s]"
     ]
    },
    {
     "name": "stderr",
     "output_type": "stream",
     "text": [
      "\r",
      "4-echo monoexponential:  54%|█████▎    | 10812/20176 [00:17<00:14, 651.56it/s]"
     ]
    },
    {
     "name": "stderr",
     "output_type": "stream",
     "text": [
      "\r",
      "4-echo monoexponential:  54%|█████▍    | 10878/20176 [00:17<00:14, 647.01it/s]"
     ]
    },
    {
     "name": "stderr",
     "output_type": "stream",
     "text": [
      "\r",
      "4-echo monoexponential:  54%|█████▍    | 10943/20176 [00:17<00:14, 644.60it/s]"
     ]
    },
    {
     "name": "stderr",
     "output_type": "stream",
     "text": [
      "\r",
      "4-echo monoexponential:  55%|█████▍    | 11008/20176 [00:17<00:14, 620.20it/s]"
     ]
    },
    {
     "name": "stderr",
     "output_type": "stream",
     "text": [
      "\r",
      "4-echo monoexponential:  55%|█████▍    | 11071/20176 [00:17<00:15, 605.69it/s]"
     ]
    },
    {
     "name": "stderr",
     "output_type": "stream",
     "text": [
      "\r",
      "4-echo monoexponential:  55%|█████▌    | 11132/20176 [00:17<00:15, 602.31it/s]"
     ]
    },
    {
     "name": "stderr",
     "output_type": "stream",
     "text": [
      "\r",
      "4-echo monoexponential:  55%|█████▌    | 11196/20176 [00:17<00:14, 612.54it/s]"
     ]
    },
    {
     "name": "stderr",
     "output_type": "stream",
     "text": [
      "\r",
      "4-echo monoexponential:  56%|█████▌    | 11266/20176 [00:17<00:13, 637.56it/s]"
     ]
    },
    {
     "name": "stderr",
     "output_type": "stream",
     "text": [
      "\r",
      "4-echo monoexponential:  56%|█████▌    | 11330/20176 [00:17<00:13, 637.99it/s]"
     ]
    },
    {
     "name": "stderr",
     "output_type": "stream",
     "text": [
      "\r",
      "4-echo monoexponential:  56%|█████▋    | 11396/20176 [00:18<00:13, 642.96it/s]"
     ]
    },
    {
     "name": "stderr",
     "output_type": "stream",
     "text": [
      "\r",
      "4-echo monoexponential:  57%|█████▋    | 11463/20176 [00:18<00:13, 648.09it/s]"
     ]
    },
    {
     "name": "stderr",
     "output_type": "stream",
     "text": [
      "\r",
      "4-echo monoexponential:  57%|█████▋    | 11529/20176 [00:18<00:13, 651.00it/s]"
     ]
    },
    {
     "name": "stderr",
     "output_type": "stream",
     "text": [
      "\r",
      "4-echo monoexponential:  57%|█████▋    | 11597/20176 [00:18<00:13, 658.43it/s]"
     ]
    },
    {
     "name": "stderr",
     "output_type": "stream",
     "text": [
      "\r",
      "4-echo monoexponential:  58%|█████▊    | 11663/20176 [00:18<00:12, 656.42it/s]"
     ]
    },
    {
     "name": "stderr",
     "output_type": "stream",
     "text": [
      "\r",
      "4-echo monoexponential:  58%|█████▊    | 11729/20176 [00:18<00:13, 644.50it/s]"
     ]
    },
    {
     "name": "stderr",
     "output_type": "stream",
     "text": [
      "\r",
      "4-echo monoexponential:  58%|█████▊    | 11794/20176 [00:18<00:13, 600.01it/s]"
     ]
    },
    {
     "name": "stderr",
     "output_type": "stream",
     "text": [
      "\r",
      "4-echo monoexponential:  59%|█████▉    | 11857/20176 [00:18<00:13, 605.46it/s]"
     ]
    },
    {
     "name": "stderr",
     "output_type": "stream",
     "text": [
      "\r",
      "4-echo monoexponential:  59%|█████▉    | 11921/20176 [00:18<00:13, 613.67it/s]"
     ]
    },
    {
     "name": "stderr",
     "output_type": "stream",
     "text": [
      "\r",
      "4-echo monoexponential:  59%|█████▉    | 11985/20176 [00:19<00:13, 620.88it/s]"
     ]
    },
    {
     "name": "stderr",
     "output_type": "stream",
     "text": [
      "\r",
      "4-echo monoexponential:  60%|█████▉    | 12049/20176 [00:19<00:13, 624.63it/s]"
     ]
    },
    {
     "name": "stderr",
     "output_type": "stream",
     "text": [
      "\r",
      "4-echo monoexponential:  60%|██████    | 12115/20176 [00:19<00:12, 631.71it/s]"
     ]
    },
    {
     "name": "stderr",
     "output_type": "stream",
     "text": [
      "\r",
      "4-echo monoexponential:  60%|██████    | 12181/20176 [00:19<00:12, 639.26it/s]"
     ]
    },
    {
     "name": "stderr",
     "output_type": "stream",
     "text": [
      "\r",
      "4-echo monoexponential:  61%|██████    | 12249/20176 [00:19<00:12, 649.31it/s]"
     ]
    },
    {
     "name": "stderr",
     "output_type": "stream",
     "text": [
      "\r",
      "4-echo monoexponential:  61%|██████    | 12316/20176 [00:19<00:11, 655.28it/s]"
     ]
    },
    {
     "name": "stderr",
     "output_type": "stream",
     "text": [
      "\r",
      "4-echo monoexponential:  61%|██████▏   | 12382/20176 [00:19<00:11, 656.51it/s]"
     ]
    },
    {
     "name": "stderr",
     "output_type": "stream",
     "text": [
      "\r",
      "4-echo monoexponential:  62%|██████▏   | 12449/20176 [00:19<00:11, 658.14it/s]"
     ]
    },
    {
     "name": "stderr",
     "output_type": "stream",
     "text": [
      "\r",
      "4-echo monoexponential:  62%|██████▏   | 12515/20176 [00:19<00:11, 656.65it/s]"
     ]
    },
    {
     "name": "stderr",
     "output_type": "stream",
     "text": [
      "\r",
      "4-echo monoexponential:  62%|██████▏   | 12581/20176 [00:19<00:12, 609.66it/s]"
     ]
    },
    {
     "name": "stderr",
     "output_type": "stream",
     "text": [
      "\r",
      "4-echo monoexponential:  63%|██████▎   | 12647/20176 [00:20<00:12, 621.59it/s]"
     ]
    },
    {
     "name": "stderr",
     "output_type": "stream",
     "text": [
      "\r",
      "4-echo monoexponential:  63%|██████▎   | 12713/20176 [00:20<00:11, 630.84it/s]"
     ]
    },
    {
     "name": "stderr",
     "output_type": "stream",
     "text": [
      "\r",
      "4-echo monoexponential:  63%|██████▎   | 12778/20176 [00:20<00:11, 634.19it/s]"
     ]
    },
    {
     "name": "stderr",
     "output_type": "stream",
     "text": [
      "\r",
      "4-echo monoexponential:  64%|██████▎   | 12846/20176 [00:20<00:11, 645.50it/s]"
     ]
    },
    {
     "name": "stderr",
     "output_type": "stream",
     "text": [
      "\r",
      "4-echo monoexponential:  64%|██████▍   | 12914/20176 [00:20<00:11, 655.31it/s]"
     ]
    },
    {
     "name": "stderr",
     "output_type": "stream",
     "text": [
      "\r",
      "4-echo monoexponential:  64%|██████▍   | 12980/20176 [00:20<00:11, 653.88it/s]"
     ]
    },
    {
     "name": "stderr",
     "output_type": "stream",
     "text": [
      "\r",
      "4-echo monoexponential:  65%|██████▍   | 13048/20176 [00:20<00:10, 659.27it/s]"
     ]
    },
    {
     "name": "stderr",
     "output_type": "stream",
     "text": [
      "\r",
      "4-echo monoexponential:  65%|██████▌   | 13115/20176 [00:20<00:10, 657.08it/s]"
     ]
    },
    {
     "name": "stderr",
     "output_type": "stream",
     "text": [
      "\r",
      "4-echo monoexponential:  65%|██████▌   | 13181/20176 [00:20<00:10, 649.66it/s]"
     ]
    },
    {
     "name": "stderr",
     "output_type": "stream",
     "text": [
      "\r",
      "4-echo monoexponential:  66%|██████▌   | 13247/20176 [00:20<00:10, 649.23it/s]"
     ]
    },
    {
     "name": "stderr",
     "output_type": "stream",
     "text": [
      "\r",
      "4-echo monoexponential:  66%|██████▌   | 13312/20176 [00:21<00:10, 640.77it/s]"
     ]
    },
    {
     "name": "stderr",
     "output_type": "stream",
     "text": [
      "\r",
      "4-echo monoexponential:  66%|██████▋   | 13377/20176 [00:21<00:11, 613.95it/s]"
     ]
    },
    {
     "name": "stderr",
     "output_type": "stream",
     "text": [
      "\r",
      "4-echo monoexponential:  67%|██████▋   | 13441/20176 [00:21<00:10, 619.30it/s]"
     ]
    },
    {
     "name": "stderr",
     "output_type": "stream",
     "text": [
      "\r",
      "4-echo monoexponential:  67%|██████▋   | 13507/20176 [00:21<00:10, 628.22it/s]"
     ]
    },
    {
     "name": "stderr",
     "output_type": "stream",
     "text": [
      "\r",
      "4-echo monoexponential:  67%|██████▋   | 13570/20176 [00:21<00:10, 628.68it/s]"
     ]
    },
    {
     "name": "stderr",
     "output_type": "stream",
     "text": [
      "\r",
      "4-echo monoexponential:  68%|██████▊   | 13638/20176 [00:21<00:10, 641.49it/s]"
     ]
    },
    {
     "name": "stderr",
     "output_type": "stream",
     "text": [
      "\r",
      "4-echo monoexponential:  68%|██████▊   | 13705/20176 [00:21<00:09, 649.24it/s]"
     ]
    },
    {
     "name": "stderr",
     "output_type": "stream",
     "text": [
      "\r",
      "4-echo monoexponential:  68%|██████▊   | 13772/20176 [00:21<00:09, 655.30it/s]"
     ]
    },
    {
     "name": "stderr",
     "output_type": "stream",
     "text": [
      "\r",
      "4-echo monoexponential:  69%|██████▊   | 13839/20176 [00:21<00:09, 656.79it/s]"
     ]
    },
    {
     "name": "stderr",
     "output_type": "stream",
     "text": [
      "\r",
      "4-echo monoexponential:  69%|██████▉   | 13905/20176 [00:21<00:09, 656.26it/s]"
     ]
    },
    {
     "name": "stderr",
     "output_type": "stream",
     "text": [
      "\r",
      "4-echo monoexponential:  69%|██████▉   | 13972/20176 [00:22<00:09, 657.79it/s]"
     ]
    },
    {
     "name": "stderr",
     "output_type": "stream",
     "text": [
      "\r",
      "4-echo monoexponential:  70%|██████▉   | 14038/20176 [00:22<00:09, 654.16it/s]"
     ]
    },
    {
     "name": "stderr",
     "output_type": "stream",
     "text": [
      "\r",
      "4-echo monoexponential:  70%|██████▉   | 14104/20176 [00:22<00:09, 645.23it/s]"
     ]
    },
    {
     "name": "stderr",
     "output_type": "stream",
     "text": [
      "\r",
      "4-echo monoexponential:  70%|███████   | 14169/20176 [00:22<00:09, 623.93it/s]"
     ]
    },
    {
     "name": "stderr",
     "output_type": "stream",
     "text": [
      "\r",
      "4-echo monoexponential:  71%|███████   | 14232/20176 [00:22<00:09, 619.07it/s]"
     ]
    },
    {
     "name": "stderr",
     "output_type": "stream",
     "text": [
      "\r",
      "4-echo monoexponential:  71%|███████   | 14298/20176 [00:22<00:09, 628.88it/s]"
     ]
    },
    {
     "name": "stderr",
     "output_type": "stream",
     "text": [
      "\r",
      "4-echo monoexponential:  71%|███████   | 14363/20176 [00:22<00:09, 634.01it/s]"
     ]
    },
    {
     "name": "stderr",
     "output_type": "stream",
     "text": [
      "\r",
      "4-echo monoexponential:  72%|███████▏  | 14432/20176 [00:22<00:08, 648.70it/s]"
     ]
    },
    {
     "name": "stderr",
     "output_type": "stream",
     "text": [
      "\r",
      "4-echo monoexponential:  72%|███████▏  | 14502/20176 [00:22<00:08, 663.11it/s]"
     ]
    },
    {
     "name": "stderr",
     "output_type": "stream",
     "text": [
      "\r",
      "4-echo monoexponential:  72%|███████▏  | 14570/20176 [00:23<00:08, 666.93it/s]"
     ]
    },
    {
     "name": "stderr",
     "output_type": "stream",
     "text": [
      "\r",
      "4-echo monoexponential:  73%|███████▎  | 14637/20176 [00:23<00:08, 663.08it/s]"
     ]
    },
    {
     "name": "stderr",
     "output_type": "stream",
     "text": [
      "\r",
      "4-echo monoexponential:  73%|███████▎  | 14704/20176 [00:23<00:08, 657.14it/s]"
     ]
    },
    {
     "name": "stderr",
     "output_type": "stream",
     "text": [
      "\r",
      "4-echo monoexponential:  73%|███████▎  | 14770/20176 [00:23<00:08, 647.72it/s]"
     ]
    },
    {
     "name": "stderr",
     "output_type": "stream",
     "text": [
      "\r",
      "4-echo monoexponential:  74%|███████▎  | 14835/20176 [00:23<00:08, 642.03it/s]"
     ]
    },
    {
     "name": "stderr",
     "output_type": "stream",
     "text": [
      "\r",
      "4-echo monoexponential:  74%|███████▍  | 14900/20176 [00:23<00:08, 624.97it/s]"
     ]
    },
    {
     "name": "stderr",
     "output_type": "stream",
     "text": [
      "\r",
      "4-echo monoexponential:  74%|███████▍  | 14963/20176 [00:23<00:08, 625.45it/s]"
     ]
    },
    {
     "name": "stderr",
     "output_type": "stream",
     "text": [
      "\r",
      "4-echo monoexponential:  74%|███████▍  | 15029/20176 [00:23<00:08, 634.13it/s]"
     ]
    },
    {
     "name": "stderr",
     "output_type": "stream",
     "text": [
      "\r",
      "4-echo monoexponential:  75%|███████▍  | 15094/20176 [00:23<00:07, 638.02it/s]"
     ]
    },
    {
     "name": "stderr",
     "output_type": "stream",
     "text": [
      "\r",
      "4-echo monoexponential:  75%|███████▌  | 15161/20176 [00:23<00:07, 646.67it/s]"
     ]
    },
    {
     "name": "stderr",
     "output_type": "stream",
     "text": [
      "\r",
      "4-echo monoexponential:  75%|███████▌  | 15226/20176 [00:24<00:07, 643.86it/s]"
     ]
    },
    {
     "name": "stderr",
     "output_type": "stream",
     "text": [
      "\r",
      "4-echo monoexponential:  76%|███████▌  | 15294/20176 [00:24<00:07, 651.41it/s]"
     ]
    },
    {
     "name": "stderr",
     "output_type": "stream",
     "text": [
      "\r",
      "4-echo monoexponential:  76%|███████▌  | 15360/20176 [00:24<00:07, 652.05it/s]"
     ]
    },
    {
     "name": "stderr",
     "output_type": "stream",
     "text": [
      "\r",
      "4-echo monoexponential:  76%|███████▋  | 15426/20176 [00:24<00:07, 649.36it/s]"
     ]
    },
    {
     "name": "stderr",
     "output_type": "stream",
     "text": [
      "\r",
      "4-echo monoexponential:  77%|███████▋  | 15492/20176 [00:24<00:07, 651.63it/s]"
     ]
    },
    {
     "name": "stderr",
     "output_type": "stream",
     "text": [
      "\r",
      "4-echo monoexponential:  77%|███████▋  | 15558/20176 [00:24<00:07, 637.91it/s]"
     ]
    },
    {
     "name": "stderr",
     "output_type": "stream",
     "text": [
      "\r",
      "4-echo monoexponential:  77%|███████▋  | 15622/20176 [00:24<00:07, 626.31it/s]"
     ]
    },
    {
     "name": "stderr",
     "output_type": "stream",
     "text": [
      "\r",
      "4-echo monoexponential:  78%|███████▊  | 15685/20176 [00:24<00:07, 626.61it/s]"
     ]
    },
    {
     "name": "stderr",
     "output_type": "stream",
     "text": [
      "\r",
      "4-echo monoexponential:  78%|███████▊  | 15752/20176 [00:24<00:06, 639.20it/s]"
     ]
    },
    {
     "name": "stderr",
     "output_type": "stream",
     "text": [
      "\r",
      "4-echo monoexponential:  78%|███████▊  | 15816/20176 [00:24<00:07, 620.87it/s]"
     ]
    },
    {
     "name": "stderr",
     "output_type": "stream",
     "text": [
      "\r",
      "4-echo monoexponential:  79%|███████▊  | 15883/20176 [00:25<00:06, 634.08it/s]"
     ]
    },
    {
     "name": "stderr",
     "output_type": "stream",
     "text": [
      "\r",
      "4-echo monoexponential:  79%|███████▉  | 15949/20176 [00:25<00:06, 638.94it/s]"
     ]
    },
    {
     "name": "stderr",
     "output_type": "stream",
     "text": [
      "\r",
      "4-echo monoexponential:  79%|███████▉  | 16017/20176 [00:25<00:06, 649.53it/s]"
     ]
    },
    {
     "name": "stderr",
     "output_type": "stream",
     "text": [
      "\r",
      "4-echo monoexponential:  80%|███████▉  | 16084/20176 [00:25<00:06, 654.20it/s]"
     ]
    },
    {
     "name": "stderr",
     "output_type": "stream",
     "text": [
      "\r",
      "4-echo monoexponential:  80%|████████  | 16150/20176 [00:25<00:06, 649.39it/s]"
     ]
    },
    {
     "name": "stderr",
     "output_type": "stream",
     "text": [
      "\r",
      "4-echo monoexponential:  80%|████████  | 16215/20176 [00:25<00:06, 646.14it/s]"
     ]
    },
    {
     "name": "stderr",
     "output_type": "stream",
     "text": [
      "\r",
      "4-echo monoexponential:  81%|████████  | 16280/20176 [00:25<00:06, 641.33it/s]"
     ]
    },
    {
     "name": "stderr",
     "output_type": "stream",
     "text": [
      "\r",
      "4-echo monoexponential:  81%|████████  | 16345/20176 [00:25<00:06, 617.61it/s]"
     ]
    },
    {
     "name": "stderr",
     "output_type": "stream",
     "text": [
      "\r",
      "4-echo monoexponential:  81%|████████▏ | 16409/20176 [00:25<00:06, 622.69it/s]"
     ]
    },
    {
     "name": "stderr",
     "output_type": "stream",
     "text": [
      "\r",
      "4-echo monoexponential:  82%|████████▏ | 16472/20176 [00:26<00:06, 612.59it/s]"
     ]
    },
    {
     "name": "stderr",
     "output_type": "stream",
     "text": [
      "\r",
      "4-echo monoexponential:  82%|████████▏ | 16536/20176 [00:26<00:05, 618.54it/s]"
     ]
    },
    {
     "name": "stderr",
     "output_type": "stream",
     "text": [
      "\r",
      "4-echo monoexponential:  82%|████████▏ | 16601/20176 [00:26<00:05, 625.17it/s]"
     ]
    },
    {
     "name": "stderr",
     "output_type": "stream",
     "text": [
      "\r",
      "4-echo monoexponential:  83%|████████▎ | 16667/20176 [00:26<00:05, 633.31it/s]"
     ]
    },
    {
     "name": "stderr",
     "output_type": "stream",
     "text": [
      "\r",
      "4-echo monoexponential:  83%|████████▎ | 16737/20176 [00:26<00:05, 652.96it/s]"
     ]
    },
    {
     "name": "stderr",
     "output_type": "stream",
     "text": [
      "\r",
      "4-echo monoexponential:  83%|████████▎ | 16803/20176 [00:26<00:05, 652.82it/s]"
     ]
    },
    {
     "name": "stderr",
     "output_type": "stream",
     "text": [
      "\r",
      "4-echo monoexponential:  84%|████████▎ | 16869/20176 [00:26<00:05, 650.30it/s]"
     ]
    },
    {
     "name": "stderr",
     "output_type": "stream",
     "text": [
      "\r",
      "4-echo monoexponential:  84%|████████▍ | 16935/20176 [00:26<00:05, 645.57it/s]"
     ]
    },
    {
     "name": "stderr",
     "output_type": "stream",
     "text": [
      "\r",
      "4-echo monoexponential:  84%|████████▍ | 17000/20176 [00:26<00:05, 624.45it/s]"
     ]
    },
    {
     "name": "stderr",
     "output_type": "stream",
     "text": [
      "\r",
      "4-echo monoexponential:  85%|████████▍ | 17063/20176 [00:26<00:05, 615.34it/s]"
     ]
    },
    {
     "name": "stderr",
     "output_type": "stream",
     "text": [
      "\r",
      "4-echo monoexponential:  85%|████████▍ | 17128/20176 [00:27<00:04, 622.86it/s]"
     ]
    },
    {
     "name": "stderr",
     "output_type": "stream",
     "text": [
      "\r",
      "4-echo monoexponential:  85%|████████▌ | 17191/20176 [00:27<00:04, 613.55it/s]"
     ]
    },
    {
     "name": "stderr",
     "output_type": "stream",
     "text": [
      "\r",
      "4-echo monoexponential:  86%|████████▌ | 17254/20176 [00:27<00:04, 615.88it/s]"
     ]
    },
    {
     "name": "stderr",
     "output_type": "stream",
     "text": [
      "\r",
      "4-echo monoexponential:  86%|████████▌ | 17317/20176 [00:27<00:04, 619.41it/s]"
     ]
    },
    {
     "name": "stderr",
     "output_type": "stream",
     "text": [
      "\r",
      "4-echo monoexponential:  86%|████████▌ | 17385/20176 [00:27<00:04, 636.73it/s]"
     ]
    },
    {
     "name": "stderr",
     "output_type": "stream",
     "text": [
      "\r",
      "4-echo monoexponential:  86%|████████▋ | 17451/20176 [00:27<00:04, 643.56it/s]"
     ]
    },
    {
     "name": "stderr",
     "output_type": "stream",
     "text": [
      "\r",
      "4-echo monoexponential:  87%|████████▋ | 17516/20176 [00:27<00:04, 635.84it/s]"
     ]
    },
    {
     "name": "stderr",
     "output_type": "stream",
     "text": [
      "\r",
      "4-echo monoexponential:  87%|████████▋ | 17582/20176 [00:27<00:04, 641.79it/s]"
     ]
    },
    {
     "name": "stderr",
     "output_type": "stream",
     "text": [
      "\r",
      "4-echo monoexponential:  87%|████████▋ | 17647/20176 [00:27<00:04, 615.80it/s]"
     ]
    },
    {
     "name": "stderr",
     "output_type": "stream",
     "text": [
      "\r",
      "4-echo monoexponential:  88%|████████▊ | 17709/20176 [00:27<00:04, 613.49it/s]"
     ]
    },
    {
     "name": "stderr",
     "output_type": "stream",
     "text": [
      "\r",
      "4-echo monoexponential:  88%|████████▊ | 17771/20176 [00:28<00:03, 608.71it/s]"
     ]
    },
    {
     "name": "stderr",
     "output_type": "stream",
     "text": [
      "\r",
      "4-echo monoexponential:  88%|████████▊ | 17835/20176 [00:28<00:03, 617.45it/s]"
     ]
    },
    {
     "name": "stderr",
     "output_type": "stream",
     "text": [
      "\r",
      "4-echo monoexponential:  89%|████████▊ | 17897/20176 [00:28<00:03, 617.85it/s]"
     ]
    },
    {
     "name": "stderr",
     "output_type": "stream",
     "text": [
      "\r",
      "4-echo monoexponential:  89%|████████▉ | 17964/20176 [00:28<00:03, 633.20it/s]"
     ]
    },
    {
     "name": "stderr",
     "output_type": "stream",
     "text": [
      "\r",
      "4-echo monoexponential:  89%|████████▉ | 18033/20176 [00:28<00:03, 648.41it/s]"
     ]
    },
    {
     "name": "stderr",
     "output_type": "stream",
     "text": [
      "\r",
      "4-echo monoexponential:  90%|████████▉ | 18098/20176 [00:28<00:03, 644.91it/s]"
     ]
    },
    {
     "name": "stderr",
     "output_type": "stream",
     "text": [
      "\r",
      "4-echo monoexponential:  90%|█████████ | 18163/20176 [00:28<00:03, 637.86it/s]"
     ]
    },
    {
     "name": "stderr",
     "output_type": "stream",
     "text": [
      "\r",
      "4-echo monoexponential:  90%|█████████ | 18227/20176 [00:28<00:03, 619.28it/s]"
     ]
    },
    {
     "name": "stderr",
     "output_type": "stream",
     "text": [
      "\r",
      "4-echo monoexponential:  91%|█████████ | 18290/20176 [00:28<00:03, 603.33it/s]"
     ]
    },
    {
     "name": "stderr",
     "output_type": "stream",
     "text": [
      "\r",
      "4-echo monoexponential:  91%|█████████ | 18354/20176 [00:29<00:02, 608.51it/s]"
     ]
    },
    {
     "name": "stderr",
     "output_type": "stream",
     "text": [
      "\r",
      "4-echo monoexponential:  91%|█████████▏| 18415/20176 [00:29<00:02, 601.61it/s]"
     ]
    },
    {
     "name": "stderr",
     "output_type": "stream",
     "text": [
      "\r",
      "4-echo monoexponential:  92%|█████████▏| 18479/20176 [00:29<00:02, 611.05it/s]"
     ]
    },
    {
     "name": "stderr",
     "output_type": "stream",
     "text": [
      "\r",
      "4-echo monoexponential:  92%|█████████▏| 18544/20176 [00:29<00:02, 619.15it/s]"
     ]
    },
    {
     "name": "stderr",
     "output_type": "stream",
     "text": [
      "\r",
      "4-echo monoexponential:  92%|█████████▏| 18610/20176 [00:29<00:02, 630.59it/s]"
     ]
    },
    {
     "name": "stderr",
     "output_type": "stream",
     "text": [
      "\r",
      "4-echo monoexponential:  93%|█████████▎| 18674/20176 [00:29<00:02, 628.92it/s]"
     ]
    },
    {
     "name": "stderr",
     "output_type": "stream",
     "text": [
      "\r",
      "4-echo monoexponential:  93%|█████████▎| 18737/20176 [00:29<00:02, 617.09it/s]"
     ]
    },
    {
     "name": "stderr",
     "output_type": "stream",
     "text": [
      "\r",
      "4-echo monoexponential:  93%|█████████▎| 18799/20176 [00:29<00:02, 606.81it/s]"
     ]
    },
    {
     "name": "stderr",
     "output_type": "stream",
     "text": [
      "\r",
      "4-echo monoexponential:  93%|█████████▎| 18860/20176 [00:29<00:02, 607.11it/s]"
     ]
    },
    {
     "name": "stderr",
     "output_type": "stream",
     "text": [
      "\r",
      "4-echo monoexponential:  94%|█████████▍| 18923/20176 [00:29<00:02, 611.89it/s]"
     ]
    },
    {
     "name": "stderr",
     "output_type": "stream",
     "text": [
      "\r",
      "4-echo monoexponential:  94%|█████████▍| 18988/20176 [00:30<00:01, 621.11it/s]"
     ]
    },
    {
     "name": "stderr",
     "output_type": "stream",
     "text": [
      "\r",
      "4-echo monoexponential:  94%|█████████▍| 19057/20176 [00:30<00:01, 640.57it/s]"
     ]
    },
    {
     "name": "stderr",
     "output_type": "stream",
     "text": [
      "\r",
      "4-echo monoexponential:  95%|█████████▍| 19122/20176 [00:30<00:01, 643.25it/s]"
     ]
    },
    {
     "name": "stderr",
     "output_type": "stream",
     "text": [
      "\r",
      "4-echo monoexponential:  95%|█████████▌| 19187/20176 [00:30<00:01, 622.69it/s]"
     ]
    },
    {
     "name": "stderr",
     "output_type": "stream",
     "text": [
      "\r",
      "4-echo monoexponential:  95%|█████████▌| 19250/20176 [00:30<00:01, 611.70it/s]"
     ]
    },
    {
     "name": "stderr",
     "output_type": "stream",
     "text": [
      "\r",
      "4-echo monoexponential:  96%|█████████▌| 19312/20176 [00:30<00:01, 602.98it/s]"
     ]
    },
    {
     "name": "stderr",
     "output_type": "stream",
     "text": [
      "\r",
      "4-echo monoexponential:  96%|█████████▌| 19373/20176 [00:30<00:01, 594.89it/s]"
     ]
    },
    {
     "name": "stderr",
     "output_type": "stream",
     "text": [
      "\r",
      "4-echo monoexponential:  96%|█████████▋| 19436/20176 [00:30<00:01, 603.28it/s]"
     ]
    },
    {
     "name": "stderr",
     "output_type": "stream",
     "text": [
      "\r",
      "4-echo monoexponential:  97%|█████████▋| 19501/20176 [00:30<00:01, 616.72it/s]"
     ]
    },
    {
     "name": "stderr",
     "output_type": "stream",
     "text": [
      "\r",
      "4-echo monoexponential:  97%|█████████▋| 19563/20176 [00:30<00:01, 608.98it/s]"
     ]
    },
    {
     "name": "stderr",
     "output_type": "stream",
     "text": [
      "\r",
      "4-echo monoexponential:  97%|█████████▋| 19627/20176 [00:31<00:00, 615.70it/s]"
     ]
    },
    {
     "name": "stderr",
     "output_type": "stream",
     "text": [
      "\r",
      "4-echo monoexponential:  98%|█████████▊| 19690/20176 [00:31<00:00, 618.50it/s]"
     ]
    },
    {
     "name": "stderr",
     "output_type": "stream",
     "text": [
      "\r",
      "4-echo monoexponential:  98%|█████████▊| 19758/20176 [00:31<00:00, 636.46it/s]"
     ]
    },
    {
     "name": "stderr",
     "output_type": "stream",
     "text": [
      "\r",
      "4-echo monoexponential:  98%|█████████▊| 19822/20176 [00:31<00:00, 637.04it/s]"
     ]
    },
    {
     "name": "stderr",
     "output_type": "stream",
     "text": [
      "\r",
      "4-echo monoexponential:  99%|█████████▊| 19886/20176 [00:31<00:00, 617.94it/s]"
     ]
    },
    {
     "name": "stderr",
     "output_type": "stream",
     "text": [
      "\r",
      "4-echo monoexponential:  99%|█████████▉| 19948/20176 [00:31<00:00, 613.28it/s]"
     ]
    },
    {
     "name": "stderr",
     "output_type": "stream",
     "text": [
      "\r",
      "4-echo monoexponential:  99%|█████████▉| 20010/20176 [00:31<00:00, 605.64it/s]"
     ]
    },
    {
     "name": "stderr",
     "output_type": "stream",
     "text": [
      "\r",
      "4-echo monoexponential:  99%|█████████▉| 20071/20176 [00:31<00:00, 606.03it/s]"
     ]
    },
    {
     "name": "stderr",
     "output_type": "stream",
     "text": [
      "\r",
      "4-echo monoexponential: 100%|█████████▉| 20132/20176 [00:31<00:00, 602.89it/s]"
     ]
    },
    {
     "name": "stderr",
     "output_type": "stream",
     "text": [
      "\r",
      "4-echo monoexponential: 100%|██████████| 20176/20176 [00:31<00:00, 630.95it/s]"
     ]
    },
    {
     "name": "stderr",
     "output_type": "stream",
     "text": [
      "\n",
      "INFO     t2smap:t2smap_workflow:370 Calculating model fit quality metrics\n"
     ]
    },
    {
     "name": "stderr",
     "output_type": "stream",
     "text": [
      "/opt/hostedtoolcache/Python/3.10.18/x64/lib/python3.10/site-packages/tedana/decay.py:541: RuntimeWarning: Mean of empty slice\n",
      "  rmse_map = np.nanmean(rmse, axis=1)\n"
     ]
    },
    {
     "name": "stderr",
     "output_type": "stream",
     "text": [
      "INFO     t2smap:t2smap_workflow:382 Computing optimal combination\n"
     ]
    },
    {
     "name": "stderr",
     "output_type": "stream",
     "text": [
      "INFO     combine:make_optcom:192 Optimally combining data with voxel-wise T2* estimates\n"
     ]
    },
    {
     "name": "stderr",
     "output_type": "stream",
     "text": [
      "INFO     t2smap:t2smap_workflow:440 Workflow completed\n"
     ]
    },
    {
     "name": "stderr",
     "output_type": "stream",
     "text": [
      "INFO     utils:log_newsletter_info:705 Don't forget to subscribe to the tedana newsletter for updates! This is a very low volume email list.\n"
     ]
    },
    {
     "name": "stderr",
     "output_type": "stream",
     "text": [
      "INFO     utils:log_newsletter_info:709 https://groups.google.com/g/tedana-newsletter\n"
     ]
    }
   ],
   "source": [
    "workflows.t2smap_workflow(\n",
    "    data_files,\n",
    "    echo_times,\n",
    "    out_dir=out_dir,\n",
    "    mask=mask_file,\n",
    "    prefix=\"sub-04570_task-rest_space-scanner\",\n",
    "    fittype=\"curvefit\",\n",
    ")"
   ]
  },
  {
   "cell_type": "code",
   "execution_count": 4,
   "id": "1e4633bf",
   "metadata": {},
   "outputs": [
    {
     "name": "stdout",
     "output_type": "stream",
     "text": [
      "sub-04570_task-rest_space-scanner_S0map.nii.gz\n",
      "sub-04570_task-rest_space-scanner_T2starmap.nii.gz\n",
      "sub-04570_task-rest_space-scanner_dataset_description.json\n",
      "sub-04570_task-rest_space-scanner_desc-confounds_timeseries.tsv\n",
      "sub-04570_task-rest_space-scanner_desc-limited_S0map.nii.gz\n",
      "sub-04570_task-rest_space-scanner_desc-limited_T2starmap.nii.gz\n",
      "sub-04570_task-rest_space-scanner_desc-optcom_bold.nii.gz\n",
      "sub-04570_task-rest_space-scanner_desc-rmse_statmap.nii.gz\n",
      "sub-04570_task-rest_space-scanner_desc-tedana_registry.json\n"
     ]
    }
   ],
   "source": [
    "out_files = sorted(glob(os.path.join(out_dir, \"*\")))\n",
    "out_files = [os.path.basename(f) for f in out_files]\n",
    "print(\"\\n\".join(out_files))"
   ]
  },
  {
   "cell_type": "code",
   "execution_count": 5,
   "id": "42eb8390",
   "metadata": {},
   "outputs": [],
   "source": [
    "fig, ax = plt.subplots(figsize=(16, 8))\n",
    "plotting.plot_stat_map(\n",
    "    os.path.join(out_dir, \"sub-04570_task-rest_space-scanner_T2starmap.nii.gz\"),\n",
    "    vmax=0.6,\n",
    "    draw_cross=False,\n",
    "    bg_img=None,\n",
    "    figure=fig,\n",
    "    axes=ax,\n",
    ")\n",
    "glue(\"figure_t2starmap\", fig, display=False)"
   ]
  },
  {
   "cell_type": "markdown",
   "id": "29ec8593",
   "metadata": {},
   "source": [
    "```{glue:figure} figure_t2starmap\n",
    ":name: \"figure_t2starmap\"\n",
    ":align: center\n",
    "\n",
    "T2* map estimated from multi-echo data using tedana's {py:func}`~tedana.workflows.t2smap_workflow`.\n",
    "```"
   ]
  },
  {
   "cell_type": "code",
   "execution_count": 6,
   "id": "a450d5a9",
   "metadata": {},
   "outputs": [],
   "source": [
    "fig, ax = plt.subplots(figsize=(16, 8))\n",
    "plotting.plot_stat_map(\n",
    "    os.path.join(out_dir, \"sub-04570_task-rest_space-scanner_S0map.nii.gz\"),\n",
    "    vmax=8000,\n",
    "    draw_cross=False,\n",
    "    bg_img=None,\n",
    "    figure=fig,\n",
    "    axes=ax,\n",
    ")\n",
    "glue(\"figure_s0map\", fig, display=False)"
   ]
  },
  {
   "cell_type": "markdown",
   "id": "328504ab",
   "metadata": {},
   "source": [
    "```{glue:figure} figure_s0map\n",
    ":name: \"figure_s0map\"\n",
    ":align: center\n",
    "\n",
    "S0 map estimated from multi-echo data using tedana's {py:func}`~tedana.workflows.t2smap_workflow`.\n",
    "```"
   ]
  },
  {
   "cell_type": "code",
   "execution_count": 7,
   "id": "bfa4aa0a",
   "metadata": {},
   "outputs": [],
   "source": [
    "fig, axes = plt.subplots(figsize=(16, 15), nrows=5)\n",
    "plotting.plot_epi(\n",
    "    image.mean_img(data_files[0]),\n",
    "    draw_cross=False,\n",
    "    bg_img=None,\n",
    "    cut_coords=[-10, 0, 10, 20, 30, 40, 50, 60, 70],\n",
    "    display_mode=\"z\",\n",
    "    figure=fig,\n",
    "    axes=axes[0],\n",
    ")\n",
    "plotting.plot_epi(\n",
    "    image.mean_img(data_files[1]),\n",
    "    draw_cross=False,\n",
    "    bg_img=None,\n",
    "    cut_coords=[-10, 0, 10, 20, 30, 40, 50, 60, 70],\n",
    "    display_mode=\"z\",\n",
    "    figure=fig,\n",
    "    axes=axes[1],\n",
    ")\n",
    "plotting.plot_epi(\n",
    "    image.mean_img(data_files[2]),\n",
    "    draw_cross=False,\n",
    "    bg_img=None,\n",
    "    cut_coords=[-10, 0, 10, 20, 30, 40, 50, 60, 70],\n",
    "    display_mode=\"z\",\n",
    "    figure=fig,\n",
    "    axes=axes[2],\n",
    ")\n",
    "plotting.plot_epi(\n",
    "    image.mean_img(data_files[3]),\n",
    "    draw_cross=False,\n",
    "    bg_img=None,\n",
    "    cut_coords=[-10, 0, 10, 20, 30, 40, 50, 60, 70],\n",
    "    display_mode=\"z\",\n",
    "    figure=fig,\n",
    "    axes=axes[3],\n",
    ")\n",
    "plotting.plot_epi(\n",
    "    image.mean_img(\n",
    "        os.path.join(\n",
    "            out_dir, \"sub-04570_task-rest_space-scanner_desc-optcom_bold.nii.gz\"\n",
    "        )\n",
    "    ),\n",
    "    draw_cross=False,\n",
    "    bg_img=None,\n",
    "    cut_coords=[-10, 0, 10, 20, 30, 40, 50, 60, 70],\n",
    "    display_mode=\"z\",\n",
    "    figure=fig,\n",
    "    axes=axes[4],\n",
    ")\n",
    "glue(\"figure_t2smap_epi_plots\", fig, display=False)"
   ]
  },
  {
   "cell_type": "markdown",
   "id": "3b6f25b7",
   "metadata": {},
   "source": [
    "```{glue:figure} figure_t2smap_epi_plots\n",
    ":name: \"figure_t2smap_epi_plots\"\n",
    ":align: center\n",
    "\n",
    "Mean map of each of the echoes in the original data, along with the mean map of the optimally combined data.\n",
    "```"
   ]
  },
  {
   "cell_type": "code",
   "execution_count": 8,
   "id": "6bd9f308",
   "metadata": {},
   "outputs": [
    {
     "name": "stderr",
     "output_type": "stream",
     "text": [
      "<string>:1: RuntimeWarning: invalid value encountered in divide\n"
     ]
    },
    {
     "name": "stderr",
     "output_type": "stream",
     "text": [
      "/opt/hostedtoolcache/Python/3.10.18/x64/lib/python3.10/site-packages/nilearn/plotting/img_plotting.py:1317: UserWarning: Non-finite values detected. These values will be replaced with zeros.\n",
      "  safe_get_data(stat_map_img, ensure_finite=True),\n"
     ]
    }
   ],
   "source": [
    "te30_tsnr = image.math_img(\n",
    "    \"(np.nanmean(img, axis=3) / np.nanstd(img, axis=3)) * mask\",\n",
    "    img=data_files[1],\n",
    "    mask=mask_file,\n",
    ")\n",
    "oc_tsnr = image.math_img(\n",
    "    \"(np.nanmean(img, axis=3) / np.nanstd(img, axis=3)) * mask\",\n",
    "    img=os.path.join(\n",
    "        out_dir, \"sub-04570_task-rest_space-scanner_desc-optcom_bold.nii.gz\"\n",
    "    ),\n",
    "    mask=mask_file,\n",
    ")\n",
    "vmax = np.nanmax(np.abs(oc_tsnr.get_fdata()))\n",
    "\n",
    "fig, axes = plt.subplots(figsize=(10, 8), nrows=2)\n",
    "plotting.plot_stat_map(\n",
    "    te30_tsnr,\n",
    "    draw_cross=False,\n",
    "    bg_img=None,\n",
    "    threshold=0.1,\n",
    "    cut_coords=[0, 10, 10],\n",
    "    vmax=vmax,\n",
    "    symmetric_cbar=False,\n",
    "    figure=fig,\n",
    "    axes=axes[0],\n",
    ")\n",
    "axes[0].set_title(\"TE30 TSNR\", fontsize=16)\n",
    "plotting.plot_stat_map(\n",
    "    oc_tsnr,\n",
    "    draw_cross=False,\n",
    "    bg_img=None,\n",
    "    threshold=0.1,\n",
    "    cut_coords=[0, 10, 10],\n",
    "    vmax=vmax,\n",
    "    symmetric_cbar=False,\n",
    "    figure=fig,\n",
    "    axes=axes[1],\n",
    ")\n",
    "axes[1].set_title(\"Optimal Combination TSNR\", fontsize=16)\n",
    "glue(\"figure_t2smap_t2snr\", fig, display=False)"
   ]
  },
  {
   "cell_type": "markdown",
   "id": "da0f5abe",
   "metadata": {},
   "source": [
    "```{glue:figure} figure_t2smap_t2snr\n",
    ":name: \"figure_t2smap_t2snr\"\n",
    ":align: center\n",
    "\n",
    "TSNR map of each of the echoes in the original data, along with the TSNR map of the optimally combined data.\n",
    "```"
   ]
  },
  {
   "cell_type": "code",
   "execution_count": 9,
   "id": "e4f52bbc",
   "metadata": {},
   "outputs": [],
   "source": [
    "fig, ax = plt.subplots(figsize=(16, 8))\n",
    "plotting.plot_carpet(\n",
    "    data_files[1],\n",
    "    figure=fig,\n",
    "    axes=ax,\n",
    ")\n",
    "glue(\"figure_echo2_carpet\", fig, display=False)"
   ]
  },
  {
   "cell_type": "markdown",
   "id": "feb5932e",
   "metadata": {},
   "source": [
    "```{glue:figure} figure_echo2_carpet\n",
    ":name: \"figure_echo2_carpet\"\n",
    ":align: center\n",
    "\n",
    "Carpet plot of the second echo's data.\n",
    "```"
   ]
  },
  {
   "cell_type": "code",
   "execution_count": 10,
   "id": "f5271da5",
   "metadata": {},
   "outputs": [],
   "source": [
    "fig, ax = plt.subplots(figsize=(16, 8))\n",
    "plotting.plot_carpet(\n",
    "    os.path.join(out_dir, \"sub-04570_task-rest_space-scanner_desc-optcom_bold.nii.gz\"),\n",
    "    axes=ax,\n",
    ")\n",
    "glue(\"figure_optcom_carpet\", fig, display=False)"
   ]
  },
  {
   "cell_type": "markdown",
   "id": "c557a4f7",
   "metadata": {},
   "source": [
    "```{glue:figure} figure_optcom_carpet\n",
    ":name: \"figure_optcom_carpet\"\n",
    ":align: center\n",
    "\n",
    "Carpet plot of the optimally combined data.\n",
    "```"
   ]
  }
 ],
 "metadata": {
  "jupytext": {
   "text_representation": {
    "extension": ".md",
    "format_name": "myst",
    "format_version": 0.13,
    "jupytext_version": "1.10.3"
   }
  },
  "kernelspec": {
   "display_name": "Python 3",
   "language": "python",
   "name": "python3"
  },
  "language_info": {
   "codemirror_mode": {
    "name": "ipython",
    "version": 3
   },
   "file_extension": ".py",
   "mimetype": "text/x-python",
   "name": "python",
   "nbconvert_exporter": "python",
   "pygments_lexer": "ipython3",
   "version": "3.10.18"
  },
  "source_map": [
   12,
   18,
   38,
   69,
   80,
   86,
   97,
   106,
   117,
   126,
   178,
   187,
   228,
   237,
   245,
   254,
   261
  ]
 },
 "nbformat": 4,
 "nbformat_minor": 5
}