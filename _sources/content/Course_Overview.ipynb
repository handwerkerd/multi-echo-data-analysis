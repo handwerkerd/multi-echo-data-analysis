{
 "cells": [
  {
   "cell_type": "markdown",
   "id": "68b8c1f7",
   "metadata": {},
   "source": [
    "# Course Overview\n",
    "\n",
    "This book is a work-in-progress.\n",
    "\n",
    "The overall goal is to provide an understanding of how to think through\n",
    "collecting, analyzing, and interpreting multi-echo fMRI data.\n",
    "We tried to make this book accessible to someone without much\n",
    "math and physics expertise,\n",
    "but we also include equations to support people who want to understand\n",
    "multi-echo fMRI at a deeper level.\n",
    "Whenever we include equations, we try to explain the take-home message\n",
    "so that readers can follow the overall message without needing to study\n",
    "and understand every equation.\n",
    "\n",
    "This book covers several topics:\n",
    "\n",
    "- How to install the data and programs needed for running interactive examples\n",
    "- Information for understanding and thinking about acquiring multi-echo fMRI\n",
    "- How multi-echo information can be used to support noise removal in data\n",
    "- Examples and pipelines for processing and visualizing multi-echo data using multiple tools, such as AFNI, fMRIPrep and tedana."
   ]
  }
 ],
 "metadata": {
  "jupytext": {
   "text_representation": {
    "extension": ".md",
    "format_name": "myst",
    "format_version": 0.13,
    "jupytext_version": "1.10.3"
   }
  },
  "kernelspec": {
   "display_name": "Python 3",
   "language": "python",
   "name": "python3"
  },
  "source_map": [
   12
  ]
 },
 "nbformat": 4,
 "nbformat_minor": 5
}