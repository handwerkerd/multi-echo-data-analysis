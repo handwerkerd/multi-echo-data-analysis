{
 "cells": [
  {
   "cell_type": "markdown",
   "id": "b1b80806",
   "metadata": {},
   "source": [
    "# Download Data\n",
    "\n",
    "For the tutorials in this book,\n",
    "we will use partially-preprocessed data from two open multi-echo datasets: Euskalibur and Cambridge.\n",
    "For more information about these datasets, see {ref}`content:open-datasets`.\n",
    "\n",
    "```python\n",
    "import os\n",
    "from pprint import pprint\n",
    "\n",
    "from tedana import datasets\n",
    "\n",
    "DATA_DIR = os.path.abspath(\"../data\")\n",
    "\n",
    "euskalibur_dataset = datasets.fetch_euskalibur(\n",
    "    n_subjects=5,\n",
    "    low_resolution=False,\n",
    "    data_dir=DATA_DIR,\n",
    ")\n",
    "pprint(euskalibur_dataset)\n",
    "\n",
    "cambridge_dataset = datasets.fetch_cambridge(\n",
    "    n_subjects=5,\n",
    "    low_resolution=False,\n",
    "    data_dir=DATA_DIR,\n",
    ")\n",
    "pprint(cambridge_dataset)\n",
    "```\n",
    "\n",
    "For now, we will use repo2data to download some data we're storing on Google Drive."
   ]
  },
  {
   "cell_type": "code",
   "execution_count": 1,
   "id": "37546693",
   "metadata": {},
   "outputs": [
    {
     "name": "stdout",
     "output_type": "stream",
     "text": [
      "---- repo2data starting ----\n",
      "/opt/hostedtoolcache/Python/3.10.17/x64/lib/python3.10/site-packages/repo2data\n",
      "Config from file :\n",
      "../binder/data_requirement.json\n",
      "Destination:\n",
      "./../data/multi-echo-data-analysis\n",
      "\n",
      "Info : Starting to download from Google drive https://drive.google.com/uc?id=1SVPP1vd2UobKf1djztpi-DcYAFOFXQtF ...\n"
     ]
    },
    {
     "name": "stderr",
     "output_type": "stream",
     "text": [
      "Downloading...\n",
      "From (original): https://drive.google.com/uc?id=1SVPP1vd2UobKf1djztpi-DcYAFOFXQtF\n",
      "From (redirected): https://drive.google.com/uc?id=1SVPP1vd2UobKf1djztpi-DcYAFOFXQtF&confirm=t&uuid=3e26f5aa-4ee4-4950-bfcc-0af64043c2fa\n",
      "To: /home/runner/work/multi-echo-data-analysis/multi-echo-data-analysis/data/multi-echo-data-analysis/sub-04570.zip\n",
      "\r",
      "  0%|          | 0.00/315M [00:00<?, ?B/s]\r",
      "  0%|          | 524k/315M [00:00<01:13, 4.26MB/s]"
     ]
    },
    {
     "name": "stderr",
     "output_type": "stream",
     "text": [
      "\r",
      "  2%|▏         | 6.82M/315M [00:00<00:13, 22.0MB/s]"
     ]
    },
    {
     "name": "stderr",
     "output_type": "stream",
     "text": [
      "\r",
      "  4%|▎         | 11.0M/315M [00:00<00:14, 20.7MB/s]"
     ]
    },
    {
     "name": "stderr",
     "output_type": "stream",
     "text": [
      "\r",
      "  5%|▍         | 15.2M/315M [00:00<00:17, 17.4MB/s]"
     ]
    },
    {
     "name": "stderr",
     "output_type": "stream",
     "text": [
      "\r",
      "  6%|▌         | 19.4M/315M [00:01<00:19, 15.4MB/s]\r",
      "  8%|▊         | 23.6M/315M [00:01<00:16, 18.2MB/s]"
     ]
    },
    {
     "name": "stderr",
     "output_type": "stream",
     "text": [
      "\r",
      "  8%|▊         | 25.7M/315M [00:01<00:20, 14.3MB/s]\r",
      " 10%|▉         | 29.9M/315M [00:01<00:17, 16.5MB/s]"
     ]
    },
    {
     "name": "stderr",
     "output_type": "stream",
     "text": [
      "\r",
      " 10%|█         | 32.0M/315M [00:01<00:16, 16.8MB/s]\r",
      " 12%|█▏        | 36.2M/315M [00:02<00:12, 21.4MB/s]"
     ]
    },
    {
     "name": "stderr",
     "output_type": "stream",
     "text": [
      "\r",
      " 14%|█▎        | 42.5M/315M [00:02<00:10, 25.0MB/s]\r",
      " 15%|█▍        | 46.7M/315M [00:02<00:09, 28.2MB/s]"
     ]
    },
    {
     "name": "stderr",
     "output_type": "stream",
     "text": [
      "\r",
      " 16%|█▌        | 50.9M/315M [00:02<00:09, 26.7MB/s]\r",
      " 18%|█▊        | 57.1M/315M [00:02<00:08, 29.3MB/s]"
     ]
    },
    {
     "name": "stderr",
     "output_type": "stream",
     "text": [
      "\r",
      " 20%|██        | 63.4M/315M [00:02<00:08, 31.0MB/s]\r",
      " 22%|██▏       | 67.6M/315M [00:02<00:07, 31.7MB/s]"
     ]
    },
    {
     "name": "stderr",
     "output_type": "stream",
     "text": [
      "\r",
      " 24%|██▎       | 73.9M/315M [00:03<00:07, 32.8MB/s]\r",
      " 26%|██▌       | 80.2M/315M [00:03<00:06, 37.5MB/s]"
     ]
    },
    {
     "name": "stderr",
     "output_type": "stream",
     "text": [
      "\r",
      " 27%|██▋       | 84.4M/315M [00:03<00:06, 37.3MB/s]\r",
      " 29%|██▉       | 92.3M/315M [00:03<00:04, 46.9MB/s]"
     ]
    },
    {
     "name": "stderr",
     "output_type": "stream",
     "text": [
      "\r",
      " 31%|███       | 97.5M/315M [00:03<00:04, 46.0MB/s]\r",
      " 33%|███▎      | 103M/315M [00:03<00:05, 41.0MB/s] "
     ]
    },
    {
     "name": "stderr",
     "output_type": "stream",
     "text": [
      "\r",
      " 37%|███▋      | 116M/315M [00:03<00:03, 51.2MB/s]\r",
      " 39%|███▊      | 121M/315M [00:04<00:04, 45.2MB/s]"
     ]
    },
    {
     "name": "stderr",
     "output_type": "stream",
     "text": [
      "\r",
      " 42%|████▏     | 133M/315M [00:04<00:03, 53.1MB/s]\r",
      " 45%|████▍     | 141M/315M [00:04<00:02, 59.7MB/s]"
     ]
    },
    {
     "name": "stderr",
     "output_type": "stream",
     "text": [
      "\r",
      " 47%|████▋     | 147M/315M [00:04<00:02, 58.3MB/s]\r",
      " 49%|████▉     | 155M/315M [00:04<00:02, 62.0MB/s]"
     ]
    },
    {
     "name": "stderr",
     "output_type": "stream",
     "text": [
      "\r",
      " 52%|█████▏    | 164M/315M [00:04<00:02, 52.5MB/s]"
     ]
    },
    {
     "name": "stderr",
     "output_type": "stream",
     "text": [
      "\r",
      " 58%|█████▊    | 181M/315M [00:05<00:02, 63.1MB/s]\r",
      " 62%|██████▏   | 193M/315M [00:05<00:01, 70.8MB/s]"
     ]
    },
    {
     "name": "stderr",
     "output_type": "stream",
     "text": [
      "\r",
      " 64%|██████▍   | 201M/315M [00:05<00:01, 69.3MB/s]\r",
      " 68%|██████▊   | 213M/315M [00:05<00:01, 80.6MB/s]"
     ]
    },
    {
     "name": "stderr",
     "output_type": "stream",
     "text": [
      "\r",
      " 71%|███████   | 222M/315M [00:05<00:01, 68.3MB/s]\r",
      " 75%|███████▍  | 235M/315M [00:05<00:01, 77.5MB/s]"
     ]
    },
    {
     "name": "stderr",
     "output_type": "stream",
     "text": [
      "\r",
      " 79%|███████▉  | 248M/315M [00:05<00:00, 85.9MB/s]\r",
      " 83%|████████▎ | 261M/315M [00:05<00:00, 93.4MB/s]"
     ]
    },
    {
     "name": "stderr",
     "output_type": "stream",
     "text": [
      "\r",
      " 86%|████████▌ | 271M/315M [00:06<00:00, 76.3MB/s]\r",
      " 91%|█████████ | 286M/315M [00:06<00:00, 93.2MB/s]"
     ]
    },
    {
     "name": "stderr",
     "output_type": "stream",
     "text": [
      "\r",
      " 94%|█████████▍| 296M/315M [00:06<00:00, 95.0MB/s]\r",
      " 99%|█████████▊| 310M/315M [00:06<00:00, 105MB/s] \r",
      "100%|██████████| 315M/315M [00:06<00:00, 48.5MB/s]\n",
      "INFO patool: Extracting ./../data/multi-echo-data-analysis/sub-04570.zip ...\n"
     ]
    },
    {
     "name": "stderr",
     "output_type": "stream",
     "text": [
      "INFO patool: running /usr/bin/7z x -y -p- -aou -o./../data/multi-echo-data-analysis -- ./../data/multi-echo-data-analysis/sub-04570.zip\n"
     ]
    },
    {
     "name": "stderr",
     "output_type": "stream",
     "text": [
      "INFO patool: ... ./../data/multi-echo-data-analysis/sub-04570.zip extracted to `./../data/multi-echo-data-analysis'.\n"
     ]
    },
    {
     "name": "stdout",
     "output_type": "stream",
     "text": [
      "Info : sub-04570.zip Decompressed\n"
     ]
    }
   ],
   "source": [
    "import os\n",
    "\n",
    "from repo2data.repo2data import Repo2Data\n",
    "\n",
    "# Install the data if running locally, or point to cached data if running on neurolibre\n",
    "DATA_REQ_FILE = os.path.join(\"../binder/data_requirement.json\")\n",
    "\n",
    "# Download data\n",
    "repo2data = Repo2Data(DATA_REQ_FILE)\n",
    "data_path = repo2data.install()\n",
    "data_path = os.path.abspath(data_path[0])"
   ]
  }
 ],
 "metadata": {
  "jupytext": {
   "text_representation": {
    "extension": ".md",
    "format_name": "myst",
    "format_version": 0.13,
    "jupytext_version": "1.10.3"
   }
  },
  "kernelspec": {
   "display_name": "Python 3",
   "language": "python",
   "name": "python3"
  },
  "language_info": {
   "codemirror_mode": {
    "name": "ipython",
    "version": 3
   },
   "file_extension": ".py",
   "mimetype": "text/x-python",
   "name": "python",
   "nbconvert_exporter": "python",
   "pygments_lexer": "ipython3",
   "version": "3.10.17"
  },
  "source_map": [
   12,
   45
  ]
 },
 "nbformat": 4,
 "nbformat_minor": 5
}