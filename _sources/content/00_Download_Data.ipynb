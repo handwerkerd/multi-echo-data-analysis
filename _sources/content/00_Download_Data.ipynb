{
 "cells": [
  {
   "cell_type": "markdown",
   "id": "73ef33c1",
   "metadata": {},
   "source": [
    "# Download Data\n",
    "\n",
    "For the tutorials in this book,\n",
    "we will use partially-preprocessed data from two open multi-echo datasets: Euskalibur and Cambridge.\n",
    "For more information about these datasets, see {ref}`content:open-datasets`.\n",
    "\n",
    "```python\n",
    "import os\n",
    "from pprint import pprint\n",
    "\n",
    "from tedana import datasets\n",
    "\n",
    "DATA_DIR = os.path.abspath(\"../data\")\n",
    "\n",
    "euskalibur_dataset = datasets.fetch_euskalibur(\n",
    "    n_subjects=5,\n",
    "    low_resolution=False,\n",
    "    data_dir=DATA_DIR,\n",
    ")\n",
    "pprint(euskalibur_dataset)\n",
    "\n",
    "cambridge_dataset = datasets.fetch_cambridge(\n",
    "    n_subjects=5,\n",
    "    low_resolution=False,\n",
    "    data_dir=DATA_DIR,\n",
    ")\n",
    "pprint(cambridge_dataset)\n",
    "```\n",
    "\n",
    "For now, we will use repo2data to download some data we're storing on Google Drive."
   ]
  },
  {
   "cell_type": "code",
   "execution_count": 1,
   "id": "1dd2af99",
   "metadata": {},
   "outputs": [
    {
     "name": "stdout",
     "output_type": "stream",
     "text": [
      "---- repo2data starting ----\n",
      "/opt/hostedtoolcache/Python/3.10.17/x64/lib/python3.10/site-packages/repo2data\n",
      "Config from file :\n",
      "../binder/data_requirement.json\n",
      "Destination:\n",
      "./../data/multi-echo-data-analysis\n",
      "\n",
      "Info : Starting to download from Google drive https://drive.google.com/uc?id=1SVPP1vd2UobKf1djztpi-DcYAFOFXQtF ...\n"
     ]
    },
    {
     "name": "stderr",
     "output_type": "stream",
     "text": [
      "Downloading...\n",
      "From (original): https://drive.google.com/uc?id=1SVPP1vd2UobKf1djztpi-DcYAFOFXQtF\n",
      "From (redirected): https://drive.google.com/uc?id=1SVPP1vd2UobKf1djztpi-DcYAFOFXQtF&confirm=t&uuid=fa1a0441-3a63-4f86-bbb4-034578ac62da\n",
      "To: /home/runner/work/multi-echo-data-analysis/multi-echo-data-analysis/data/multi-echo-data-analysis/sub-04570.zip\n",
      "\r",
      "  0%|          | 0.00/315M [00:00<?, ?B/s]\r",
      "  0%|          | 524k/315M [00:00<01:14, 4.23MB/s]"
     ]
    },
    {
     "name": "stderr",
     "output_type": "stream",
     "text": [
      "\r",
      "  2%|▏         | 6.82M/315M [00:00<00:12, 24.5MB/s]"
     ]
    },
    {
     "name": "stderr",
     "output_type": "stream",
     "text": [
      "\r",
      "  4%|▎         | 11.0M/315M [00:00<00:15, 19.4MB/s]\r",
      "  5%|▍         | 15.2M/315M [00:00<00:14, 20.6MB/s]"
     ]
    },
    {
     "name": "stderr",
     "output_type": "stream",
     "text": [
      "\r",
      "  6%|▌         | 19.4M/315M [00:00<00:13, 22.6MB/s]\r",
      "  8%|▊         | 23.6M/315M [00:01<00:11, 24.7MB/s]"
     ]
    },
    {
     "name": "stderr",
     "output_type": "stream",
     "text": [
      "\r",
      "  9%|▉         | 27.8M/315M [00:01<00:11, 25.2MB/s]\r",
      " 10%|▉         | 30.4M/315M [00:01<00:11, 25.3MB/s]"
     ]
    },
    {
     "name": "stderr",
     "output_type": "stream",
     "text": [
      "\r",
      " 12%|█▏        | 36.2M/315M [00:01<00:10, 26.8MB/s]\r",
      " 14%|█▎        | 42.5M/315M [00:01<00:09, 29.5MB/s]"
     ]
    },
    {
     "name": "stderr",
     "output_type": "stream",
     "text": [
      "\r",
      " 16%|█▌        | 48.8M/315M [00:01<00:08, 32.2MB/s]\r",
      " 17%|█▋        | 52.4M/315M [00:01<00:08, 30.4MB/s]"
     ]
    },
    {
     "name": "stderr",
     "output_type": "stream",
     "text": [
      "\r",
      " 18%|█▊        | 57.7M/315M [00:02<00:07, 35.1MB/s]"
     ]
    },
    {
     "name": "stderr",
     "output_type": "stream",
     "text": [
      "\r",
      " 20%|█▉        | 61.9M/315M [00:02<00:09, 27.9MB/s]\r",
      " 22%|██▏       | 68.7M/315M [00:02<00:06, 36.0MB/s]"
     ]
    },
    {
     "name": "stderr",
     "output_type": "stream",
     "text": [
      "\r",
      " 23%|██▎       | 73.4M/315M [00:02<00:06, 35.9MB/s]\r",
      " 25%|██▍       | 78.1M/315M [00:02<00:07, 32.6MB/s]"
     ]
    },
    {
     "name": "stderr",
     "output_type": "stream",
     "text": [
      "\r",
      " 28%|██▊       | 88.6M/315M [00:02<00:05, 42.6MB/s]\r",
      " 30%|███       | 94.9M/315M [00:03<00:05, 41.6MB/s]"
     ]
    },
    {
     "name": "stderr",
     "output_type": "stream",
     "text": [
      "\r",
      " 34%|███▎      | 105M/315M [00:03<00:04, 47.8MB/s] \r",
      " 36%|███▌      | 112M/315M [00:03<00:04, 50.7MB/s]"
     ]
    },
    {
     "name": "stderr",
     "output_type": "stream",
     "text": [
      "\r",
      " 38%|███▊      | 118M/315M [00:03<00:03, 51.8MB/s]\r",
      " 41%|████      | 128M/315M [00:03<00:03, 55.1MB/s]"
     ]
    },
    {
     "name": "stderr",
     "output_type": "stream",
     "text": [
      "\r",
      " 44%|████▍     | 138M/315M [00:03<00:02, 64.9MB/s]\r",
      " 46%|████▋     | 146M/315M [00:03<00:02, 66.5MB/s]"
     ]
    },
    {
     "name": "stderr",
     "output_type": "stream",
     "text": [
      "\r",
      " 49%|████▊     | 153M/315M [00:04<00:03, 48.8MB/s]\r",
      " 52%|█████▏    | 164M/315M [00:04<00:02, 57.1MB/s]"
     ]
    },
    {
     "name": "stderr",
     "output_type": "stream",
     "text": [
      "\r",
      " 54%|█████▍    | 171M/315M [00:04<00:02, 53.0MB/s]\r",
      " 58%|█████▊    | 183M/315M [00:04<00:02, 60.8MB/s]"
     ]
    },
    {
     "name": "stderr",
     "output_type": "stream",
     "text": [
      "\r",
      " 60%|██████    | 190M/315M [00:04<00:02, 58.5MB/s]\r",
      " 64%|██████▎   | 200M/315M [00:04<00:01, 68.6MB/s]"
     ]
    },
    {
     "name": "stderr",
     "output_type": "stream",
     "text": [
      "\r",
      " 66%|██████▌   | 208M/315M [00:04<00:01, 65.9MB/s]\r",
      " 69%|██████▉   | 217M/315M [00:04<00:01, 71.5MB/s]"
     ]
    },
    {
     "name": "stderr",
     "output_type": "stream",
     "text": [
      "\r",
      " 71%|███████▏  | 224M/315M [00:05<00:01, 60.4MB/s]\r",
      " 77%|███████▋  | 241M/315M [00:05<00:00, 84.0MB/s]"
     ]
    },
    {
     "name": "stderr",
     "output_type": "stream",
     "text": [
      "\r",
      " 80%|███████▉  | 250M/315M [00:05<00:00, 76.2MB/s]\r",
      " 84%|████████▎ | 263M/315M [00:05<00:00, 87.7MB/s]"
     ]
    },
    {
     "name": "stderr",
     "output_type": "stream",
     "text": [
      "\r",
      " 87%|████████▋ | 273M/315M [00:05<00:00, 78.9MB/s]\r",
      " 92%|█████████▏| 289M/315M [00:05<00:00, 99.6MB/s]"
     ]
    },
    {
     "name": "stderr",
     "output_type": "stream",
     "text": [
      "\r",
      " 96%|█████████▌| 300M/315M [00:05<00:00, 97.6MB/s]\r",
      " 99%|█████████▉| 311M/315M [00:06<00:00, 97.8MB/s]\r",
      "100%|██████████| 315M/315M [00:06<00:00, 51.8MB/s]\n",
      "INFO patool: Extracting ./../data/multi-echo-data-analysis/sub-04570.zip ...\n"
     ]
    },
    {
     "name": "stderr",
     "output_type": "stream",
     "text": [
      "INFO patool: running /usr/bin/7z x -y -p- -aou -o./../data/multi-echo-data-analysis -- ./../data/multi-echo-data-analysis/sub-04570.zip\n"
     ]
    },
    {
     "name": "stderr",
     "output_type": "stream",
     "text": [
      "INFO patool: ... ./../data/multi-echo-data-analysis/sub-04570.zip extracted to `./../data/multi-echo-data-analysis'.\n"
     ]
    },
    {
     "name": "stdout",
     "output_type": "stream",
     "text": [
      "Info : sub-04570.zip Decompressed\n"
     ]
    }
   ],
   "source": [
    "import os\n",
    "\n",
    "from repo2data.repo2data import Repo2Data\n",
    "\n",
    "# Install the data if running locally, or point to cached data if running on neurolibre\n",
    "DATA_REQ_FILE = os.path.join(\"../binder/data_requirement.json\")\n",
    "\n",
    "# Download data\n",
    "repo2data = Repo2Data(DATA_REQ_FILE)\n",
    "data_path = repo2data.install()\n",
    "data_path = os.path.abspath(data_path[0])"
   ]
  }
 ],
 "metadata": {
  "jupytext": {
   "text_representation": {
    "extension": ".md",
    "format_name": "myst",
    "format_version": 0.13,
    "jupytext_version": "1.10.3"
   }
  },
  "kernelspec": {
   "display_name": "Python 3",
   "language": "python",
   "name": "python3"
  },
  "language_info": {
   "codemirror_mode": {
    "name": "ipython",
    "version": 3
   },
   "file_extension": ".py",
   "mimetype": "text/x-python",
   "name": "python",
   "nbconvert_exporter": "python",
   "pygments_lexer": "ipython3",
   "version": "3.10.17"
  },
  "source_map": [
   12,
   45
  ]
 },
 "nbformat": 4,
 "nbformat_minor": 5
}